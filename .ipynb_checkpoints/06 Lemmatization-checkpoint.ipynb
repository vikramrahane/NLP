{
 "cells": [
  {
   "cell_type": "code",
   "execution_count": 1,
   "id": "145451dd",
   "metadata": {},
   "outputs": [],
   "source": [
    "word1='cat','catty','catlike','cats'  # datatype tuple\n",
    "word2='playing','plays', 'played', 'players'\n",
    "word3= 'go','went','gone','going','goes'\n",
    "word4= 'goods', 'better','best','fasting', 'reachable'\n",
    "word5='program','programmed', 'programming', 'programatic'"
   ]
  },
  {
   "cell_type": "code",
   "execution_count": 2,
   "id": "caf5c8c5",
   "metadata": {},
   "outputs": [],
   "source": [
    "from nltk.stem import WordNetLemmatizer"
   ]
  },
  {
   "cell_type": "code",
   "execution_count": 3,
   "id": "ab02a6ea",
   "metadata": {},
   "outputs": [],
   "source": [
    "wnl= WordNetLemmatizer()"
   ]
  },
  {
   "cell_type": "code",
   "execution_count": 5,
   "id": "217e44be",
   "metadata": {},
   "outputs": [
    {
     "data": {
      "text/plain": [
       "'play'"
      ]
     },
     "execution_count": 5,
     "metadata": {},
     "output_type": "execute_result"
    }
   ],
   "source": [
    "#v-> verb, n->noun, a->adjective, r->adverb\n",
    "wnl.lemmatize(word2[0],pos='v')"
   ]
  },
  {
   "cell_type": "code",
   "execution_count": 15,
   "id": "7ec3872f",
   "metadata": {},
   "outputs": [
    {
     "name": "stdout",
     "output_type": "stream",
     "text": [
      "cat\n",
      "catty\n",
      "catlike\n",
      "cat\n"
     ]
    }
   ],
   "source": [
    "for word in word1:\n",
    "    print(wnl.lemmatize(word, pos='n'))"
   ]
  },
  {
   "cell_type": "code",
   "execution_count": 11,
   "id": "2a635775",
   "metadata": {},
   "outputs": [
    {
     "name": "stdout",
     "output_type": "stream",
     "text": [
      "play\n",
      "play\n",
      "play\n",
      "players\n"
     ]
    }
   ],
   "source": [
    "for word in word2:\n",
    "    print(wnl.lemmatize(word, pos='v'))"
   ]
  },
  {
   "cell_type": "code",
   "execution_count": 12,
   "id": "340000bd",
   "metadata": {},
   "outputs": [
    {
     "name": "stdout",
     "output_type": "stream",
     "text": [
      "go\n",
      "go\n",
      "go\n",
      "go\n",
      "go\n"
     ]
    }
   ],
   "source": [
    "for word in word3:\n",
    "    print(wnl.lemmatize(word,pos='v'))"
   ]
  },
  {
   "cell_type": "code",
   "execution_count": 13,
   "id": "afefd1eb",
   "metadata": {},
   "outputs": [
    {
     "name": "stdout",
     "output_type": "stream",
     "text": [
      "goods\n",
      "good\n",
      "best\n",
      "fasting\n",
      "reachable\n"
     ]
    }
   ],
   "source": [
    "for word in word4:\n",
    "    print(wnl.lemmatize(word,pos='a'))"
   ]
  },
  {
   "cell_type": "code",
   "execution_count": 14,
   "id": "62a226b0",
   "metadata": {},
   "outputs": [
    {
     "name": "stdout",
     "output_type": "stream",
     "text": [
      "program\n",
      "program\n",
      "program\n",
      "programatic\n"
     ]
    }
   ],
   "source": [
    "for word in word5:\n",
    "    print(wnl.lemmatize(word,pos='v'))"
   ]
  },
  {
   "cell_type": "code",
   "execution_count": null,
   "id": "913d512d",
   "metadata": {},
   "outputs": [],
   "source": []
  }
 ],
 "metadata": {
  "kernelspec": {
   "display_name": "Python 3 (ipykernel)",
   "language": "python",
   "name": "python3"
  },
  "language_info": {
   "codemirror_mode": {
    "name": "ipython",
    "version": 3
   },
   "file_extension": ".py",
   "mimetype": "text/x-python",
   "name": "python",
   "nbconvert_exporter": "python",
   "pygments_lexer": "ipython3",
   "version": "3.11.4"
  }
 },
 "nbformat": 4,
 "nbformat_minor": 5
}
