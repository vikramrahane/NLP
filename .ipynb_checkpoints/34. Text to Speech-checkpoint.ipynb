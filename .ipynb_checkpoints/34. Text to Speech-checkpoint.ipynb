{
 "cells": [
  {
   "cell_type": "markdown",
   "id": "ccc79f2b",
   "metadata": {},
   "source": [
    "!pip install gtts playsound"
   ]
  },
  {
   "cell_type": "code",
   "execution_count": 2,
   "id": "92a85ab1",
   "metadata": {},
   "outputs": [],
   "source": [
    "from gtts import gTTS              #class\n",
    "from playsound import playsound    #method"
   ]
  },
  {
   "cell_type": "markdown",
   "id": "795d2494",
   "metadata": {},
   "source": [
    "### Create the object"
   ]
  },
  {
   "cell_type": "code",
   "execution_count": 3,
   "id": "1ddabade",
   "metadata": {},
   "outputs": [],
   "source": [
    "tts = gTTS(text='Hello Friends, Chai peelo',lang='en')"
   ]
  },
  {
   "cell_type": "markdown",
   "id": "bcf93174",
   "metadata": {},
   "source": [
    "### Save and play the audio"
   ]
  },
  {
   "cell_type": "code",
   "execution_count": 4,
   "id": "f733ef7b",
   "metadata": {},
   "outputs": [],
   "source": [
    "tts.save('speech.mp3')\n",
    "playsound('speech.mp3')"
   ]
  },
  {
   "cell_type": "markdown",
   "id": "1345b7de",
   "metadata": {},
   "source": [
    "# Marathi"
   ]
  },
  {
   "cell_type": "code",
   "execution_count": 20,
   "id": "a752fa5d",
   "metadata": {},
   "outputs": [],
   "source": [
    "tts1= gTTS(text='''कितीदा नव्याने तुला आठवावे?\n",
    "हेपत बया''', lang='mr')"
   ]
  },
  {
   "cell_type": "code",
   "execution_count": 21,
   "id": "386c4ccc",
   "metadata": {},
   "outputs": [],
   "source": [
    "tts1.save('speech_marathi.mp3')\n",
    "playsound('speech_marathi.mp3')"
   ]
  },
  {
   "cell_type": "code",
   "execution_count": null,
   "id": "dd40c72b",
   "metadata": {},
   "outputs": [],
   "source": []
  },
  {
   "cell_type": "code",
   "execution_count": 22,
   "id": "58c9d7f9",
   "metadata": {},
   "outputs": [],
   "source": [
    "tts2 = gTTS(text='''\n",
    "\n",
    "Hey.. hey..\n",
    "\n",
    "A B C D E F G H I J K L M N O P Q R S T U V W X Y Z\n",
    "\n",
    "I love you!\n",
    "\n",
    "A B C D E F G H I J K L M N O P Q R S T U V W X Y Z\n",
    "\n",
    "I love you!\n",
    "\n",
    "\n",
    "Chhuttiyon ke yeh din hain suhaane\n",
    "\n",
    "Saathi tera yoon saath rahe\n",
    "\n",
    "Bachchon ke sang bachche phir ban jaayein\n",
    "\n",
    "Mauj mein jhoomein zara masti karein\n",
    "\n",
    "Banke baadal haaye\n",
    "\n",
    "Banke panchhi haaye haaye\n",
    "\n",
    "Udte rahein\n",
    "\n",
    "Kya baat hai jijaji\n",
    "\n",
    "A B C D E F G H I J K L M N O P Q R S T U V W X Y Z\n",
    "\n",
    "I love you!\n",
    "\n",
    "\n",
    "Apne gaanv ki galiyon mein chalein hum\n",
    "\n",
    "Bachapan ki yaadon mein khoya hai man\n",
    "\n",
    "Baahein thaame teen bhaaiyon ki\n",
    "\n",
    "Thumkegi phir se unki behan\n",
    "\n",
    "Savan ke jhoolon se haaye\n",
    "\n",
    "Baabul ke aangan se haaye haaye\n",
    "\n",
    "Hoga milan\n",
    "\n",
    "Jiji how emotional\n",
    "\n",
    "A B C D E F G H I J K L M N O P Q R S T U V W X Y Z\n",
    "\n",
    "Oo hoo hoo we love you!\n",
    "\n",
    "\n",
    "La la la la la la la la la..\n",
    "\n",
    "La la la la la la la la la..\n",
    "\n",
    "\n",
    "Thandi thandi yeh hawaein humko\n",
    "\n",
    "Chupke chupke kya kehti suno\n",
    "\n",
    "Manzil hai kareeb ab hamare\n",
    "\n",
    "Bolein ghataayein khushiyaan chuno\n",
    "\n",
    "Nazrein chura ke dil mein chhupa ke sapne buno\n",
    "\n",
    "Dude how romantic!\n",
    "\n",
    "A B C D E F G H I J K L M N O P Q R S T U V W X Y Z\n",
    "\n",
    "I love you!\n",
    "\n",
    "\n",
    "A B C D E F G H I.. N O P Q R S T U V... Y Z\n",
    "\n",
    "I love you!\n",
    "\n",
    "I love you!\n",
    "\n",
    "I love you!''',lang='en')"
   ]
  },
  {
   "cell_type": "code",
   "execution_count": 23,
   "id": "ed1bbca0",
   "metadata": {},
   "outputs": [
    {
     "ename": "KeyboardInterrupt",
     "evalue": "",
     "output_type": "error",
     "traceback": [
      "\u001b[0;31m---------------------------------------------------------------------------\u001b[0m",
      "\u001b[0;31mKeyboardInterrupt\u001b[0m                         Traceback (most recent call last)",
      "Cell \u001b[0;32mIn[23], line 2\u001b[0m\n\u001b[1;32m      1\u001b[0m tts2\u001b[38;5;241m.\u001b[39msave(\u001b[38;5;124m'\u001b[39m\u001b[38;5;124mspeech_abcd.mp3\u001b[39m\u001b[38;5;124m'\u001b[39m)\n\u001b[0;32m----> 2\u001b[0m playsound(\u001b[38;5;124m'\u001b[39m\u001b[38;5;124mspeech_abcd.mp3\u001b[39m\u001b[38;5;124m'\u001b[39m)\n",
      "File \u001b[0;32m~/anaconda3/lib/python3.11/site-packages/playsound.py:254\u001b[0m, in \u001b[0;36m<lambda>\u001b[0;34m(sound, block)\u001b[0m\n\u001b[1;32m    252\u001b[0m         \u001b[38;5;28;01mexcept\u001b[39;00m:\n\u001b[1;32m    253\u001b[0m             logger\u001b[38;5;241m.\u001b[39mwarning(\u001b[38;5;124m\"\u001b[39m\u001b[38;5;124mplaysound is relying on another python subprocess. Please use `pip install pygobject` if you want playsound to run more efficiently.\u001b[39m\u001b[38;5;124m\"\u001b[39m)\n\u001b[0;32m--> 254\u001b[0m             playsound \u001b[38;5;241m=\u001b[39m \u001b[38;5;28;01mlambda\u001b[39;00m sound, block \u001b[38;5;241m=\u001b[39m \u001b[38;5;28;01mTrue\u001b[39;00m: _playsoundAnotherPython(\u001b[38;5;124m'\u001b[39m\u001b[38;5;124m/usr/bin/python3\u001b[39m\u001b[38;5;124m'\u001b[39m, sound, block, macOS \u001b[38;5;241m=\u001b[39m \u001b[38;5;28;01mFalse\u001b[39;00m)\n\u001b[1;32m    256\u001b[0m \u001b[38;5;28;01mdel\u001b[39;00m system\n\u001b[1;32m    258\u001b[0m \u001b[38;5;28;01mif\u001b[39;00m \u001b[38;5;18m__name__\u001b[39m \u001b[38;5;241m==\u001b[39m \u001b[38;5;124m'\u001b[39m\u001b[38;5;124m__main__\u001b[39m\u001b[38;5;124m'\u001b[39m:\n\u001b[1;32m    259\u001b[0m     \u001b[38;5;66;03m# block is always True if you choose to run this from the command line.\u001b[39;00m\n",
      "File \u001b[0;32m~/anaconda3/lib/python3.11/site-packages/playsound.py:229\u001b[0m, in \u001b[0;36m_playsoundAnotherPython\u001b[0;34m(otherPython, sound, block, macOS)\u001b[0m\n\u001b[1;32m    227\u001b[0m t\u001b[38;5;241m.\u001b[39mstart()\n\u001b[1;32m    228\u001b[0m \u001b[38;5;28;01mif\u001b[39;00m block:\n\u001b[0;32m--> 229\u001b[0m     t\u001b[38;5;241m.\u001b[39mjoin()\n",
      "File \u001b[0;32m~/anaconda3/lib/python3.11/site-packages/playsound.py:216\u001b[0m, in \u001b[0;36m_playsoundAnotherPython.<locals>.PropogatingThread.join\u001b[0;34m(self, timeout)\u001b[0m\n\u001b[1;32m    215\u001b[0m \u001b[38;5;28;01mdef\u001b[39;00m \u001b[38;5;21mjoin\u001b[39m(\u001b[38;5;28mself\u001b[39m, timeout \u001b[38;5;241m=\u001b[39m \u001b[38;5;28;01mNone\u001b[39;00m):\n\u001b[0;32m--> 216\u001b[0m     \u001b[38;5;28msuper\u001b[39m()\u001b[38;5;241m.\u001b[39mjoin(timeout)\n\u001b[1;32m    217\u001b[0m     \u001b[38;5;28;01mif\u001b[39;00m \u001b[38;5;28mself\u001b[39m\u001b[38;5;241m.\u001b[39mexc:\n\u001b[1;32m    218\u001b[0m         \u001b[38;5;28;01mraise\u001b[39;00m \u001b[38;5;28mself\u001b[39m\u001b[38;5;241m.\u001b[39mexc\n",
      "File \u001b[0;32m~/anaconda3/lib/python3.11/threading.py:1112\u001b[0m, in \u001b[0;36mThread.join\u001b[0;34m(self, timeout)\u001b[0m\n\u001b[1;32m   1109\u001b[0m     \u001b[38;5;28;01mraise\u001b[39;00m \u001b[38;5;167;01mRuntimeError\u001b[39;00m(\u001b[38;5;124m\"\u001b[39m\u001b[38;5;124mcannot join current thread\u001b[39m\u001b[38;5;124m\"\u001b[39m)\n\u001b[1;32m   1111\u001b[0m \u001b[38;5;28;01mif\u001b[39;00m timeout \u001b[38;5;129;01mis\u001b[39;00m \u001b[38;5;28;01mNone\u001b[39;00m:\n\u001b[0;32m-> 1112\u001b[0m     \u001b[38;5;28mself\u001b[39m\u001b[38;5;241m.\u001b[39m_wait_for_tstate_lock()\n\u001b[1;32m   1113\u001b[0m \u001b[38;5;28;01melse\u001b[39;00m:\n\u001b[1;32m   1114\u001b[0m     \u001b[38;5;66;03m# the behavior of a negative timeout isn't documented, but\u001b[39;00m\n\u001b[1;32m   1115\u001b[0m     \u001b[38;5;66;03m# historically .join(timeout=x) for x<0 has acted as if timeout=0\u001b[39;00m\n\u001b[1;32m   1116\u001b[0m     \u001b[38;5;28mself\u001b[39m\u001b[38;5;241m.\u001b[39m_wait_for_tstate_lock(timeout\u001b[38;5;241m=\u001b[39m\u001b[38;5;28mmax\u001b[39m(timeout, \u001b[38;5;241m0\u001b[39m))\n",
      "File \u001b[0;32m~/anaconda3/lib/python3.11/threading.py:1132\u001b[0m, in \u001b[0;36mThread._wait_for_tstate_lock\u001b[0;34m(self, block, timeout)\u001b[0m\n\u001b[1;32m   1129\u001b[0m     \u001b[38;5;28;01mreturn\u001b[39;00m\n\u001b[1;32m   1131\u001b[0m \u001b[38;5;28;01mtry\u001b[39;00m:\n\u001b[0;32m-> 1132\u001b[0m     \u001b[38;5;28;01mif\u001b[39;00m lock\u001b[38;5;241m.\u001b[39macquire(block, timeout):\n\u001b[1;32m   1133\u001b[0m         lock\u001b[38;5;241m.\u001b[39mrelease()\n\u001b[1;32m   1134\u001b[0m         \u001b[38;5;28mself\u001b[39m\u001b[38;5;241m.\u001b[39m_stop()\n",
      "\u001b[0;31mKeyboardInterrupt\u001b[0m: "
     ]
    }
   ],
   "source": [
    "tts2.save('speech_abcd.mp3')\n",
    "playsound('speech_abcd.mp3')"
   ]
  },
  {
   "cell_type": "code",
   "execution_count": null,
   "id": "848dd2f6",
   "metadata": {},
   "outputs": [],
   "source": []
  }
 ],
 "metadata": {
  "kernelspec": {
   "display_name": "Python 3 (ipykernel)",
   "language": "python",
   "name": "python3"
  },
  "language_info": {
   "codemirror_mode": {
    "name": "ipython",
    "version": 3
   },
   "file_extension": ".py",
   "mimetype": "text/x-python",
   "name": "python",
   "nbconvert_exporter": "python",
   "pygments_lexer": "ipython3",
   "version": "3.11.4"
  }
 },
 "nbformat": 4,
 "nbformat_minor": 5
}
