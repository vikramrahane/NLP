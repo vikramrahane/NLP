{
 "cells": [
  {
   "cell_type": "markdown",
   "id": "dfbd6c27",
   "metadata": {},
   "source": [
    "!pip install indic_transliteration"
   ]
  },
  {
   "cell_type": "code",
   "execution_count": 2,
   "id": "db19e6c4",
   "metadata": {},
   "outputs": [],
   "source": [
    "from indic_transliteration import sanscript\n",
    "from indic_transliteration.sanscript import transliterate"
   ]
  },
  {
   "cell_type": "code",
   "execution_count": 13,
   "id": "1f2ccd2d",
   "metadata": {},
   "outputs": [],
   "source": [
    "data = 'pradhyumn thoTe'"
   ]
  },
  {
   "cell_type": "code",
   "execution_count": 14,
   "id": "c6f95d57",
   "metadata": {},
   "outputs": [
    {
     "name": "stdout",
     "output_type": "stream",
     "text": [
      "प्रध्युम्न् थोटे\n"
     ]
    }
   ],
   "source": [
    "print(transliterate(data,sanscript.ITRANS,sanscript.DEVANAGARI))"
   ]
  },
  {
   "cell_type": "code",
   "execution_count": 15,
   "id": "b29edf32",
   "metadata": {},
   "outputs": [
    {
     "name": "stdout",
     "output_type": "stream",
     "text": [
      "প্রধ্যুম্ন্ থোটে\n"
     ]
    }
   ],
   "source": [
    "print(transliterate(data,sanscript.ITRANS,sanscript.BENGALI))"
   ]
  },
  {
   "cell_type": "code",
   "execution_count": 16,
   "id": "fbbcd36a",
   "metadata": {},
   "outputs": [
    {
     "name": "stdout",
     "output_type": "stream",
     "text": [
      "પ્રધ્યુમ્ન્ થોટે\n"
     ]
    }
   ],
   "source": [
    "print(transliterate(data,sanscript.ITRANS,sanscript.GUJARATI))"
   ]
  },
  {
   "cell_type": "code",
   "execution_count": 17,
   "id": "964540d1",
   "metadata": {},
   "outputs": [
    {
     "name": "stdout",
     "output_type": "stream",
     "text": [
      "ಪ್ರಧ್ಯುಮ್ನ್ ಥೋಟೇ\n"
     ]
    }
   ],
   "source": [
    "print(transliterate(data,sanscript.ITRANS,sanscript.KANNADA))"
   ]
  },
  {
   "cell_type": "code",
   "execution_count": 18,
   "id": "d13dc886",
   "metadata": {},
   "outputs": [
    {
     "name": "stdout",
     "output_type": "stream",
     "text": [
      "ப்ரத்யும்ந் தோடே\n"
     ]
    }
   ],
   "source": [
    "print(transliterate(data,sanscript.ITRANS,sanscript.TAMIL))"
   ]
  },
  {
   "cell_type": "code",
   "execution_count": 20,
   "id": "69162b1e",
   "metadata": {},
   "outputs": [
    {
     "name": "stdout",
     "output_type": "stream",
     "text": [
      "pradhyumn thōṭē\n"
     ]
    }
   ],
   "source": [
    "print(transliterate(data,sanscript.ITRANS,sanscript.KOLKATA))"
   ]
  },
  {
   "cell_type": "code",
   "execution_count": 27,
   "id": "fe9013f4",
   "metadata": {},
   "outputs": [
    {
     "name": "stdout",
     "output_type": "stream",
     "text": [
      "Enter your name: atharva tejaaLe\n",
      "अथर्व तेजाळे\n"
     ]
    }
   ],
   "source": [
    "data1 = input(\"Enter your name: \")\n",
    "print(transliterate(data1,sanscript.ITRANS,sanscript.DEVANAGARI))"
   ]
  },
  {
   "cell_type": "code",
   "execution_count": null,
   "id": "bf304dc6",
   "metadata": {},
   "outputs": [],
   "source": []
  }
 ],
 "metadata": {
  "kernelspec": {
   "display_name": "Python 3 (ipykernel)",
   "language": "python",
   "name": "python3"
  },
  "language_info": {
   "codemirror_mode": {
    "name": "ipython",
    "version": 3
   },
   "file_extension": ".py",
   "mimetype": "text/x-python",
   "name": "python",
   "nbconvert_exporter": "python",
   "pygments_lexer": "ipython3",
   "version": "3.11.4"
  }
 },
 "nbformat": 4,
 "nbformat_minor": 5
}
