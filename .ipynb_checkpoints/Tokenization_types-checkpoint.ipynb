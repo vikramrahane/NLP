{
 "cells": [
  {
   "cell_type": "markdown",
   "id": "c709975f",
   "metadata": {},
   "source": [
    "### Sentence Tokenizer"
   ]
  },
  {
   "cell_type": "code",
   "execution_count": 1,
   "id": "998b7f40",
   "metadata": {},
   "outputs": [],
   "source": [
    "sents='''Hello friends!\n",
    "How are you? Welcome to Python Programming.'''"
   ]
  },
  {
   "cell_type": "code",
   "execution_count": 2,
   "id": "15e3789f",
   "metadata": {},
   "outputs": [],
   "source": [
    "from nltk.tokenize import sent_tokenize"
   ]
  },
  {
   "cell_type": "code",
   "execution_count": 3,
   "id": "205b3d9d",
   "metadata": {},
   "outputs": [],
   "source": [
    "sent_list= sent_tokenize(sents)"
   ]
  },
  {
   "cell_type": "code",
   "execution_count": 4,
   "id": "9e91438d",
   "metadata": {},
   "outputs": [
    {
     "data": {
      "text/plain": [
       "['Hello friends!', 'How are you?', 'Welcome to Python Programming.']"
      ]
     },
     "execution_count": 4,
     "metadata": {},
     "output_type": "execute_result"
    }
   ],
   "source": [
    "sent_list"
   ]
  },
  {
   "cell_type": "markdown",
   "id": "0de49eb0",
   "metadata": {},
   "source": [
    "###  word tokenizer"
   ]
  },
  {
   "cell_type": "code",
   "execution_count": 5,
   "id": "d7995c1b",
   "metadata": {},
   "outputs": [],
   "source": [
    "from nltk.tokenize import word_tokenize"
   ]
  },
  {
   "cell_type": "code",
   "execution_count": 6,
   "id": "e2d0f70c",
   "metadata": {},
   "outputs": [],
   "source": [
    "words= word_tokenize(sents)"
   ]
  },
  {
   "cell_type": "code",
   "execution_count": 7,
   "id": "74f06952",
   "metadata": {},
   "outputs": [
    {
     "data": {
      "text/plain": [
       "['Hello',\n",
       " 'friends',\n",
       " '!',\n",
       " 'How',\n",
       " 'are',\n",
       " 'you',\n",
       " '?',\n",
       " 'Welcome',\n",
       " 'to',\n",
       " 'Python',\n",
       " 'Programming',\n",
       " '.']"
      ]
     },
     "execution_count": 7,
     "metadata": {},
     "output_type": "execute_result"
    }
   ],
   "source": [
    "words"
   ]
  },
  {
   "cell_type": "code",
   "execution_count": 8,
   "id": "b536e422",
   "metadata": {},
   "outputs": [],
   "source": [
    "import string"
   ]
  },
  {
   "cell_type": "code",
   "execution_count": 9,
   "id": "57ccaa3e",
   "metadata": {},
   "outputs": [
    {
     "data": {
      "text/plain": [
       "'!\"#$%&\\'()*+,-./:;<=>?@[\\\\]^_`{|}~'"
      ]
     },
     "execution_count": 9,
     "metadata": {},
     "output_type": "execute_result"
    }
   ],
   "source": [
    "string.punctuation"
   ]
  },
  {
   "cell_type": "code",
   "execution_count": 10,
   "id": "c9a81bac",
   "metadata": {},
   "outputs": [],
   "source": [
    "## How many percentage of punctuation symbols present in given text"
   ]
  },
  {
   "cell_type": "code",
   "execution_count": 11,
   "id": "14316207",
   "metadata": {},
   "outputs": [
    {
     "data": {
      "text/plain": [
       "25.0"
      ]
     },
     "execution_count": 11,
     "metadata": {},
     "output_type": "execute_result"
    }
   ],
   "source": [
    "p_cnt=0\n",
    "for i in words:\n",
    "    if i in string.punctuation:\n",
    "        p_cnt+=1\n",
    "per=p_cnt/len(words)*100\n",
    "per"
   ]
  },
  {
   "cell_type": "code",
   "execution_count": 12,
   "id": "ba48a062",
   "metadata": {},
   "outputs": [
    {
     "data": {
      "text/plain": [
       "0.25"
      ]
     },
     "execution_count": 12,
     "metadata": {},
     "output_type": "execute_result"
    }
   ],
   "source": [
    "puncts=[ token for token in word_tokenize(sents)\n",
    "       if token in string.punctuation]\n",
    "len(puncts)/len(word_tokenize(sents))"
   ]
  },
  {
   "cell_type": "code",
   "execution_count": 13,
   "id": "b4eccfd1",
   "metadata": {},
   "outputs": [
    {
     "data": {
      "text/plain": [
       "['!', '?', '.']"
      ]
     },
     "execution_count": 13,
     "metadata": {},
     "output_type": "execute_result"
    }
   ],
   "source": [
    "puncts"
   ]
  },
  {
   "cell_type": "markdown",
   "id": "f067b918",
   "metadata": {},
   "source": [
    "### white-space tokenizer"
   ]
  },
  {
   "cell_type": "code",
   "execution_count": 14,
   "id": "70cce85c",
   "metadata": {},
   "outputs": [],
   "source": [
    "from nltk.tokenize import WhitespaceTokenizer"
   ]
  },
  {
   "cell_type": "code",
   "execution_count": 15,
   "id": "5cf78313",
   "metadata": {},
   "outputs": [],
   "source": [
    "tk=WhitespaceTokenizer()"
   ]
  },
  {
   "cell_type": "code",
   "execution_count": 16,
   "id": "f8e35cb3",
   "metadata": {},
   "outputs": [],
   "source": [
    "sents='''Hello friends!\n",
    "How are you? Welcome to Python Programming.'''"
   ]
  },
  {
   "cell_type": "code",
   "execution_count": 17,
   "id": "d41c4d7d",
   "metadata": {},
   "outputs": [
    {
     "data": {
      "text/plain": [
       "['Hello',\n",
       " 'friends!',\n",
       " 'How',\n",
       " 'are',\n",
       " 'you?',\n",
       " 'Welcome',\n",
       " 'to',\n",
       " 'Python',\n",
       " 'Programming.']"
      ]
     },
     "execution_count": 17,
     "metadata": {},
     "output_type": "execute_result"
    }
   ],
   "source": [
    "tk.tokenize(sents)"
   ]
  },
  {
   "cell_type": "markdown",
   "id": "f39015c3",
   "metadata": {},
   "source": [
    "### space tokenizer"
   ]
  },
  {
   "cell_type": "code",
   "execution_count": 18,
   "id": "bb565fb1",
   "metadata": {},
   "outputs": [],
   "source": [
    "from nltk.tokenize import SpaceTokenizer  # Only Space use as seperator"
   ]
  },
  {
   "cell_type": "code",
   "execution_count": 19,
   "id": "e3c369df",
   "metadata": {},
   "outputs": [],
   "source": [
    "tk=SpaceTokenizer()"
   ]
  },
  {
   "cell_type": "code",
   "execution_count": 20,
   "id": "764af602",
   "metadata": {},
   "outputs": [
    {
     "data": {
      "text/plain": [
       "['Hello',\n",
       " 'friends!\\nHow',\n",
       " 'are',\n",
       " 'you?',\n",
       " 'Welcome',\n",
       " 'to',\n",
       " 'Python',\n",
       " 'Programming.']"
      ]
     },
     "execution_count": 20,
     "metadata": {},
     "output_type": "execute_result"
    }
   ],
   "source": [
    "tk.tokenize(sents)"
   ]
  },
  {
   "cell_type": "markdown",
   "id": "7275827f",
   "metadata": {},
   "source": [
    "## Line Tokenizer"
   ]
  },
  {
   "cell_type": "code",
   "execution_count": 21,
   "id": "bd92f953",
   "metadata": {},
   "outputs": [],
   "source": [
    "from nltk.tokenize import LineTokenizer"
   ]
  },
  {
   "cell_type": "code",
   "execution_count": 22,
   "id": "836730b2",
   "metadata": {},
   "outputs": [],
   "source": [
    "tk=LineTokenizer()"
   ]
  },
  {
   "cell_type": "code",
   "execution_count": 23,
   "id": "9f164803",
   "metadata": {},
   "outputs": [
    {
     "data": {
      "text/plain": [
       "['Hello friends!', 'How are you? Welcome to Python Programming.']"
      ]
     },
     "execution_count": 23,
     "metadata": {},
     "output_type": "execute_result"
    }
   ],
   "source": [
    "tk.tokenize(sents)"
   ]
  },
  {
   "cell_type": "markdown",
   "id": "1e31782f",
   "metadata": {},
   "source": [
    "### Tab tokenizer"
   ]
  },
  {
   "cell_type": "code",
   "execution_count": 24,
   "id": "228a37b9",
   "metadata": {},
   "outputs": [],
   "source": [
    "sents='''Hello friends!\n",
    "How are you? Welcome to\\tPython Programming.'''"
   ]
  },
  {
   "cell_type": "code",
   "execution_count": 25,
   "id": "aefba0db",
   "metadata": {},
   "outputs": [
    {
     "name": "stdout",
     "output_type": "stream",
     "text": [
      "Hello friends!\n",
      "How are you? Welcome to\tPython Programming.\n"
     ]
    }
   ],
   "source": [
    "print(sents)"
   ]
  },
  {
   "cell_type": "code",
   "execution_count": 28,
   "id": "455e61d4",
   "metadata": {},
   "outputs": [
    {
     "data": {
      "text/plain": [
       "['Hello friends!\\nHow are you? Welcome to', 'Python Programming.']"
      ]
     },
     "execution_count": 28,
     "metadata": {},
     "output_type": "execute_result"
    }
   ],
   "source": [
    "from nltk.tokenize import TabTokenizer\n",
    "tk=TabTokenizer()\n",
    "tk.tokenize(sents)"
   ]
  },
  {
   "cell_type": "markdown",
   "id": "0ebb63b5",
   "metadata": {},
   "source": [
    "### tweet tokenizer"
   ]
  },
  {
   "cell_type": "code",
   "execution_count": 29,
   "id": "0aa3d561",
   "metadata": {},
   "outputs": [],
   "source": [
    "from nltk.tokenize import TweetTokenizer"
   ]
  },
  {
   "cell_type": "code",
   "execution_count": 37,
   "id": "d5a7f2b8",
   "metadata": {},
   "outputs": [],
   "source": [
    "sent='''Hello friends! :)\n",
    "How are you? <3 Welcometo #python Programming :D\n",
    "Check my web : https://python.org'''"
   ]
  },
  {
   "cell_type": "code",
   "execution_count": 38,
   "id": "03982858",
   "metadata": {},
   "outputs": [
    {
     "name": "stdout",
     "output_type": "stream",
     "text": [
      "Hello friends! :)\n",
      "How are you? <3 Welcometo #python Programming :D\n",
      "Check my web : https://python.org\n"
     ]
    }
   ],
   "source": [
    "print(sent)"
   ]
  },
  {
   "cell_type": "code",
   "execution_count": 39,
   "id": "cc993e87",
   "metadata": {},
   "outputs": [
    {
     "data": {
      "text/plain": [
       "['Hello',\n",
       " 'friends',\n",
       " '!',\n",
       " ':)',\n",
       " 'How',\n",
       " 'are',\n",
       " 'you',\n",
       " '?',\n",
       " '<3',\n",
       " 'Welcometo',\n",
       " '#python',\n",
       " 'Programming',\n",
       " ':D',\n",
       " 'Check',\n",
       " 'my',\n",
       " 'web',\n",
       " ':',\n",
       " 'https://python.org']"
      ]
     },
     "execution_count": 39,
     "metadata": {},
     "output_type": "execute_result"
    }
   ],
   "source": [
    "tk =TweetTokenizer()\n",
    "tk.tokenize(sent)"
   ]
  },
  {
   "cell_type": "code",
   "execution_count": 43,
   "id": "438d8471",
   "metadata": {},
   "outputs": [],
   "source": [
    "sent='''Hello friends! 👽\n",
    "How are you? <3 Welcometo #python Programming👺\n",
    "Check my web : https://python.org'''"
   ]
  },
  {
   "cell_type": "code",
   "execution_count": 44,
   "id": "b0e28990",
   "metadata": {},
   "outputs": [
    {
     "name": "stdout",
     "output_type": "stream",
     "text": [
      "Hello friends! 👽\n",
      "How are you? <3 Welcometo #python Programming👺\n",
      "Check my web : https://python.org\n"
     ]
    }
   ],
   "source": [
    "print(sent)"
   ]
  },
  {
   "cell_type": "code",
   "execution_count": 45,
   "id": "3a1ba61b",
   "metadata": {},
   "outputs": [
    {
     "data": {
      "text/plain": [
       "['Hello',\n",
       " 'friends',\n",
       " '!',\n",
       " '👽',\n",
       " 'How',\n",
       " 'are',\n",
       " 'you',\n",
       " '?',\n",
       " '<3',\n",
       " 'Welcometo',\n",
       " '#python',\n",
       " 'Programming',\n",
       " '👺',\n",
       " 'Check',\n",
       " 'my',\n",
       " 'web',\n",
       " ':',\n",
       " 'https://python.org']"
      ]
     },
     "execution_count": 45,
     "metadata": {},
     "output_type": "execute_result"
    }
   ],
   "source": [
    "tk =TweetTokenizer()\n",
    "tk.tokenize(sent)"
   ]
  },
  {
   "cell_type": "code",
   "execution_count": 46,
   "id": "d6927fdb",
   "metadata": {},
   "outputs": [
    {
     "data": {
      "text/plain": [
       "['Hello',\n",
       " 'friends',\n",
       " '!',\n",
       " '👽',\n",
       " 'How',\n",
       " 'are',\n",
       " 'you',\n",
       " '?',\n",
       " '<',\n",
       " '3',\n",
       " 'Welcometo',\n",
       " '#',\n",
       " 'python',\n",
       " 'Programming👺',\n",
       " 'Check',\n",
       " 'my',\n",
       " 'web',\n",
       " ':',\n",
       " 'https',\n",
       " ':',\n",
       " '//python.org']"
      ]
     },
     "execution_count": 46,
     "metadata": {},
     "output_type": "execute_result"
    }
   ],
   "source": [
    "word_tokenize(sent)"
   ]
  },
  {
   "cell_type": "markdown",
   "id": "43562373",
   "metadata": {},
   "source": [
    "### Multi-word Expression Tokenizer"
   ]
  },
  {
   "cell_type": "code",
   "execution_count": 47,
   "id": "21155b84",
   "metadata": {},
   "outputs": [],
   "source": [
    "from nltk.tokenize import MWETokenizer"
   ]
  },
  {
   "cell_type": "code",
   "execution_count": 48,
   "id": "522b6ca5",
   "metadata": {},
   "outputs": [],
   "source": [
    "sent=\"Van Rossom is in pune today. We welcomed Van Rossom here\""
   ]
  },
  {
   "cell_type": "code",
   "execution_count": 51,
   "id": "b013302b",
   "metadata": {},
   "outputs": [],
   "source": [
    "tk=MWETokenizer()\n",
    "tk.add_mwe(('Van','Rossom'))"
   ]
  },
  {
   "cell_type": "code",
   "execution_count": 52,
   "id": "09254f2d",
   "metadata": {},
   "outputs": [
    {
     "data": {
      "text/plain": [
       "['Van_Rossom',\n",
       " 'is',\n",
       " 'in',\n",
       " 'pune',\n",
       " 'today',\n",
       " '.',\n",
       " 'We',\n",
       " 'welcomed',\n",
       " 'Van_Rossom',\n",
       " 'here']"
      ]
     },
     "execution_count": 52,
     "metadata": {},
     "output_type": "execute_result"
    }
   ],
   "source": [
    "tk.tokenize(word_tokenize(sent))"
   ]
  },
  {
   "cell_type": "code",
   "execution_count": 56,
   "id": "9ba87cf8",
   "metadata": {},
   "outputs": [],
   "source": [
    "tk=MWETokenizer(separator=' ')\n",
    "tk.add_mwe(('Van','Rossom'))"
   ]
  },
  {
   "cell_type": "code",
   "execution_count": 57,
   "id": "dd6e5146",
   "metadata": {},
   "outputs": [
    {
     "data": {
      "text/plain": [
       "['Van Rossom',\n",
       " 'is',\n",
       " 'in',\n",
       " 'pune',\n",
       " 'today',\n",
       " '.',\n",
       " 'We',\n",
       " 'welcomed',\n",
       " 'Van Rossom',\n",
       " 'here']"
      ]
     },
     "execution_count": 57,
     "metadata": {},
     "output_type": "execute_result"
    }
   ],
   "source": [
    "tk.tokenize(word_tokenize(sent))"
   ]
  },
  {
   "cell_type": "markdown",
   "id": "e8bbe9cc",
   "metadata": {},
   "source": [
    "## Custom Tokenizer"
   ]
  },
  {
   "cell_type": "code",
   "execution_count": 64,
   "id": "e07e6ec8",
   "metadata": {},
   "outputs": [],
   "source": [
    "import re"
   ]
  },
  {
   "cell_type": "code",
   "execution_count": 76,
   "id": "da5addc5",
   "metadata": {},
   "outputs": [],
   "source": [
    "def custom_tokenizer(text):\n",
    "    return re.split(r\"[.,;?#!\\s]+\",text)  # \\s - white-space"
   ]
  },
  {
   "cell_type": "code",
   "execution_count": 77,
   "id": "d68d8c54",
   "metadata": {},
   "outputs": [],
   "source": [
    "sents='''Hello friends!\n",
    "How are you? Wel.come to\\tPython Progra#mming.'''"
   ]
  },
  {
   "cell_type": "code",
   "execution_count": 78,
   "id": "5fb2d631",
   "metadata": {},
   "outputs": [
    {
     "data": {
      "text/plain": [
       "['Hello',\n",
       " 'friends',\n",
       " 'How',\n",
       " 'are',\n",
       " 'you',\n",
       " 'Wel',\n",
       " 'come',\n",
       " 'to',\n",
       " 'Python',\n",
       " 'Progra',\n",
       " 'mming',\n",
       " '']"
      ]
     },
     "execution_count": 78,
     "metadata": {},
     "output_type": "execute_result"
    }
   ],
   "source": [
    "custom_tokenizer(sents)"
   ]
  },
  {
   "cell_type": "code",
   "execution_count": 79,
   "id": "7580223f",
   "metadata": {},
   "outputs": [],
   "source": [
    "## https://mitu.co.in/dataset\n",
    "## student3.csv"
   ]
  },
  {
   "cell_type": "code",
   "execution_count": 88,
   "id": "566ea0d2",
   "metadata": {},
   "outputs": [],
   "source": [
    "f=open(\"student3.tsv\")"
   ]
  },
  {
   "cell_type": "code",
   "execution_count": 89,
   "id": "19094777",
   "metadata": {},
   "outputs": [],
   "source": [
    "data=f.read()"
   ]
  },
  {
   "cell_type": "code",
   "execution_count": 90,
   "id": "0e0d50c1",
   "metadata": {},
   "outputs": [
    {
     "name": "stdout",
     "output_type": "stream",
     "text": [
      "roll\tname\tclass\tmarks\tage\n",
      "1\tanil\tTE\t56.77\t22\n",
      "2\tamit\tTE\t59.77\t21\n",
      "3\taniket\tBE\t76.88\t19\n",
      "4\tajinkya\tTE\t69.66\t20\n",
      "5\tasha\tTE\t63.28\t20\n",
      "6\tayesha\tBE\t49.55\t20\n",
      "7\tamar\tBE\t65.34\t19\n",
      "8\tamita\tBE\t68.33\t23\n",
      "9\tamol\tTE\t56.75\t20\n",
      "10\tanmol\tBE\t78.66\t21\n",
      "\n"
     ]
    }
   ],
   "source": [
    "print(data)"
   ]
  },
  {
   "cell_type": "code",
   "execution_count": 101,
   "id": "89164ee8",
   "metadata": {},
   "outputs": [
    {
     "data": {
      "text/plain": [
       "'roll\\tname\\tclass\\tmarks\\tage\\n1\\tanil\\tTE\\t56.77\\t22\\n2\\tamit\\tTE\\t59.77\\t21\\n3\\taniket\\tBE\\t76.88\\t19\\n4\\tajinkya\\tTE\\t69.66\\t20\\n5\\tasha\\tTE\\t63.28\\t20\\n6\\tayesha\\tBE\\t49.55\\t20\\n7\\tamar\\tBE\\t65.34\\t19\\n8\\tamita\\tBE\\t68.33\\t23\\n9\\tamol\\tTE\\t56.75\\t20\\n10\\tanmol\\tBE\\t78.66\\t21\\n'"
      ]
     },
     "execution_count": 101,
     "metadata": {},
     "output_type": "execute_result"
    }
   ],
   "source": [
    "data"
   ]
  },
  {
   "cell_type": "code",
   "execution_count": 108,
   "id": "7ba10eb9",
   "metadata": {},
   "outputs": [],
   "source": [
    "tk=LineTokenizer()"
   ]
  },
  {
   "cell_type": "code",
   "execution_count": 109,
   "id": "27e6eb96",
   "metadata": {},
   "outputs": [],
   "source": [
    "tab_tk=TabTokenizer()"
   ]
  },
  {
   "cell_type": "code",
   "execution_count": 110,
   "id": "098c3e6a",
   "metadata": {},
   "outputs": [],
   "source": [
    "rec=[]\n",
    "for i in tk.tokenize(data):\n",
    "    rec.append(tab_tk.tokenize(i))"
   ]
  },
  {
   "cell_type": "code",
   "execution_count": 111,
   "id": "01814f23",
   "metadata": {},
   "outputs": [
    {
     "data": {
      "text/plain": [
       "[['roll', 'name', 'class', 'marks', 'age'],\n",
       " ['1', 'anil', 'TE', '56.77', '22'],\n",
       " ['2', 'amit', 'TE', '59.77', '21'],\n",
       " ['3', 'aniket', 'BE', '76.88', '19'],\n",
       " ['4', 'ajinkya', 'TE', '69.66', '20'],\n",
       " ['5', 'asha', 'TE', '63.28', '20'],\n",
       " ['6', 'ayesha', 'BE', '49.55', '20'],\n",
       " ['7', 'amar', 'BE', '65.34', '19'],\n",
       " ['8', 'amita', 'BE', '68.33', '23'],\n",
       " ['9', 'amol', 'TE', '56.75', '20'],\n",
       " ['10', 'anmol', 'BE', '78.66', '21']]"
      ]
     },
     "execution_count": 111,
     "metadata": {},
     "output_type": "execute_result"
    }
   ],
   "source": [
    "rec"
   ]
  },
  {
   "cell_type": "code",
   "execution_count": 112,
   "id": "a9b2fdb9",
   "metadata": {},
   "outputs": [
    {
     "name": "stdout",
     "output_type": "stream",
     "text": [
      "anmol\n"
     ]
    }
   ],
   "source": [
    "max=rec[1][3]\n",
    "ind=rec[1][1]\n",
    "for i in rec[1:]:\n",
    "    if i[3]>max:\n",
    "        ind=i[1]     \n",
    "print(ind)        "
   ]
  },
  {
   "cell_type": "code",
   "execution_count": null,
   "id": "46277284",
   "metadata": {},
   "outputs": [],
   "source": []
  }
 ],
 "metadata": {
  "kernelspec": {
   "display_name": "Python 3 (ipykernel)",
   "language": "python",
   "name": "python3"
  },
  "language_info": {
   "codemirror_mode": {
    "name": "ipython",
    "version": 3
   },
   "file_extension": ".py",
   "mimetype": "text/x-python",
   "name": "python",
   "nbconvert_exporter": "python",
   "pygments_lexer": "ipython3",
   "version": "3.11.4"
  }
 },
 "nbformat": 4,
 "nbformat_minor": 5
}
