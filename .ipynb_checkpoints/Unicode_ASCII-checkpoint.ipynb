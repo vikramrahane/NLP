{
 "cells": [
  {
   "cell_type": "code",
   "execution_count": 1,
   "id": "069f5932",
   "metadata": {},
   "outputs": [
    {
     "data": {
      "text/plain": [
       "86"
      ]
     },
     "execution_count": 1,
     "metadata": {},
     "output_type": "execute_result"
    }
   ],
   "source": [
    "ord('V')  # Green color is pre build function"
   ]
  },
  {
   "cell_type": "code",
   "execution_count": 2,
   "id": "14f9cb34",
   "metadata": {},
   "outputs": [
    {
     "data": {
      "text/plain": [
       "32"
      ]
     },
     "execution_count": 2,
     "metadata": {},
     "output_type": "execute_result"
    }
   ],
   "source": [
    "ord(' ') # ord gives ASCII/UNICODE value"
   ]
  },
  {
   "cell_type": "code",
   "execution_count": 3,
   "id": "f483bdc1",
   "metadata": {},
   "outputs": [
    {
     "data": {
      "text/plain": [
       "126"
      ]
     },
     "execution_count": 3,
     "metadata": {},
     "output_type": "execute_result"
    }
   ],
   "source": [
    "ord('~')"
   ]
  },
  {
   "cell_type": "code",
   "execution_count": 4,
   "id": "c73b5e12",
   "metadata": {},
   "outputs": [
    {
     "data": {
      "text/plain": [
       "'½'"
      ]
     },
     "execution_count": 4,
     "metadata": {},
     "output_type": "execute_result"
    }
   ],
   "source": [
    "chr(189)"
   ]
  },
  {
   "cell_type": "code",
   "execution_count": 5,
   "id": "8e6a128e",
   "metadata": {},
   "outputs": [
    {
     "data": {
      "text/plain": [
       "'¾'"
      ]
     },
     "execution_count": 5,
     "metadata": {},
     "output_type": "execute_result"
    }
   ],
   "source": [
    "chr(190)"
   ]
  },
  {
   "cell_type": "code",
   "execution_count": 6,
   "id": "04fc154a",
   "metadata": {},
   "outputs": [
    {
     "name": "stdout",
     "output_type": "stream",
     "text": [
      "          ",
      "                                                         ¡  ¢  £  ¤  ¥  ¦  §  ¨  ©  ª  «  ¬  ­  ®  ¯  °  ±  ²  ³  ´  µ  ¶  ·  ¸  ¹  º  »  ¼  ½  ¾  ¿  À  Á  Â  Ã  Ä  Å  Æ  Ç  È  É  Ê  Ë  Ì  Í  Î  Ï  Ð  Ñ  Ò  Ó  Ô  Õ  Ö  ×  Ø  Ù  Ú  Û  Ü  Ý  Þ  ß  à  á  â  ã  ä  å  æ  ç  è  é  ê  ë  ì  í  î  ï  ð  ñ  ò  ó  ô  õ  ö  ÷  ø  ù  ú  û  ü  ý  þ  ÿ  "
     ]
    }
   ],
   "source": [
    "for i in range(128,256):\n",
    "    print(chr(i),end=\"  \")"
   ]
  },
  {
   "cell_type": "code",
   "execution_count": 7,
   "id": "534a41ab",
   "metadata": {},
   "outputs": [
    {
     "data": {
      "text/plain": [
       "'4'"
      ]
     },
     "execution_count": 7,
     "metadata": {},
     "output_type": "execute_result"
    }
   ],
   "source": [
    "chr(0x34)   # Hexadecimal Numbers"
   ]
  },
  {
   "cell_type": "code",
   "execution_count": 8,
   "id": "765cea18",
   "metadata": {},
   "outputs": [
    {
     "data": {
      "text/plain": [
       "'ÿ'"
      ]
     },
     "execution_count": 8,
     "metadata": {},
     "output_type": "execute_result"
    }
   ],
   "source": [
    "chr(0xff)"
   ]
  },
  {
   "cell_type": "code",
   "execution_count": 9,
   "id": "7b1bbaa3",
   "metadata": {},
   "outputs": [
    {
     "data": {
      "text/plain": [
       "'ऐ'"
      ]
     },
     "execution_count": 9,
     "metadata": {},
     "output_type": "execute_result"
    }
   ],
   "source": [
    "chr(0x0910)   # Devnagri Script stars from 900 onwards"
   ]
  },
  {
   "cell_type": "code",
   "execution_count": 10,
   "id": "092dbeaf",
   "metadata": {},
   "outputs": [
    {
     "name": "stdout",
     "output_type": "stream",
     "text": [
      "ऀ  ँ  ं  ः  ऄ  अ  आ  इ  ई  उ  ऊ  ऋ  ऌ  ऍ  ऎ  ए  ऐ  ऑ  ऒ  ओ  औ  क  ख  ग  घ  ङ  च  छ  ज  झ  ञ  ट  ठ  ड  ढ  ण  त  थ  द  ध  न  ऩ  प  फ  ब  भ  म  य  र  ऱ  ल  ळ  ऴ  व  श  ष  स  ह  ऺ  ऻ  ़  ऽ  ा  ि  ी  ु  ू  ृ  ॄ  ॅ  ॆ  े  ै  ॉ  ॊ  ो  ौ  ्  ॎ  ॏ  ॐ  ॑  ॒  ॓  ॔  ॕ  ॖ  ॗ  क़  ख़  ग़  ज़  ड़  ढ़  फ़  य़  ॠ  ॡ  ॢ  ॣ  ।  ॥  ०  १  २  ३  ४  ५  ६  ७  ८  ९  ॰  ॱ  ॲ  ॳ  ॴ  "
     ]
    }
   ],
   "source": [
    "for i in range(0x0900,0x0975):\n",
    "    print(chr(i),end=\"  \")"
   ]
  },
  {
   "cell_type": "code",
   "execution_count": 11,
   "id": "c88585ae",
   "metadata": {},
   "outputs": [
    {
     "data": {
      "text/plain": [
       "'कॅ'"
      ]
     },
     "execution_count": 11,
     "metadata": {},
     "output_type": "execute_result"
    }
   ],
   "source": [
    "'\\u0915\\u0945'"
   ]
  },
  {
   "cell_type": "code",
   "execution_count": 12,
   "id": "f7f3a1f9",
   "metadata": {},
   "outputs": [
    {
     "data": {
      "text/plain": [
       "'च'"
      ]
     },
     "execution_count": 12,
     "metadata": {},
     "output_type": "execute_result"
    }
   ],
   "source": [
    "chr(0x091A) "
   ]
  },
  {
   "cell_type": "code",
   "execution_count": 13,
   "id": "35b89a55",
   "metadata": {},
   "outputs": [
    {
     "data": {
      "text/plain": [
       "'कॅच'"
      ]
     },
     "execution_count": 13,
     "metadata": {},
     "output_type": "execute_result"
    }
   ],
   "source": [
    "'\\u0915\\u0945\\u091A'"
   ]
  },
  {
   "cell_type": "code",
   "execution_count": 14,
   "id": "12c7f546",
   "metadata": {},
   "outputs": [
    {
     "data": {
      "text/plain": [
       "'₹'"
      ]
     },
     "execution_count": 14,
     "metadata": {},
     "output_type": "execute_result"
    }
   ],
   "source": [
    "chr(0x20B9) "
   ]
  },
  {
   "cell_type": "code",
   "execution_count": null,
   "id": "a946f830",
   "metadata": {},
   "outputs": [],
   "source": [
    " # Python Understands all language due to unicode "
   ]
  },
  {
   "cell_type": "code",
   "execution_count": 18,
   "id": "89aedaa7",
   "metadata": {},
   "outputs": [],
   "source": [
    "names=['सुहास' ,'मदन' ,'साहिल' ,'गोपाळ'] # names taken from Google Input Tool"
   ]
  },
  {
   "cell_type": "code",
   "execution_count": 19,
   "id": "09f531cd",
   "metadata": {},
   "outputs": [
    {
     "name": "stdout",
     "output_type": "stream",
     "text": [
      "सुहास\n",
      "साहिल\n"
     ]
    }
   ],
   "source": [
    "for name in names:\n",
    "    if name.startswith('स'):\n",
    "        print(name)"
   ]
  },
  {
   "cell_type": "code",
   "execution_count": 20,
   "id": "5de466d8",
   "metadata": {},
   "outputs": [],
   "source": [
    "# Unicode Characters contains almost all symbols from different language and other symbols like emoji's"
   ]
  },
  {
   "cell_type": "code",
   "execution_count": 28,
   "id": "b269462a",
   "metadata": {},
   "outputs": [
    {
     "name": "stdout",
     "output_type": "stream",
     "text": [
      "सुहास\n",
      "मदन\n",
      "साहील\n",
      "गोपाळ\n"
     ]
    }
   ],
   "source": [
    "for name in names:\n",
    "    print(name.replace('ि', 'ी'))\n",
    "        "
   ]
  },
  {
   "cell_type": "code",
   "execution_count": 21,
   "id": "2a26799a",
   "metadata": {},
   "outputs": [
    {
     "data": {
      "text/plain": [
       "'ি'"
      ]
     },
     "execution_count": 21,
     "metadata": {},
     "output_type": "execute_result"
    }
   ],
   "source": [
    "chr(0x09BF) "
   ]
  },
  {
   "cell_type": "code",
   "execution_count": 22,
   "id": "c38b5c9d",
   "metadata": {},
   "outputs": [
    {
     "data": {
      "text/plain": [
       "'ী'"
      ]
     },
     "execution_count": 22,
     "metadata": {},
     "output_type": "execute_result"
    }
   ],
   "source": [
    "chr(0x09C0) "
   ]
  },
  {
   "cell_type": "code",
   "execution_count": 36,
   "id": "581c9e0f",
   "metadata": {},
   "outputs": [],
   "source": [
    "# Information taken from wikipedia"
   ]
  },
  {
   "cell_type": "code",
   "execution_count": 29,
   "id": "a03c0aa1",
   "metadata": {},
   "outputs": [],
   "source": [
    "kerala='''केरळ हे भारतातले देशाच्या दक्षिण टोकाला असलेले राज्य आहे. कर्नाटक व तमिळनाडू या राज्यांच्या सीमा केरळला लागून आहेत. केरळच्या पश्चिमेला अरबी समुद्र व दक्षिणेला हिंदी महासागर आहे. भारताचे सर्वाधिक हिरवाईने नटलेले राज्य म्हणून केरळचा उल्लेख होतो. केरळ राज्याची स्थापना १ नोव्हेंबर १९५६ रोजी झाली. तिरुअनंतपुरम ही केरळ राज्याची राजधानी असून राज्यातील कोची व कोळिकोड ही महत्त्वाची शहरे आहेत. मल्याळम ही राज्याची प्रमुख भाषा आहे. पर्यटन विकासाच्या दृष्टीने केरळ राज्याला मोठी गती मिळालेले आहे येथील खाद्यसंस्कृती देखील वैशिष्टपूर्ण आहे '''"
   ]
  },
  {
   "cell_type": "code",
   "execution_count": 30,
   "id": "8035c944",
   "metadata": {},
   "outputs": [],
   "source": [
    "from nltk import word_tokenize # default delimiter/seperator are whitespace"
   ]
  },
  {
   "cell_type": "code",
   "execution_count": 32,
   "id": "0a1470e7",
   "metadata": {},
   "outputs": [
    {
     "data": {
      "text/plain": [
       "['केरळ',\n",
       " 'हे',\n",
       " 'भारतातले',\n",
       " 'देशाच्या',\n",
       " 'दक्षिण',\n",
       " 'टोकाला',\n",
       " 'असलेले',\n",
       " 'राज्य',\n",
       " 'आहे',\n",
       " '.',\n",
       " 'कर्नाटक',\n",
       " 'व',\n",
       " 'तमिळनाडू',\n",
       " 'या',\n",
       " 'राज्यांच्या',\n",
       " 'सीमा',\n",
       " 'केरळला',\n",
       " 'लागून',\n",
       " 'आहेत',\n",
       " '.',\n",
       " 'केरळच्या',\n",
       " 'पश्चिमेला',\n",
       " 'अरबी',\n",
       " 'समुद्र',\n",
       " 'व',\n",
       " 'दक्षिणेला',\n",
       " 'हिंदी',\n",
       " 'महासागर',\n",
       " 'आहे',\n",
       " '.',\n",
       " 'भारताचे',\n",
       " 'सर्वाधिक',\n",
       " 'हिरवाईने',\n",
       " 'नटलेले',\n",
       " 'राज्य',\n",
       " 'म्हणून',\n",
       " 'केरळचा',\n",
       " 'उल्लेख',\n",
       " 'होतो',\n",
       " '.',\n",
       " 'केरळ',\n",
       " 'राज्याची',\n",
       " 'स्थापना',\n",
       " '१',\n",
       " 'नोव्हेंबर',\n",
       " '१९५६',\n",
       " 'रोजी',\n",
       " 'झाली',\n",
       " '.',\n",
       " 'तिरुअनंतपुरम',\n",
       " 'ही',\n",
       " 'केरळ',\n",
       " 'राज्याची',\n",
       " 'राजधानी',\n",
       " 'असून',\n",
       " 'राज्यातील',\n",
       " 'कोची',\n",
       " 'व',\n",
       " 'कोळिकोड',\n",
       " 'ही',\n",
       " 'महत्त्वाची',\n",
       " 'शहरे',\n",
       " 'आहेत',\n",
       " '.',\n",
       " 'मल्याळम',\n",
       " 'ही',\n",
       " 'राज्याची',\n",
       " 'प्रमुख',\n",
       " 'भाषा',\n",
       " 'आहे',\n",
       " '.',\n",
       " 'पर्यटन',\n",
       " 'विकासाच्या',\n",
       " 'दृष्टीने',\n",
       " 'केरळ',\n",
       " 'राज्याला',\n",
       " 'मोठी',\n",
       " 'गती',\n",
       " 'मिळालेले',\n",
       " 'आहे',\n",
       " 'येथील',\n",
       " 'खाद्यसंस्कृती',\n",
       " 'देखील',\n",
       " 'वैशिष्टपूर्ण',\n",
       " 'आहे']"
      ]
     },
     "execution_count": 32,
     "metadata": {},
     "output_type": "execute_result"
    }
   ],
   "source": [
    "word_ker=word_tokenize(kerala)\n",
    "word_ker"
   ]
  },
  {
   "cell_type": "code",
   "execution_count": 33,
   "id": "f4bbe960",
   "metadata": {},
   "outputs": [
    {
     "data": {
      "text/plain": [
       "4"
      ]
     },
     "execution_count": 33,
     "metadata": {},
     "output_type": "execute_result"
    }
   ],
   "source": [
    "word_tokenize(kerala).count('केरळ')"
   ]
  },
  {
   "cell_type": "code",
   "execution_count": 34,
   "id": "3727ad78",
   "metadata": {},
   "outputs": [],
   "source": [
    "from nltk import sent_tokenize # default delimiter/seperator are ['.','?','!']"
   ]
  },
  {
   "cell_type": "code",
   "execution_count": 42,
   "id": "bd060e97",
   "metadata": {},
   "outputs": [
    {
     "data": {
      "text/plain": [
       "['केरळ हे भारतातले देशाच्या दक्षिण टोकाला असलेले राज्य आहे.',\n",
       " 'कर्नाटक व तमिळनाडू या राज्यांच्या सीमा केरळला लागून आहेत.',\n",
       " 'केरळच्या पश्चिमेला अरबी समुद्र व दक्षिणेला हिंदी महासागर आहे.',\n",
       " 'भारताचे सर्वाधिक हिरवाईने नटलेले राज्य म्हणून केरळचा उल्लेख होतो.',\n",
       " 'केरळ राज्याची स्थापना १ नोव्हेंबर १९५६ रोजी झाली.',\n",
       " 'तिरुअनंतपुरम ही केरळ राज्याची राजधानी असून राज्यातील कोची व कोळिकोड ही महत्त्वाची शहरे आहेत.',\n",
       " 'मल्याळम ही राज्याची प्रमुख भाषा आहे.',\n",
       " 'पर्यटन विकासाच्या दृष्टीने केरळ राज्याला मोठी गती मिळालेले आहे येथील खाद्यसंस्कृती देखील वैशिष्टपूर्ण आहे']"
      ]
     },
     "execution_count": 42,
     "metadata": {},
     "output_type": "execute_result"
    }
   ],
   "source": [
    "sent_tokenize(kerala)"
   ]
  },
  {
   "cell_type": "code",
   "execution_count": null,
   "id": "54ca4e1d",
   "metadata": {},
   "outputs": [],
   "source": []
  },
  {
   "cell_type": "code",
   "execution_count": null,
   "id": "b1f934d1",
   "metadata": {},
   "outputs": [],
   "source": []
  },
  {
   "cell_type": "code",
   "execution_count": null,
   "id": "b19e474b",
   "metadata": {},
   "outputs": [],
   "source": []
  },
  {
   "cell_type": "code",
   "execution_count": null,
   "id": "49dde7f1",
   "metadata": {},
   "outputs": [],
   "source": []
  },
  {
   "cell_type": "code",
   "execution_count": null,
   "id": "e44d3ba7",
   "metadata": {},
   "outputs": [],
   "source": []
  }
 ],
 "metadata": {
  "kernelspec": {
   "display_name": "Python 3 (ipykernel)",
   "language": "python",
   "name": "python3"
  },
  "language_info": {
   "codemirror_mode": {
    "name": "ipython",
    "version": 3
   },
   "file_extension": ".py",
   "mimetype": "text/x-python",
   "name": "python",
   "nbconvert_exporter": "python",
   "pygments_lexer": "ipython3",
   "version": "3.11.4"
  }
 },
 "nbformat": 4,
 "nbformat_minor": 5
}
