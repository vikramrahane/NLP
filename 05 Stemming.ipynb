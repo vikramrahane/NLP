{
 "cells": [
  {
   "cell_type": "markdown",
   "id": "a53c915c",
   "metadata": {},
   "source": [
    "### Porter Stemmer"
   ]
  },
  {
   "cell_type": "code",
   "execution_count": 1,
   "id": "d5a0c92f",
   "metadata": {},
   "outputs": [],
   "source": [
    "word1='cat','catty','catlike','cats'  # datatype tuple\n",
    "word2='playing','plays', 'played', 'players'\n",
    "word3= 'go','went','gone','going','goes'\n",
    "word4= 'goods', 'better','best','fasting', 'reachable'\n",
    "word5='program','programmed', 'programming', 'programatic'"
   ]
  },
  {
   "cell_type": "code",
   "execution_count": 2,
   "id": "d4cf59f3",
   "metadata": {},
   "outputs": [],
   "source": [
    "from nltk.stem import PorterStemmer"
   ]
  },
  {
   "cell_type": "code",
   "execution_count": 3,
   "id": "d5399866",
   "metadata": {},
   "outputs": [],
   "source": [
    "ps= PorterStemmer()"
   ]
  },
  {
   "cell_type": "code",
   "execution_count": 4,
   "id": "271c3790",
   "metadata": {},
   "outputs": [
    {
     "data": {
      "text/plain": [
       "'play'"
      ]
     },
     "execution_count": 4,
     "metadata": {},
     "output_type": "execute_result"
    }
   ],
   "source": [
    "ps.stem(word2[0])"
   ]
  },
  {
   "cell_type": "code",
   "execution_count": 5,
   "id": "61198e1a",
   "metadata": {},
   "outputs": [
    {
     "name": "stdout",
     "output_type": "stream",
     "text": [
      "cat\n",
      "catti\n",
      "catlik\n",
      "cat\n"
     ]
    }
   ],
   "source": [
    "for word in word1:\n",
    "    print(ps.stem(word))"
   ]
  },
  {
   "cell_type": "code",
   "execution_count": 6,
   "id": "718e602a",
   "metadata": {},
   "outputs": [
    {
     "name": "stdout",
     "output_type": "stream",
     "text": [
      "play\n",
      "play\n",
      "play\n",
      "player\n"
     ]
    }
   ],
   "source": [
    "for word in word2:\n",
    "    print(ps.stem(word))"
   ]
  },
  {
   "cell_type": "code",
   "execution_count": 7,
   "id": "157c4143",
   "metadata": {},
   "outputs": [
    {
     "name": "stdout",
     "output_type": "stream",
     "text": [
      "go\n",
      "went\n",
      "gone\n",
      "go\n",
      "goe\n"
     ]
    }
   ],
   "source": [
    "for word in word3:\n",
    "    print(ps.stem(word))"
   ]
  },
  {
   "cell_type": "code",
   "execution_count": 8,
   "id": "b3a19da1",
   "metadata": {},
   "outputs": [
    {
     "name": "stdout",
     "output_type": "stream",
     "text": [
      "good\n",
      "better\n",
      "best\n",
      "fast\n",
      "reachabl\n"
     ]
    }
   ],
   "source": [
    "for word in word4:\n",
    "    print(ps.stem(word))"
   ]
  },
  {
   "cell_type": "code",
   "execution_count": 9,
   "id": "2d8e175c",
   "metadata": {},
   "outputs": [
    {
     "name": "stdout",
     "output_type": "stream",
     "text": [
      "program\n",
      "program\n",
      "program\n",
      "programat\n"
     ]
    }
   ],
   "source": [
    "for word in word5:\n",
    "    print(ps.stem(word))"
   ]
  },
  {
   "cell_type": "markdown",
   "id": "dfe88264",
   "metadata": {},
   "source": [
    "### Lancaster Stemmer"
   ]
  },
  {
   "cell_type": "code",
   "execution_count": 12,
   "id": "b0c68861",
   "metadata": {},
   "outputs": [],
   "source": [
    "from nltk.stem import LancasterStemmer"
   ]
  },
  {
   "cell_type": "code",
   "execution_count": 13,
   "id": "06d4467c",
   "metadata": {},
   "outputs": [],
   "source": [
    "ls= LancasterStemmer()"
   ]
  },
  {
   "cell_type": "code",
   "execution_count": 14,
   "id": "082808f1",
   "metadata": {},
   "outputs": [
    {
     "name": "stdout",
     "output_type": "stream",
     "text": [
      "cat\n",
      "catty\n",
      "catlik\n",
      "cat\n"
     ]
    }
   ],
   "source": [
    "for word in word1:\n",
    "    print(ls.stem(word))"
   ]
  },
  {
   "cell_type": "code",
   "execution_count": 17,
   "id": "3d150e77",
   "metadata": {},
   "outputs": [
    {
     "name": "stdout",
     "output_type": "stream",
     "text": [
      "play\n",
      "play\n",
      "play\n",
      "play\n"
     ]
    }
   ],
   "source": [
    "for word in word2:\n",
    "    print(ls.stem(word))"
   ]
  },
  {
   "cell_type": "code",
   "execution_count": 18,
   "id": "4700666d",
   "metadata": {},
   "outputs": [
    {
     "name": "stdout",
     "output_type": "stream",
     "text": [
      "go\n",
      "went\n",
      "gon\n",
      "going\n",
      "goe\n"
     ]
    }
   ],
   "source": [
    "for word in word3:\n",
    "    print(ls.stem(word))"
   ]
  },
  {
   "cell_type": "code",
   "execution_count": 20,
   "id": "dd682dea",
   "metadata": {},
   "outputs": [
    {
     "name": "stdout",
     "output_type": "stream",
     "text": [
      "good\n",
      "bet\n",
      "best\n",
      "fast\n",
      "reach\n"
     ]
    }
   ],
   "source": [
    "for word in word4:\n",
    "    print(ls.stem(word))"
   ]
  },
  {
   "cell_type": "code",
   "execution_count": 22,
   "id": "343175ad",
   "metadata": {},
   "outputs": [
    {
     "name": "stdout",
     "output_type": "stream",
     "text": [
      "program\n",
      "program\n",
      "program\n",
      "program\n"
     ]
    }
   ],
   "source": [
    "for word in word5:\n",
    "    print(ls.stem(word))"
   ]
  },
  {
   "cell_type": "markdown",
   "id": "2dba6e10",
   "metadata": {},
   "source": [
    "### Lemmatiser"
   ]
  },
  {
   "cell_type": "code",
   "execution_count": null,
   "id": "8ce88bbb",
   "metadata": {},
   "outputs": [],
   "source": [
    "from nltk"
   ]
  }
 ],
 "metadata": {
  "kernelspec": {
   "display_name": "Python 3 (ipykernel)",
   "language": "python",
   "name": "python3"
  },
  "language_info": {
   "codemirror_mode": {
    "name": "ipython",
    "version": 3
   },
   "file_extension": ".py",
   "mimetype": "text/x-python",
   "name": "python",
   "nbconvert_exporter": "python",
   "pygments_lexer": "ipython3",
   "version": "3.11.4"
  }
 },
 "nbformat": 4,
 "nbformat_minor": 5
}
