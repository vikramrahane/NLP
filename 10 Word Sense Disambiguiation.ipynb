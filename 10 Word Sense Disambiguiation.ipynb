{
 "cells": [
  {
   "cell_type": "code",
   "execution_count": 1,
   "id": "33938b87",
   "metadata": {},
   "outputs": [],
   "source": [
    "from nltk.wsd import lesk\n",
    "from nltk.tokenize import word_tokenize"
   ]
  },
  {
   "cell_type": "code",
   "execution_count": 2,
   "id": "02c65cac",
   "metadata": {},
   "outputs": [],
   "source": [
    "a1=lesk(word_tokenize('This device is used to jam the signal'),'jam')"
   ]
  },
  {
   "cell_type": "code",
   "execution_count": 3,
   "id": "50d8719b",
   "metadata": {},
   "outputs": [
    {
     "data": {
      "text/plain": [
       "'deliberate radiation or reflection of electromagnetic energy for the purpose of disrupting enemy use of electronic devices or systems'"
      ]
     },
     "execution_count": 3,
     "metadata": {},
     "output_type": "execute_result"
    }
   ],
   "source": [
    "a1.definition()"
   ]
  },
  {
   "cell_type": "code",
   "execution_count": 12,
   "id": "0b4110fe",
   "metadata": {},
   "outputs": [],
   "source": [
    "a2=lesk(word_tokenize('I am stuck in a traffic jam'),'jam')"
   ]
  },
  {
   "cell_type": "code",
   "execution_count": 13,
   "id": "aa4a75a5",
   "metadata": {},
   "outputs": [
    {
     "data": {
      "text/plain": [
       "'get stuck and immobilized'"
      ]
     },
     "execution_count": 13,
     "metadata": {},
     "output_type": "execute_result"
    }
   ],
   "source": [
    "a2.definition()"
   ]
  },
  {
   "cell_type": "code",
   "execution_count": 18,
   "id": "c4f78784",
   "metadata": {},
   "outputs": [
    {
     "data": {
      "text/plain": [
       "'preserve of crushed fruit'"
      ]
     },
     "execution_count": 18,
     "metadata": {},
     "output_type": "execute_result"
    }
   ],
   "source": [
    "a3=lesk(word_tokenize('I like fruit jam'),'jam')\n",
    "a3.definition()"
   ]
  },
  {
   "cell_type": "code",
   "execution_count": 20,
   "id": "6d5dd95a",
   "metadata": {},
   "outputs": [
    {
     "name": "stdout",
     "output_type": "stream",
     "text": [
      "Synset('season.v.01') lend flavor to\n",
      "Synset('season.n.01') a period of the year marked by special events or activities in some field\n"
     ]
    }
   ],
   "source": [
    "b1=lesk(word_tokenize('Apply spices to the chicken to season it'),'season')\n",
    "print(b1,b1.definition())\n",
    "\n",
    "b2=lesk(word_tokenize('India receives a lot of rain in in the Rainy Season'),'season')\n",
    "print(b2,b2.definition())"
   ]
  },
  {
   "cell_type": "markdown",
   "id": "14322088",
   "metadata": {},
   "source": [
    "    "
   ]
  },
  {
   "cell_type": "code",
   "execution_count": 22,
   "id": "6ba91ded",
   "metadata": {},
   "outputs": [
    {
     "name": "stdout",
     "output_type": "stream",
     "text": [
      "Synset('sea_bass.n.01') the lean flesh of a saltwater fish of the family Serranidae\n",
      "Synset('sea_bass.n.01') the lean flesh of a saltwater fish of the family Serranidae\n"
     ]
    }
   ],
   "source": [
    "c1= lesk(word_tokenize('I can hear bass sound.'),'bass')\n",
    "print(c1,c1.definition())\n",
    "\n",
    "c2= lesk(word_tokenize('He likes to eat grilled bass.'),'bass')\n",
    "print(c2,c2.definition())"
   ]
  },
  {
   "cell_type": "code",
   "execution_count": null,
   "id": "5137602b",
   "metadata": {},
   "outputs": [],
   "source": []
  }
 ],
 "metadata": {
  "kernelspec": {
   "display_name": "Python 3 (ipykernel)",
   "language": "python",
   "name": "python3"
  },
  "language_info": {
   "codemirror_mode": {
    "name": "ipython",
    "version": 3
   },
   "file_extension": ".py",
   "mimetype": "text/x-python",
   "name": "python",
   "nbconvert_exporter": "python",
   "pygments_lexer": "ipython3",
   "version": "3.11.4"
  }
 },
 "nbformat": 4,
 "nbformat_minor": 5
}
