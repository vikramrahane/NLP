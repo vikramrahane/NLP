{
 "cells": [
  {
   "cell_type": "code",
   "execution_count": 1,
   "id": "7bb08c46",
   "metadata": {},
   "outputs": [],
   "source": [
    "s1='The quick brown fox jumps over the lazy white dog.'\n",
    "s2='the cat chases the mouse and it squeaks loudly'"
   ]
  },
  {
   "cell_type": "code",
   "execution_count": 23,
   "id": "a4d25ee8",
   "metadata": {},
   "outputs": [],
   "source": [
    "from sklearn.feature_extraction.text import CountVectorizer\n",
    "import pandas as pd"
   ]
  },
  {
   "cell_type": "code",
   "execution_count": 24,
   "id": "527ceeab",
   "metadata": {},
   "outputs": [],
   "source": [
    "cv = CountVectorizer(ngram_range=(1,2))"
   ]
  },
  {
   "cell_type": "code",
   "execution_count": 29,
   "id": "45579e39",
   "metadata": {},
   "outputs": [],
   "source": [
    "x_vect = cv.fit_transform([s1,s2])\n",
    "vals = x_vect.toarray()\n",
    "\n",
    "cols = cv.get_feature_names_out()"
   ]
  },
  {
   "cell_type": "code",
   "execution_count": 30,
   "id": "140859d8",
   "metadata": {},
   "outputs": [
    {
     "data": {
      "text/plain": [
       "array(['and', 'and it', 'brown', 'brown fox', 'cat', 'cat chases',\n",
       "       'chases', 'chases the', 'dog', 'fox', 'fox jumps', 'it',\n",
       "       'it squeaks', 'jumps', 'jumps over', 'lazy', 'lazy white',\n",
       "       'loudly', 'mouse', 'mouse and', 'over', 'over the', 'quick',\n",
       "       'quick brown', 'squeaks', 'squeaks loudly', 'the', 'the cat',\n",
       "       'the lazy', 'the mouse', 'the quick', 'white', 'white dog'],\n",
       "      dtype=object)"
      ]
     },
     "execution_count": 30,
     "metadata": {},
     "output_type": "execute_result"
    }
   ],
   "source": [
    "cols "
   ]
  },
  {
   "cell_type": "code",
   "execution_count": 28,
   "id": "5080e1f8",
   "metadata": {},
   "outputs": [
    {
     "data": {
      "text/html": [
       "<div>\n",
       "<style scoped>\n",
       "    .dataframe tbody tr th:only-of-type {\n",
       "        vertical-align: middle;\n",
       "    }\n",
       "\n",
       "    .dataframe tbody tr th {\n",
       "        vertical-align: top;\n",
       "    }\n",
       "\n",
       "    .dataframe thead th {\n",
       "        text-align: right;\n",
       "    }\n",
       "</style>\n",
       "<table border=\"1\" class=\"dataframe\">\n",
       "  <thead>\n",
       "    <tr style=\"text-align: right;\">\n",
       "      <th></th>\n",
       "      <th>and</th>\n",
       "      <th>and it</th>\n",
       "      <th>brown</th>\n",
       "      <th>brown fox</th>\n",
       "      <th>cat</th>\n",
       "      <th>cat chases</th>\n",
       "      <th>chases</th>\n",
       "      <th>chases the</th>\n",
       "      <th>dog</th>\n",
       "      <th>fox</th>\n",
       "      <th>...</th>\n",
       "      <th>quick brown</th>\n",
       "      <th>squeaks</th>\n",
       "      <th>squeaks loudly</th>\n",
       "      <th>the</th>\n",
       "      <th>the cat</th>\n",
       "      <th>the lazy</th>\n",
       "      <th>the mouse</th>\n",
       "      <th>the quick</th>\n",
       "      <th>white</th>\n",
       "      <th>white dog</th>\n",
       "    </tr>\n",
       "  </thead>\n",
       "  <tbody>\n",
       "    <tr>\n",
       "      <th>0</th>\n",
       "      <td>0</td>\n",
       "      <td>0</td>\n",
       "      <td>1</td>\n",
       "      <td>1</td>\n",
       "      <td>0</td>\n",
       "      <td>0</td>\n",
       "      <td>0</td>\n",
       "      <td>0</td>\n",
       "      <td>1</td>\n",
       "      <td>1</td>\n",
       "      <td>...</td>\n",
       "      <td>1</td>\n",
       "      <td>0</td>\n",
       "      <td>0</td>\n",
       "      <td>2</td>\n",
       "      <td>0</td>\n",
       "      <td>1</td>\n",
       "      <td>0</td>\n",
       "      <td>1</td>\n",
       "      <td>1</td>\n",
       "      <td>1</td>\n",
       "    </tr>\n",
       "    <tr>\n",
       "      <th>1</th>\n",
       "      <td>1</td>\n",
       "      <td>1</td>\n",
       "      <td>0</td>\n",
       "      <td>0</td>\n",
       "      <td>1</td>\n",
       "      <td>1</td>\n",
       "      <td>1</td>\n",
       "      <td>1</td>\n",
       "      <td>0</td>\n",
       "      <td>0</td>\n",
       "      <td>...</td>\n",
       "      <td>0</td>\n",
       "      <td>1</td>\n",
       "      <td>1</td>\n",
       "      <td>2</td>\n",
       "      <td>1</td>\n",
       "      <td>0</td>\n",
       "      <td>1</td>\n",
       "      <td>0</td>\n",
       "      <td>0</td>\n",
       "      <td>0</td>\n",
       "    </tr>\n",
       "  </tbody>\n",
       "</table>\n",
       "<p>2 rows × 33 columns</p>\n",
       "</div>"
      ],
      "text/plain": [
       "   and  and it  brown  brown fox  cat  cat chases  chases  chases the  dog  \\\n",
       "0    0       0      1          1    0           0       0           0    1   \n",
       "1    1       1      0          0    1           1       1           1    0   \n",
       "\n",
       "   fox  ...  quick brown  squeaks  squeaks loudly  the  the cat  the lazy  \\\n",
       "0    1  ...            1        0               0    2        0         1   \n",
       "1    0  ...            0        1               1    2        1         0   \n",
       "\n",
       "   the mouse  the quick  white  white dog  \n",
       "0          0          1      1          1  \n",
       "1          1          0      0          0  \n",
       "\n",
       "[2 rows x 33 columns]"
      ]
     },
     "execution_count": 28,
     "metadata": {},
     "output_type": "execute_result"
    }
   ],
   "source": [
    "df = pd.DataFrame(vals,columns=cols)\n",
    "df"
   ]
  },
  {
   "cell_type": "markdown",
   "id": "969683d2",
   "metadata": {},
   "source": []
  }
 ],
 "metadata": {
  "kernelspec": {
   "display_name": "Python 3 (ipykernel)",
   "language": "python",
   "name": "python3"
  },
  "language_info": {
   "codemirror_mode": {
    "name": "ipython",
    "version": 3
   },
   "file_extension": ".py",
   "mimetype": "text/x-python",
   "name": "python",
   "nbconvert_exporter": "python",
   "pygments_lexer": "ipython3",
   "version": "3.11.4"
  }
 },
 "nbformat": 4,
 "nbformat_minor": 5
}
