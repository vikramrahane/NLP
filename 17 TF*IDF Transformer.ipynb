{
 "cells": [
  {
   "cell_type": "code",
   "execution_count": 1,
   "id": "ac4921b3",
   "metadata": {},
   "outputs": [],
   "source": [
    "s1='The quick brown fox jumps over the lazy white dog.'\n",
    "s2='the cat chases the mouse and it squeaks loudly'"
   ]
  },
  {
   "cell_type": "code",
   "execution_count": 13,
   "id": "b68c5f14",
   "metadata": {},
   "outputs": [],
   "source": [
    "from sklearn.feature_extraction.text import TfidfTransformer,CountVectorizer\n",
    "import pandas as pd"
   ]
  },
  {
   "cell_type": "code",
   "execution_count": 14,
   "id": "126b9161",
   "metadata": {},
   "outputs": [],
   "source": [
    "cv = CountVectorizer()"
   ]
  },
  {
   "cell_type": "code",
   "execution_count": 15,
   "id": "316a9ef5",
   "metadata": {},
   "outputs": [
    {
     "data": {
      "text/plain": [
       "<2x16 sparse matrix of type '<class 'numpy.float64'>'\n",
       "\twith 17 stored elements in Compressed Sparse Row format>"
      ]
     },
     "execution_count": 15,
     "metadata": {},
     "output_type": "execute_result"
    }
   ],
   "source": [
    "word_vector = cv.fit_transform([s1,s2])\n",
    "tfidf_transformer = TfidfTransformer()\n",
    "x = tfidf_transformer.fit_transform(word_vector)\n",
    "x"
   ]
  },
  {
   "cell_type": "code",
   "execution_count": 21,
   "id": "4f9937c1",
   "metadata": {},
   "outputs": [
    {
     "data": {
      "text/html": [
       "<div>\n",
       "<style scoped>\n",
       "    .dataframe tbody tr th:only-of-type {\n",
       "        vertical-align: middle;\n",
       "    }\n",
       "\n",
       "    .dataframe tbody tr th {\n",
       "        vertical-align: top;\n",
       "    }\n",
       "\n",
       "    .dataframe thead th {\n",
       "        text-align: right;\n",
       "    }\n",
       "</style>\n",
       "<table border=\"1\" class=\"dataframe\">\n",
       "  <thead>\n",
       "    <tr style=\"text-align: right;\">\n",
       "      <th></th>\n",
       "      <th>and</th>\n",
       "      <th>brown</th>\n",
       "      <th>cat</th>\n",
       "      <th>chases</th>\n",
       "      <th>dog</th>\n",
       "      <th>fox</th>\n",
       "      <th>it</th>\n",
       "      <th>jumps</th>\n",
       "      <th>lazy</th>\n",
       "      <th>loudly</th>\n",
       "      <th>mouse</th>\n",
       "      <th>over</th>\n",
       "      <th>quick</th>\n",
       "      <th>squeaks</th>\n",
       "      <th>the</th>\n",
       "      <th>white</th>\n",
       "    </tr>\n",
       "  </thead>\n",
       "  <tbody>\n",
       "    <tr>\n",
       "      <th>0</th>\n",
       "      <td>0.000000</td>\n",
       "      <td>0.315834</td>\n",
       "      <td>0.000000</td>\n",
       "      <td>0.000000</td>\n",
       "      <td>0.315834</td>\n",
       "      <td>0.315834</td>\n",
       "      <td>0.000000</td>\n",
       "      <td>0.315834</td>\n",
       "      <td>0.315834</td>\n",
       "      <td>0.000000</td>\n",
       "      <td>0.000000</td>\n",
       "      <td>0.315834</td>\n",
       "      <td>0.315834</td>\n",
       "      <td>0.000000</td>\n",
       "      <td>0.449436</td>\n",
       "      <td>0.315834</td>\n",
       "    </tr>\n",
       "    <tr>\n",
       "      <th>1</th>\n",
       "      <td>0.332872</td>\n",
       "      <td>0.000000</td>\n",
       "      <td>0.332872</td>\n",
       "      <td>0.332872</td>\n",
       "      <td>0.000000</td>\n",
       "      <td>0.000000</td>\n",
       "      <td>0.332872</td>\n",
       "      <td>0.000000</td>\n",
       "      <td>0.000000</td>\n",
       "      <td>0.332872</td>\n",
       "      <td>0.332872</td>\n",
       "      <td>0.000000</td>\n",
       "      <td>0.000000</td>\n",
       "      <td>0.332872</td>\n",
       "      <td>0.473682</td>\n",
       "      <td>0.000000</td>\n",
       "    </tr>\n",
       "  </tbody>\n",
       "</table>\n",
       "</div>"
      ],
      "text/plain": [
       "        and     brown       cat    chases       dog       fox        it  \\\n",
       "0  0.000000  0.315834  0.000000  0.000000  0.315834  0.315834  0.000000   \n",
       "1  0.332872  0.000000  0.332872  0.332872  0.000000  0.000000  0.332872   \n",
       "\n",
       "      jumps      lazy    loudly     mouse      over     quick   squeaks  \\\n",
       "0  0.315834  0.315834  0.000000  0.000000  0.315834  0.315834  0.000000   \n",
       "1  0.000000  0.000000  0.332872  0.332872  0.000000  0.000000  0.332872   \n",
       "\n",
       "        the     white  \n",
       "0  0.449436  0.315834  \n",
       "1  0.473682  0.000000  "
      ]
     },
     "execution_count": 21,
     "metadata": {},
     "output_type": "execute_result"
    }
   ],
   "source": [
    "pd.DataFrame(x.toarray(),columns=cv.get_feature_names_out())"
   ]
  },
  {
   "cell_type": "code",
   "execution_count": null,
   "id": "72a0da90",
   "metadata": {},
   "outputs": [],
   "source": []
  },
  {
   "cell_type": "code",
   "execution_count": null,
   "id": "ae1a08ce",
   "metadata": {},
   "outputs": [],
   "source": []
  }
 ],
 "metadata": {
  "kernelspec": {
   "display_name": "Python 3 (ipykernel)",
   "language": "python",
   "name": "python3"
  },
  "language_info": {
   "codemirror_mode": {
    "name": "ipython",
    "version": 3
   },
   "file_extension": ".py",
   "mimetype": "text/x-python",
   "name": "python",
   "nbconvert_exporter": "python",
   "pygments_lexer": "ipython3",
   "version": "3.11.4"
  }
 },
 "nbformat": 4,
 "nbformat_minor": 5
}
