{
 "cells": [
  {
   "cell_type": "code",
   "execution_count": 1,
   "id": "01357781",
   "metadata": {},
   "outputs": [],
   "source": [
    "import pandas as pd\n",
    "import numpy as np\n",
    "import matplotlib.pyplot as plt\n",
    "import seaborn as sns"
   ]
  },
  {
   "cell_type": "code",
   "execution_count": 2,
   "id": "60c2a6c5",
   "metadata": {},
   "outputs": [
    {
     "data": {
      "text/html": [
       "<div>\n",
       "<style scoped>\n",
       "    .dataframe tbody tr th:only-of-type {\n",
       "        vertical-align: middle;\n",
       "    }\n",
       "\n",
       "    .dataframe tbody tr th {\n",
       "        vertical-align: top;\n",
       "    }\n",
       "\n",
       "    .dataframe thead th {\n",
       "        text-align: right;\n",
       "    }\n",
       "</style>\n",
       "<table border=\"1\" class=\"dataframe\">\n",
       "  <thead>\n",
       "    <tr style=\"text-align: right;\">\n",
       "      <th></th>\n",
       "      <th>label</th>\n",
       "      <th>text</th>\n",
       "    </tr>\n",
       "  </thead>\n",
       "  <tbody>\n",
       "    <tr>\n",
       "      <th>0</th>\n",
       "      <td>ham</td>\n",
       "      <td>Go until jurong point, crazy.. Available only ...</td>\n",
       "    </tr>\n",
       "    <tr>\n",
       "      <th>1</th>\n",
       "      <td>ham</td>\n",
       "      <td>Ok lar... Joking wif u oni...</td>\n",
       "    </tr>\n",
       "    <tr>\n",
       "      <th>2</th>\n",
       "      <td>spam</td>\n",
       "      <td>Free entry in 2 a wkly comp to win FA Cup fina...</td>\n",
       "    </tr>\n",
       "    <tr>\n",
       "      <th>3</th>\n",
       "      <td>ham</td>\n",
       "      <td>U dun say so early hor... U c already then say...</td>\n",
       "    </tr>\n",
       "    <tr>\n",
       "      <th>4</th>\n",
       "      <td>ham</td>\n",
       "      <td>Nah I don't think he goes to usf, he lives aro...</td>\n",
       "    </tr>\n",
       "    <tr>\n",
       "      <th>...</th>\n",
       "      <td>...</td>\n",
       "      <td>...</td>\n",
       "    </tr>\n",
       "    <tr>\n",
       "      <th>5567</th>\n",
       "      <td>spam</td>\n",
       "      <td>This is the 2nd time we have tried 2 contact u...</td>\n",
       "    </tr>\n",
       "    <tr>\n",
       "      <th>5568</th>\n",
       "      <td>ham</td>\n",
       "      <td>Will ü b going to esplanade fr home?</td>\n",
       "    </tr>\n",
       "    <tr>\n",
       "      <th>5569</th>\n",
       "      <td>ham</td>\n",
       "      <td>Pity, * was in mood for that. So...any other s...</td>\n",
       "    </tr>\n",
       "    <tr>\n",
       "      <th>5570</th>\n",
       "      <td>ham</td>\n",
       "      <td>The guy did some bitching but I acted like i'd...</td>\n",
       "    </tr>\n",
       "    <tr>\n",
       "      <th>5571</th>\n",
       "      <td>ham</td>\n",
       "      <td>Rofl. Its true to its name</td>\n",
       "    </tr>\n",
       "  </tbody>\n",
       "</table>\n",
       "<p>5572 rows × 2 columns</p>\n",
       "</div>"
      ],
      "text/plain": [
       "     label                                               text\n",
       "0      ham  Go until jurong point, crazy.. Available only ...\n",
       "1      ham                      Ok lar... Joking wif u oni...\n",
       "2     spam  Free entry in 2 a wkly comp to win FA Cup fina...\n",
       "3      ham  U dun say so early hor... U c already then say...\n",
       "4      ham  Nah I don't think he goes to usf, he lives aro...\n",
       "...    ...                                                ...\n",
       "5567  spam  This is the 2nd time we have tried 2 contact u...\n",
       "5568   ham               Will ü b going to esplanade fr home?\n",
       "5569   ham  Pity, * was in mood for that. So...any other s...\n",
       "5570   ham  The guy did some bitching but I acted like i'd...\n",
       "5571   ham                         Rofl. Its true to its name\n",
       "\n",
       "[5572 rows x 2 columns]"
      ]
     },
     "execution_count": 2,
     "metadata": {},
     "output_type": "execute_result"
    }
   ],
   "source": [
    "df=pd.read_csv('SMSSpamCollection',sep='\\t',names=['label','text'])\n",
    "df"
   ]
  },
  {
   "cell_type": "code",
   "execution_count": 3,
   "id": "01d9d2af",
   "metadata": {},
   "outputs": [
    {
     "data": {
      "image/png": "[encoded data removed]",
      "text/plain": [
       "<Figure size 640x480 with 1 Axes>"
      ]
     },
     "metadata": {},
     "output_type": "display_data"
    }
   ],
   "source": [
    "sns.countplot(y=df['label']);"
   ]
  },
  {
   "cell_type": "code",
   "execution_count": 4,
   "id": "9bb57d90",
   "metadata": {},
   "outputs": [
    {
     "data": {
      "text/plain": [
       "label\n",
       "ham     4825\n",
       "spam     747\n",
       "Name: count, dtype: int64"
      ]
     },
     "execution_count": 4,
     "metadata": {},
     "output_type": "execute_result"
    }
   ],
   "source": [
    "df['label'].value_counts()"
   ]
  },
  {
   "cell_type": "markdown",
   "id": "a3eb117a",
   "metadata": {},
   "source": [
    "#### Data Preparation"
   ]
  },
  {
   "cell_type": "code",
   "execution_count": 5,
   "id": "8db031a6",
   "metadata": {},
   "outputs": [],
   "source": [
    "# 1. Remove Punctuation\n",
    "# 2. Remove Stopwords\n",
    "# 3. Remove affixes"
   ]
  },
  {
   "cell_type": "code",
   "execution_count": 6,
   "id": "b3c13718",
   "metadata": {},
   "outputs": [],
   "source": [
    "from nltk.tokenize import word_tokenize\n",
    "from nltk.stem import LancasterStemmer\n",
    "from nltk.corpus import stopwords\n",
    "import string"
   ]
  },
  {
   "cell_type": "code",
   "execution_count": 7,
   "id": "1507c7bc",
   "metadata": {},
   "outputs": [],
   "source": [
    "sent='Hello friends! How are you? Welcome to python Programming'"
   ]
  },
  {
   "cell_type": "code",
   "execution_count": 8,
   "id": "c90d2fd4",
   "metadata": {},
   "outputs": [],
   "source": [
    "tokens1=word_tokenize(sent)"
   ]
  },
  {
   "cell_type": "code",
   "execution_count": 9,
   "id": "27c697c1",
   "metadata": {},
   "outputs": [
    {
     "data": {
      "text/plain": [
       "['Hello',\n",
       " 'friends',\n",
       " '!',\n",
       " 'How',\n",
       " 'are',\n",
       " 'you',\n",
       " '?',\n",
       " 'Welcome',\n",
       " 'to',\n",
       " 'python',\n",
       " 'Programming']"
      ]
     },
     "execution_count": 9,
     "metadata": {},
     "output_type": "execute_result"
    }
   ],
   "source": [
    "tokens1"
   ]
  },
  {
   "cell_type": "code",
   "execution_count": 10,
   "id": "d95e0eb8",
   "metadata": {},
   "outputs": [
    {
     "data": {
      "text/plain": [
       "['hello',\n",
       " 'friends',\n",
       " 'how',\n",
       " 'are',\n",
       " 'you',\n",
       " 'welcome',\n",
       " 'to',\n",
       " 'python',\n",
       " 'programming']"
      ]
     },
     "execution_count": 10,
     "metadata": {},
     "output_type": "execute_result"
    }
   ],
   "source": [
    "tokens2=[x.lower() for x in tokens1 if x not in string.punctuation]    # Remove Punctuation\n",
    "tokens2"
   ]
  },
  {
   "cell_type": "code",
   "execution_count": 11,
   "id": "afc1fd71",
   "metadata": {},
   "outputs": [
    {
     "data": {
      "text/plain": [
       "['hello', 'friend', 'welcom', 'python', 'program']"
      ]
     },
     "execution_count": 11,
     "metadata": {},
     "output_type": "execute_result"
    }
   ],
   "source": [
    "ls=LancasterStemmer()    # Remove affixes\n",
    "tokens3=[ls.stem(x) for x in tokens2 if x not in stopwords.words('english')]  # Remove Stopwords\n",
    "tokens3"
   ]
  },
  {
   "cell_type": "code",
   "execution_count": 38,
   "id": "e581fb29",
   "metadata": {},
   "outputs": [],
   "source": [
    "def clean_text(text):\n",
    "    ls=LancasterStemmer() \n",
    "    tokens1=word_tokenize(text)\n",
    "    tokens2=[x.lower() for x in tokens1 if x.isalpha() or x.isdigit()] # if x not in string.punctuation\n",
    "    tokens3=[ls.stem(x) for x in tokens2 if x not in stopwords.words('english')] \n",
    "    return tokens3"
   ]
  },
  {
   "cell_type": "code",
   "execution_count": 39,
   "id": "7be00058",
   "metadata": {},
   "outputs": [
    {
     "data": {
      "text/plain": [
       "['hello', 'friend', 'welcom', 'python', 'program']"
      ]
     },
     "execution_count": 39,
     "metadata": {},
     "output_type": "execute_result"
    }
   ],
   "source": [
    "clean_text(sent)"
   ]
  },
  {
   "cell_type": "code",
   "execution_count": 40,
   "id": "5726aa5c",
   "metadata": {},
   "outputs": [
    {
     "data": {
      "text/plain": [
       "['visit', 'ground', 'on', 'play']"
      ]
     },
     "execution_count": 40,
     "metadata": {},
     "output_type": "execute_result"
    }
   ],
   "source": [
    "sent2=\"When we visited the ground no one was playing\"\n",
    "clean_text(sent2)"
   ]
  },
  {
   "cell_type": "code",
   "execution_count": 41,
   "id": "edf522d1",
   "metadata": {},
   "outputs": [
    {
     "data": {
      "text/plain": [
       "0       [go, jurong, point, crazy, avail, bug, n, gre,...\n",
       "1                              [ok, lar, jok, wif, u, on]\n",
       "2       [fre, entry, 2, wkly, comp, win, fa, cup, fin,...\n",
       "3             [u, dun, say, ear, hor, u, c, already, say]\n",
       "4             [nah, think, goe, usf, liv, around, though]\n",
       "                              ...                        \n",
       "5567    [tim, tri, 2, contact, u, pound, priz, 2, clai...\n",
       "5568                     [ü, b, going, esplanad, fr, hom]\n",
       "5569                                [pity, mood, suggest]\n",
       "5570    [guy, bitch, act, lik, interest, buy, someth, ...\n",
       "5571                                     [rofl, tru, nam]\n",
       "Name: text, Length: 5572, dtype: object"
      ]
     },
     "execution_count": 41,
     "metadata": {},
     "output_type": "execute_result"
    }
   ],
   "source": [
    "df['text'].apply(lambda x:clean_text(x))"
   ]
  },
  {
   "cell_type": "markdown",
   "id": "b87db8e2",
   "metadata": {},
   "source": [
    "### TF*IDF Vectorizer"
   ]
  },
  {
   "cell_type": "code",
   "execution_count": 93,
   "id": "daec8508",
   "metadata": {},
   "outputs": [],
   "source": [
    "from sklearn.feature_extraction.text import TfidfVectorizer"
   ]
  },
  {
   "cell_type": "code",
   "execution_count": 94,
   "id": "32f29bf0",
   "metadata": {},
   "outputs": [],
   "source": [
    "tfidf=TfidfVectorizer(analyzer=clean_text)"
   ]
  },
  {
   "cell_type": "code",
   "execution_count": 95,
   "id": "dede98a0",
   "metadata": {},
   "outputs": [],
   "source": [
    "x_vect=tfidf.fit_transform(df['text'])"
   ]
  },
  {
   "cell_type": "code",
   "execution_count": 96,
   "id": "853312c5",
   "metadata": {},
   "outputs": [
    {
     "data": {
      "text/plain": [
       "<5572x6188 sparse matrix of type '<class 'numpy.float64'>'\n",
       "\twith 42536 stored elements in Compressed Sparse Row format>"
      ]
     },
     "execution_count": 96,
     "metadata": {},
     "output_type": "execute_result"
    }
   ],
   "source": [
    "x_vect"
   ]
  },
  {
   "cell_type": "code",
   "execution_count": 97,
   "id": "6fd9b64e",
   "metadata": {},
   "outputs": [
    {
     "data": {
      "text/plain": [
       "array(['aa', 'aah', 'aaniye', ..., 'zouk', 'é', 'ü'], dtype=object)"
      ]
     },
     "execution_count": 97,
     "metadata": {},
     "output_type": "execute_result"
    }
   ],
   "source": [
    "tfidf.get_feature_names_out()"
   ]
  },
  {
   "cell_type": "code",
   "execution_count": 98,
   "id": "14622c1c",
   "metadata": {},
   "outputs": [],
   "source": [
    "y=df['label']"
   ]
  },
  {
   "cell_type": "markdown",
   "id": "51f497d8",
   "metadata": {},
   "source": [
    "### Cross Validation"
   ]
  },
  {
   "cell_type": "code",
   "execution_count": 99,
   "id": "8b0787f6",
   "metadata": {},
   "outputs": [],
   "source": [
    "from sklearn.model_selection import train_test_split"
   ]
  },
  {
   "cell_type": "code",
   "execution_count": 100,
   "id": "84c76976",
   "metadata": {},
   "outputs": [],
   "source": [
    "X_train,X_test,y_train,y_test=train_test_split(x_vect,y,random_state=0,stratify=y,test_size=0.25)"
   ]
  },
  {
   "cell_type": "code",
   "execution_count": 101,
   "id": "fdbc19dc",
   "metadata": {},
   "outputs": [
    {
     "data": {
      "text/plain": [
       "(4179, 6188)"
      ]
     },
     "execution_count": 101,
     "metadata": {},
     "output_type": "execute_result"
    }
   ],
   "source": [
    "X_train.shape"
   ]
  },
  {
   "cell_type": "code",
   "execution_count": 102,
   "id": "bf1477dd",
   "metadata": {},
   "outputs": [
    {
     "data": {
      "text/plain": [
       "(1393, 6188)"
      ]
     },
     "execution_count": 102,
     "metadata": {},
     "output_type": "execute_result"
    }
   ],
   "source": [
    "X_test.shape"
   ]
  },
  {
   "cell_type": "markdown",
   "id": "a2decc6f",
   "metadata": {},
   "source": [
    "### Build the model"
   ]
  },
  {
   "cell_type": "code",
   "execution_count": 103,
   "id": "87043303",
   "metadata": {},
   "outputs": [],
   "source": [
    "from sklearn.svm import SVC"
   ]
  },
  {
   "cell_type": "code",
   "execution_count": 104,
   "id": "bdd6fc23",
   "metadata": {},
   "outputs": [],
   "source": [
    "classifier=SVC(kernel='linear')"
   ]
  },
  {
   "cell_type": "code",
   "execution_count": 105,
   "id": "e4c69d73",
   "metadata": {},
   "outputs": [
    {
     "data": {
      "text/html": [
       "<style>#sk-container-id-3 {color: black;}#sk-container-id-3 pre{padding: 0;}#sk-container-id-3 div.sk-toggleable {background-color: white;}#sk-container-id-3 label.sk-toggleable__label {cursor: pointer;display: block;width: 100%;margin-bottom: 0;padding: 0.3em;box-sizing: border-box;text-align: center;}#sk-container-id-3 label.sk-toggleable__label-arrow:before {content: \"▸\";float: left;margin-right: 0.25em;color: #696969;}#sk-container-id-3 label.sk-toggleable__label-arrow:hover:before {color: black;}#sk-container-id-3 div.sk-estimator:hover label.sk-toggleable__label-arrow:before {color: black;}#sk-container-id-3 div.sk-toggleable__content {max-height: 0;max-width: 0;overflow: hidden;text-align: left;background-color: #f0f8ff;}#sk-container-id-3 div.sk-toggleable__content pre {margin: 0.2em;color: black;border-radius: 0.25em;background-color: #f0f8ff;}#sk-container-id-3 input.sk-toggleable__control:checked~div.sk-toggleable__content {max-height: 200px;max-width: 100%;overflow: auto;}#sk-container-id-3 input.sk-toggleable__control:checked~label.sk-toggleable__label-arrow:before {content: \"▾\";}#sk-container-id-3 div.sk-estimator input.sk-toggleable__control:checked~label.sk-toggleable__label {background-color: #d4ebff;}#sk-container-id-3 div.sk-label input.sk-toggleable__control:checked~label.sk-toggleable__label {background-color: #d4ebff;}#sk-container-id-3 input.sk-hidden--visually {border: 0;clip: rect(1px 1px 1px 1px);clip: rect(1px, 1px, 1px, 1px);height: 1px;margin: -1px;overflow: hidden;padding: 0;position: absolute;width: 1px;}#sk-container-id-3 div.sk-estimator {font-family: monospace;background-color: #f0f8ff;border: 1px dotted black;border-radius: 0.25em;box-sizing: border-box;margin-bottom: 0.5em;}#sk-container-id-3 div.sk-estimator:hover {background-color: #d4ebff;}#sk-container-id-3 div.sk-parallel-item::after {content: \"\";width: 100%;border-bottom: 1px solid gray;flex-grow: 1;}#sk-container-id-3 div.sk-label:hover label.sk-toggleable__label {background-color: #d4ebff;}#sk-container-id-3 div.sk-serial::before {content: \"\";position: absolute;border-left: 1px solid gray;box-sizing: border-box;top: 0;bottom: 0;left: 50%;z-index: 0;}#sk-container-id-3 div.sk-serial {display: flex;flex-direction: column;align-items: center;background-color: white;padding-right: 0.2em;padding-left: 0.2em;position: relative;}#sk-container-id-3 div.sk-item {position: relative;z-index: 1;}#sk-container-id-3 div.sk-parallel {display: flex;align-items: stretch;justify-content: center;background-color: white;position: relative;}#sk-container-id-3 div.sk-item::before, #sk-container-id-3 div.sk-parallel-item::before {content: \"\";position: absolute;border-left: 1px solid gray;box-sizing: border-box;top: 0;bottom: 0;left: 50%;z-index: -1;}#sk-container-id-3 div.sk-parallel-item {display: flex;flex-direction: column;z-index: 1;position: relative;background-color: white;}#sk-container-id-3 div.sk-parallel-item:first-child::after {align-self: flex-end;width: 50%;}#sk-container-id-3 div.sk-parallel-item:last-child::after {align-self: flex-start;width: 50%;}#sk-container-id-3 div.sk-parallel-item:only-child::after {width: 0;}#sk-container-id-3 div.sk-dashed-wrapped {border: 1px dashed gray;margin: 0 0.4em 0.5em 0.4em;box-sizing: border-box;padding-bottom: 0.4em;background-color: white;}#sk-container-id-3 div.sk-label label {font-family: monospace;font-weight: bold;display: inline-block;line-height: 1.2em;}#sk-container-id-3 div.sk-label-container {text-align: center;}#sk-container-id-3 div.sk-container {/* jupyter's `normalize.less` sets `[hidden] { display: none; }` but bootstrap.min.css set `[hidden] { display: none !important; }` so we also need the `!important` here to be able to override the default hidden behavior on the sphinx rendered scikit-learn.org. See: https://github.com/scikit-learn/scikit-learn/issues/21755 */display: inline-block !important;position: relative;}#sk-container-id-3 div.sk-text-repr-fallback {display: none;}</style><div id=\"sk-container-id-3\" class=\"sk-top-container\"><div class=\"sk-text-repr-fallback\"><pre>SVC(kernel=&#x27;linear&#x27;)</pre><b>In a Jupyter environment, please rerun this cell to show the HTML representation or trust the notebook. <br />On GitHub, the HTML representation is unable to render, please try loading this page with nbviewer.org.</b></div><div class=\"sk-container\" hidden><div class=\"sk-item\"><div class=\"sk-estimator sk-toggleable\"><input class=\"sk-toggleable__control sk-hidden--visually\" id=\"sk-estimator-id-3\" type=\"checkbox\" checked><label for=\"sk-estimator-id-3\" class=\"sk-toggleable__label sk-toggleable__label-arrow\">SVC</label><div class=\"sk-toggleable__content\"><pre>SVC(kernel=&#x27;linear&#x27;)</pre></div></div></div></div></div>"
      ],
      "text/plain": [
       "SVC(kernel='linear')"
      ]
     },
     "execution_count": 105,
     "metadata": {},
     "output_type": "execute_result"
    }
   ],
   "source": [
    "classifier.fit(X_train,y_train)"
   ]
  },
  {
   "cell_type": "markdown",
   "id": "52fc154b",
   "metadata": {},
   "source": [
    "### Performance Evaluation"
   ]
  },
  {
   "cell_type": "code",
   "execution_count": 106,
   "id": "cd3299e3",
   "metadata": {},
   "outputs": [],
   "source": [
    "from sklearn.metrics import accuracy_score\n",
    "from sklearn.metrics import classification_report,ConfusionMatrixDisplay"
   ]
  },
  {
   "cell_type": "code",
   "execution_count": 107,
   "id": "b2d4cbc8",
   "metadata": {},
   "outputs": [],
   "source": [
    "y_pred=classifier.predict(X_test)"
   ]
  },
  {
   "cell_type": "code",
   "execution_count": 108,
   "id": "0da5409f",
   "metadata": {},
   "outputs": [
    {
     "data": {
      "text/plain": [
       "0.9755922469490309"
      ]
     },
     "execution_count": 108,
     "metadata": {},
     "output_type": "execute_result"
    }
   ],
   "source": [
    "acc=accuracy_score(y_test,y_pred)\n",
    "acc"
   ]
  },
  {
   "cell_type": "code",
   "execution_count": 109,
   "id": "2ccf5559",
   "metadata": {},
   "outputs": [
    {
     "data": {
      "text/plain": [
       "<sklearn.metrics._plot.confusion_matrix.ConfusionMatrixDisplay at 0x7ff2e7efffd0>"
      ]
     },
     "execution_count": 109,
     "metadata": {},
     "output_type": "execute_result"
    },
    {
     "data": {
      "image/png": "[encoded data removed]",
      "text/plain": [
       "<Figure size 640x480 with 2 Axes>"
      ]
     },
     "metadata": {},
     "output_type": "display_data"
    }
   ],
   "source": [
    "ConfusionMatrixDisplay.from_predictions(y_test,y_pred)"
   ]
  },
  {
   "cell_type": "code",
   "execution_count": 110,
   "id": "7a4b8c77",
   "metadata": {},
   "outputs": [
    {
     "name": "stdout",
     "output_type": "stream",
     "text": [
      "              precision    recall  f1-score   support\n",
      "\n",
      "         ham       0.97      1.00      0.99      1206\n",
      "        spam       0.98      0.83      0.90       187\n",
      "\n",
      "    accuracy                           0.98      1393\n",
      "   macro avg       0.98      0.92      0.94      1393\n",
      "weighted avg       0.98      0.98      0.97      1393\n",
      "\n"
     ]
    }
   ],
   "source": [
    "print(classification_report(y_test,y_pred)) # recall is the individual accuracy of each class"
   ]
  },
  {
   "cell_type": "code",
   "execution_count": 111,
   "id": "d1a3f23f",
   "metadata": {},
   "outputs": [],
   "source": [
    "# for Abnormal class(spam) minimum 80% Accuracy required for good model (Here spam has 82% accuracy)"
   ]
  },
  {
   "cell_type": "code",
   "execution_count": 112,
   "id": "33dc602e",
   "metadata": {},
   "outputs": [],
   "source": [
    "# sample.csv"
   ]
  },
  {
   "cell_type": "code",
   "execution_count": 113,
   "id": "a9994dd4",
   "metadata": {},
   "outputs": [
    {
     "data": {
      "text/html": [
       "<div>\n",
       "<style scoped>\n",
       "    .dataframe tbody tr th:only-of-type {\n",
       "        vertical-align: middle;\n",
       "    }\n",
       "\n",
       "    .dataframe tbody tr th {\n",
       "        vertical-align: top;\n",
       "    }\n",
       "\n",
       "    .dataframe thead th {\n",
       "        text-align: right;\n",
       "    }\n",
       "</style>\n",
       "<table border=\"1\" class=\"dataframe\">\n",
       "  <thead>\n",
       "    <tr style=\"text-align: right;\">\n",
       "      <th></th>\n",
       "      <th>text</th>\n",
       "    </tr>\n",
       "  </thead>\n",
       "  <tbody>\n",
       "    <tr>\n",
       "      <th>0</th>\n",
       "      <td>Ok lar i double check wif da hair dresser alre...</td>\n",
       "    </tr>\n",
       "    <tr>\n",
       "      <th>1</th>\n",
       "      <td>As a valued customer, I am pleased to advise y...</td>\n",
       "    </tr>\n",
       "    <tr>\n",
       "      <th>2</th>\n",
       "      <td>Today is \"song dedicated day..\" Which song wil...</td>\n",
       "    </tr>\n",
       "  </tbody>\n",
       "</table>\n",
       "</div>"
      ],
      "text/plain": [
       "                                                text\n",
       "0  Ok lar i double check wif da hair dresser alre...\n",
       "1  As a valued customer, I am pleased to advise y...\n",
       "2  Today is \"song dedicated day..\" Which song wil..."
      ]
     },
     "execution_count": 113,
     "metadata": {},
     "output_type": "execute_result"
    }
   ],
   "source": [
    "sample=pd.read_csv(\"sample.csv\",names=['text'],sep='\\t')\n",
    "sample"
   ]
  },
  {
   "cell_type": "code",
   "execution_count": 114,
   "id": "e3c87847",
   "metadata": {},
   "outputs": [
    {
     "data": {
      "text/plain": [
       "array(['ham', 'spam', 'ham'], dtype=object)"
      ]
     },
     "execution_count": 114,
     "metadata": {},
     "output_type": "execute_result"
    }
   ],
   "source": [
    "classifier.predict(tfidf.transform(sample['text'])) # we use only transform on test data"
   ]
  },
  {
   "cell_type": "markdown",
   "id": "c54fe2ab",
   "metadata": {},
   "source": [
    "### Using Lammatizer"
   ]
  },
  {
   "cell_type": "code",
   "execution_count": 115,
   "id": "18eed418",
   "metadata": {},
   "outputs": [],
   "source": [
    "from nltk.stem import WordNetLemmatizer\n",
    "from nltk import pos_tag"
   ]
  },
  {
   "cell_type": "code",
   "execution_count": 116,
   "id": "afc9c444",
   "metadata": {},
   "outputs": [],
   "source": [
    "wnl=WordNetLemmatizer()"
   ]
  },
  {
   "cell_type": "code",
   "execution_count": 117,
   "id": "f4a96944",
   "metadata": {},
   "outputs": [],
   "source": [
    "sent='Hello friends! How are you? Welcome to python Programming'"
   ]
  },
  {
   "cell_type": "code",
   "execution_count": 118,
   "id": "55abee19",
   "metadata": {},
   "outputs": [],
   "source": [
    "tokens1=word_tokenize(sent)"
   ]
  },
  {
   "cell_type": "code",
   "execution_count": 119,
   "id": "4df769c9",
   "metadata": {},
   "outputs": [],
   "source": [
    "tokens2=[x.lower() for x in tokens1 if x not in string.punctuation] "
   ]
  },
  {
   "cell_type": "code",
   "execution_count": 120,
   "id": "c4503e77",
   "metadata": {},
   "outputs": [],
   "source": [
    "tokens3=[x for x in tokens2 if x not in stopwords.words('english')]"
   ]
  },
  {
   "cell_type": "code",
   "execution_count": 121,
   "id": "cdd7b5a2",
   "metadata": {},
   "outputs": [],
   "source": [
    "tokens4=[]\n",
    "tags=pos_tag(tokens3)\n",
    "for word in tags:\n",
    "    if word[1].startswith('N'):\n",
    "        tokens4.append(wnl.lemmatize(word[0],pos='n'))\n",
    "    if word[1].startswith('V'):\n",
    "        tokens4.append(wnl.lemmatize(word[0],pos='v'))\n",
    "    if word[1].startswith('R'):\n",
    "        tokens4.append(wnl.lemmatize(word[0],pos='r'))\n",
    "    if word[1].startswith('J'):\n",
    "        tokens4.append(wnl.lemmatize(word[0],pos='a'))"
   ]
  },
  {
   "cell_type": "code",
   "execution_count": 122,
   "id": "2b586806",
   "metadata": {},
   "outputs": [
    {
     "data": {
      "text/plain": [
       "[('hello', 'NN'),\n",
       " ('friends', 'VBZ'),\n",
       " ('welcome', 'JJ'),\n",
       " ('python', 'NN'),\n",
       " ('programming', 'NN')]"
      ]
     },
     "execution_count": 122,
     "metadata": {},
     "output_type": "execute_result"
    }
   ],
   "source": [
    "tags"
   ]
  },
  {
   "cell_type": "code",
   "execution_count": 123,
   "id": "34608d1d",
   "metadata": {},
   "outputs": [
    {
     "data": {
      "text/plain": [
       "['hello', 'friends', 'welcome', 'python', 'programming']"
      ]
     },
     "execution_count": 123,
     "metadata": {},
     "output_type": "execute_result"
    }
   ],
   "source": [
    "tokens4"
   ]
  },
  {
   "cell_type": "code",
   "execution_count": 124,
   "id": "2c0d35ae",
   "metadata": {},
   "outputs": [],
   "source": [
    "def clean_text1(text):\n",
    "    ls=LancasterStemmer() \n",
    "    tokens1=word_tokenize(text)\n",
    "    tokens2=[x.lower() for x in tokens1 if x.isalpha() or x.isdigit()] # if x not in string.punctuation\n",
    "    tokens3=[x for x in tokens2 if x not in stopwords.words('english')] \n",
    "    tokens4=[]\n",
    "    tags=pos_tag(tokens3)\n",
    "    for word in tags:\n",
    "        if word[1].startswith('N'):\n",
    "            tokens4.append(wnl.lemmatize(word[0],pos='n'))\n",
    "        if word[1].startswith('V'):\n",
    "            tokens4.append(wnl.lemmatize(word[0],pos='v'))\n",
    "        if word[1].startswith('R'):\n",
    "            tokens4.append(wnl.lemmatize(word[0],pos='r'))\n",
    "        if word[1].startswith('J'):\n",
    "            tokens4.append(wnl.lemmatize(word[0],pos='a'))\n",
    "    return tokens4"
   ]
  },
  {
   "cell_type": "code",
   "execution_count": 125,
   "id": "47c0225f",
   "metadata": {},
   "outputs": [
    {
     "data": {
      "text/plain": [
       "['hello', 'friends', 'welcome', 'python', 'programming']"
      ]
     },
     "execution_count": 125,
     "metadata": {},
     "output_type": "execute_result"
    }
   ],
   "source": [
    "clean_text1(sent)"
   ]
  },
  {
   "cell_type": "code",
   "execution_count": 126,
   "id": "95cd3b98",
   "metadata": {},
   "outputs": [
    {
     "data": {
      "text/plain": [
       "<5572x6188 sparse matrix of type '<class 'numpy.float64'>'\n",
       "\twith 42536 stored elements in Compressed Sparse Row format>"
      ]
     },
     "execution_count": 126,
     "metadata": {},
     "output_type": "execute_result"
    }
   ],
   "source": [
    "tfidf=TfidfVectorizer(analyzer=clean_text1)\n",
    "x_vect=tfidf.fit_transform(df['text'])\n",
    "x_vect"
   ]
  },
  {
   "cell_type": "code",
   "execution_count": 127,
   "id": "0b8c8050",
   "metadata": {},
   "outputs": [
    {
     "name": "stdout",
     "output_type": "stream",
     "text": [
      "['aa' 'aah' 'aaniye' ... 'zouk' 'é' 'ü']\n",
      "   (4179, 6188)\n",
      "    (1393, 6188)\n"
     ]
    }
   ],
   "source": [
    "print(tfidf.get_feature_names_out())\n",
    "y=df['label']\n",
    "X_train,X_test,y_train,y_test=train_test_split(x_vect,y,random_state=0,stratify=y,test_size=0.25)\n",
    "print(\"  \",X_train.shape)\n",
    "print(\"   \",X_test.shape)\n",
    "classifier=SVC(kernel='linear')\n",
    "classifier.fit(X_train,y_train)\n",
    "y_pred=classifier.predict(X_test)\n",
    "acc=accuracy_score(y_test,y_pred)"
   ]
  },
  {
   "cell_type": "code",
   "execution_count": 128,
   "id": "fb84786c",
   "metadata": {},
   "outputs": [
    {
     "data": {
      "text/plain": [
       "0.9755922469490309"
      ]
     },
     "execution_count": 128,
     "metadata": {},
     "output_type": "execute_result"
    }
   ],
   "source": [
    "acc\n"
   ]
  },
  {
   "cell_type": "code",
   "execution_count": 129,
   "id": "d2238b4e",
   "metadata": {},
   "outputs": [
    {
     "data": {
      "text/plain": [
       "<sklearn.metrics._plot.confusion_matrix.ConfusionMatrixDisplay at 0x7ff2e7ee6b10>"
      ]
     },
     "execution_count": 129,
     "metadata": {},
     "output_type": "execute_result"
    },
    {
     "data": {
      "image/png": "[encoded data removed]",
      "text/plain": [
       "<Figure size 640x480 with 2 Axes>"
      ]
     },
     "metadata": {},
     "output_type": "display_data"
    }
   ],
   "source": [
    "ConfusionMatrixDisplay.from_predictions(y_test,y_pred)\n"
   ]
  },
  {
   "cell_type": "code",
   "execution_count": 130,
   "id": "de5ff846",
   "metadata": {},
   "outputs": [
    {
     "name": "stdout",
     "output_type": "stream",
     "text": [
      "              precision    recall  f1-score   support\n",
      "\n",
      "         ham       0.97      1.00      0.99      1206\n",
      "        spam       0.98      0.83      0.90       187\n",
      "\n",
      "    accuracy                           0.98      1393\n",
      "   macro avg       0.98      0.92      0.94      1393\n",
      "weighted avg       0.98      0.98      0.97      1393\n",
      "\n"
     ]
    }
   ],
   "source": [
    "print(classification_report(y_test,y_pred))\n"
   ]
  },
  {
   "cell_type": "code",
   "execution_count": 131,
   "id": "811f36f8",
   "metadata": {},
   "outputs": [
    {
     "data": {
      "text/plain": [
       "array(['ham', 'spam', 'ham'], dtype=object)"
      ]
     },
     "execution_count": 131,
     "metadata": {},
     "output_type": "execute_result"
    }
   ],
   "source": [
    "sample=pd.read_csv(\"sample.csv\",names=['text'],sep='\\t')\n",
    "sample\n",
    "classifier.predict(tfidf.transform(sample['text']))"
   ]
  },
  {
   "cell_type": "code",
   "execution_count": null,
   "id": "53f52edf",
   "metadata": {},
   "outputs": [],
   "source": []
  }
 ],
 "metadata": {
  "kernelspec": {
   "display_name": "Python 3 (ipykernel)",
   "language": "python",
   "name": "python3"
  },
  "language_info": {
   "codemirror_mode": {
    "name": "ipython",
    "version": 3
   },
   "file_extension": ".py",
   "mimetype": "text/x-python",
   "name": "python",
   "nbconvert_exporter": "python",
   "pygments_lexer": "ipython3",
   "version": "3.11.4"
  }
 },
 "nbformat": 4,
 "nbformat_minor": 5
}
