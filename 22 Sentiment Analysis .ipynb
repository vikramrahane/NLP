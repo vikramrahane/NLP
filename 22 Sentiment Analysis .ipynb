{
 "cells": [
  {
   "cell_type": "code",
   "execution_count": null,
   "metadata": {
    "id": "VDSFAKRT8N1p"
   },
   "outputs": [],
   "source": []
  },
  {
   "cell_type": "code",
   "execution_count": 12,
   "metadata": {
    "colab": {
     "base_uri": "https://localhost:8080/"
    },
    "executionInfo": {
     "elapsed": 4139,
     "status": "ok",
     "timestamp": 1702621934957,
     "user": {
      "displayName": "Pradhyumn Thote",
      "userId": "10558764749608816690"
     },
     "user_tz": -330
    },
    "id": "CBnYXKKh5fIB",
    "outputId": "f83de642-8eb5-4769-9606-63d64ccf0990"
   },
   "outputs": [
    {
     "name": "stdout",
     "output_type": "stream",
     "text": [
      "Drive already mounted at /content/drive; to attempt to forcibly remount, call drive.mount(\"/content/drive\", force_remount=True).\n"
     ]
    }
   ],
   "source": [
    "from google.colab import drive\n",
    "drive.mount('/content/drive')"
   ]
  },
  {
   "cell_type": "code",
   "execution_count": 13,
   "metadata": {
    "executionInfo": {
     "elapsed": 11,
     "status": "ok",
     "timestamp": 1702621934957,
     "user": {
      "displayName": "Pradhyumn Thote",
      "userId": "10558764749608816690"
     },
     "user_tz": -330
    },
    "id": "s8gTOn1U51_2"
   },
   "outputs": [],
   "source": [
    "import string\n",
    "import re\n",
    "import os\n",
    "import nltk\n",
    "from nltk.corpus import stopwords\n",
    "from keras.preprocessing.text import Tokenizer\n",
    "from keras.utils import plot_model\n",
    "import numpy as np\n",
    "import pandas as pd"
   ]
  },
  {
   "cell_type": "code",
   "execution_count": 14,
   "metadata": {
    "executionInfo": {
     "elapsed": 10,
     "status": "ok",
     "timestamp": 1702621934957,
     "user": {
      "displayName": "Pradhyumn Thote",
      "userId": "10558764749608816690"
     },
     "user_tz": -330
    },
    "id": "MmnZcGBM6409"
   },
   "outputs": [],
   "source": [
    "def load_doc(filename):\n",
    "    #open the file  as read only\n",
    "    file= open(filename,'r')\n",
    "    # read all text\n",
    "    text=file.read()\n",
    "    #close the file\n",
    "    file.close()\n",
    "    return text"
   ]
  },
  {
   "cell_type": "code",
   "execution_count": 15,
   "metadata": {
    "colab": {
     "base_uri": "https://localhost:8080/",
     "height": 122
    },
    "executionInfo": {
     "elapsed": 9,
     "status": "ok",
     "timestamp": 1702621934957,
     "user": {
      "displayName": "Pradhyumn Thote",
      "userId": "10558764749608816690"
     },
     "user_tz": -330
    },
    "id": "eZsE0bmV8bVW",
    "outputId": "fb7dfed7-6a59-4d16-dfc3-0702d7ebc5c4"
   },
   "outputs": [
    {
     "data": {
      "application/vnd.google.colaboratory.intrinsic+json": {
       "type": "string"
      },
      "text/plain": [
       "'for those of us who weren\\'t yet born when the 1960\\'s rock \\'n\\' rolled around , monterey pop affords an affectionate glimpse of the music that influenced our parents to be hippies . \\nfrom otis redding to jimi hendrix , janis joplin to the mamas and the papas , and jefferson airplane to the who , this documentary is jam-packed with contagious energy . \\nbut i give fair warning that i will reveal the ending , which does not do the rest of the film the justice it deserves . \\nshot in 1969 at an outdoor concert that precluded woodstock , the film defies the stereotype of the general population at the time . \\nsure , some have painted their faces and smoke joints , but d . a . \\npennebaker ( the war room , moon over broadway ) surprisingly chooses to show a broad spectrum of the audience . \\nno matter who is watching , it all comes back to the talented musicians that stir your soul . \\nthe excitement starts before the music even begins . \\na young girl is cleaning thousands of seats and when asked why by an interviewer , she replies that she feels lucky to do so . \\nthere are moments of organized craziness as john phillips , leader of the mamas and the papas and one of the concert organizers , tries to get in touch with dionne warwick . \\nand when one band is tuning up , a member remarks , \" finally , a decent sound system ! \" \\nyou can tell just by watching these first few moments that this show isn\\'t about vanity , it\\'s about playing the music you love to those who have an appreciation for it , a two-way street . \\nthis interaction between audience and performer continues throughout the film and becomes infectious to the audience . \\nit\\'s impossible to tear your eyes away from janis joplin as she belts out her ballad about love being a ball and chain . \\nand while the lyrics to \" wild thing \" may not be all that complicated , watching jimi hendrix mime having sex with his guitar is as captivating as otis redding singing about love . \\neven if you don\\'t recognize every band you see on stage , you can imagine being as enthralled by their work as the public sitting in those seats . \\nthe only drawback to the film is the ending , which unfortunately i must reveal . \\nall the other bands , big names then and still today , got approximately 7 to 10 minutes of screen time . \\nin contrast , the last band on camera , a wholly forgettable one , gets an entire 18 minutes of screen time . \\nfor a film that\\'s only 78 minutes long , that\\'s too large of a chunk , especially when previous acts are much more stimulating . \\nall in all , monterey pop is a precious , rare look at a time period that still holds sway over us . \\nthe variety of music , as well as the beautifully shot performances , are easy to become immersed in . \\nif there was ever any question as to why most of these bands were so popular , this is quickly dispelled . \\nit\\'s almost depressing to think that music this moving doesn\\'t get made much anymore . \\ninstead we\\'re stuck with * nsync , the backstreet boys , and jennifer lopez , all of whom should have stuck with modeling . \\n'"
      ]
     },
     "execution_count": 15,
     "metadata": {},
     "output_type": "execute_result"
    }
   ],
   "source": [
    "text= load_doc('drive/MyDrive/review_polarity/txt_sentoken/pos/cv026_29325.txt')\n",
    "text"
   ]
  },
  {
   "cell_type": "code",
   "execution_count": 16,
   "metadata": {
    "executionInfo": {
     "elapsed": 8,
     "status": "ok",
     "timestamp": 1702621934958,
     "user": {
      "displayName": "Pradhyumn Thote",
      "userId": "10558764749608816690"
     },
     "user_tz": -330
    },
    "id": "sux8GseX8Xfe"
   },
   "outputs": [],
   "source": [
    "# turn a doc into clean tokens\n",
    "def clean_doc(doc):\n",
    "  #split into tokens by white space\n",
    "  tokens= doc.split()\n",
    "  #prepare regex for char filtering\n",
    "  re_punc= re.compile('[%s]'% re.escape(string.punctuation))\n",
    "  #remove punctiuation from each word\n",
    "  tokens= [re_punc.sub('',w) for w in tokens]\n",
    "  # remove remaining tokens that are not alphabetic\n",
    "  tokens=[word for word in tokens if word.isalpha()]\n",
    "  # filterout stopwords\n",
    "  stop_words= set(stopwords.words('english'))\n",
    "  tokens= [w for w in tokens if not w in stop_words]\n",
    "  # filter out short tokens\n",
    "  tokens= [word for word in tokens if len(word) > 1]\n",
    "  return tokens"
   ]
  },
  {
   "cell_type": "code",
   "execution_count": 17,
   "metadata": {
    "colab": {
     "base_uri": "https://localhost:8080/"
    },
    "executionInfo": {
     "elapsed": 6,
     "status": "ok",
     "timestamp": 1702621935458,
     "user": {
      "displayName": "Pradhyumn Thote",
      "userId": "10558764749608816690"
     },
     "user_tz": -330
    },
    "id": "Ug-y0168888J",
    "outputId": "a90f409d-af34-4e64-a426-6bb9c7e889fe"
   },
   "outputs": [
    {
     "name": "stderr",
     "output_type": "stream",
     "text": [
      "[nltk_data] Downloading package stopwords to /root/nltk_data...\n",
      "[nltk_data]   Package stopwords is already up-to-date!\n"
     ]
    },
    {
     "data": {
      "text/plain": [
       "True"
      ]
     },
     "execution_count": 17,
     "metadata": {},
     "output_type": "execute_result"
    }
   ],
   "source": [
    "import nltk\n",
    "nltk.download('stopwords')"
   ]
  },
  {
   "cell_type": "code",
   "execution_count": 18,
   "metadata": {
    "colab": {
     "base_uri": "https://localhost:8080/"
    },
    "executionInfo": {
     "elapsed": 4,
     "status": "ok",
     "timestamp": 1702621935458,
     "user": {
      "displayName": "Pradhyumn Thote",
      "userId": "10558764749608816690"
     },
     "user_tz": -330
    },
    "id": "YqtIR32s8Xmh",
    "outputId": "e14cb06d-830d-4974-d0d2-94b5c46e1e0d"
   },
   "outputs": [
    {
     "data": {
      "text/plain": [
       "261"
      ]
     },
     "execution_count": 18,
     "metadata": {},
     "output_type": "execute_result"
    }
   ],
   "source": [
    "clean= clean_doc(text)\n",
    "len(clean)"
   ]
  },
  {
   "cell_type": "code",
   "execution_count": 19,
   "metadata": {
    "executionInfo": {
     "elapsed": 3,
     "status": "ok",
     "timestamp": 1702621936244,
     "user": {
      "displayName": "Pradhyumn Thote",
      "userId": "10558764749608816690"
     },
     "user_tz": -330
    },
    "id": "r5-NuDCYBvw2"
   },
   "outputs": [],
   "source": [
    "# load doc, clean and return line of tokens\n",
    "def doc_to_line(filename, vocab):\n",
    "  #load the doc\n",
    "  doc=load_doc(filename)\n",
    "  # clean doc\n",
    "  tokens= clean_doc(doc)\n",
    "  #filter by vocab\n",
    "  tokens=[w for w in tokens if w in vocab]\n",
    "  return ' '.join(tokens)"
   ]
  },
  {
   "cell_type": "code",
   "execution_count": 24,
   "metadata": {
    "executionInfo": {
     "elapsed": 401,
     "status": "ok",
     "timestamp": 1702621988602,
     "user": {
      "displayName": "Pradhyumn Thote",
      "userId": "10558764749608816690"
     },
     "user_tz": -330
    },
    "id": "jmTsLoc3DXxs"
   },
   "outputs": [],
   "source": [
    "vocab= open('drive/MyDrive/datasets/vocab.txt')\n",
    "vocab=vocab.read().split()"
   ]
  },
  {
   "cell_type": "code",
   "execution_count": 25,
   "metadata": {
    "colab": {
     "base_uri": "https://localhost:8080/",
     "height": 122
    },
    "executionInfo": {
     "elapsed": 7,
     "status": "ok",
     "timestamp": 1702621990020,
     "user": {
      "displayName": "Pradhyumn Thote",
      "userId": "10558764749608816690"
     },
     "user_tz": -330
    },
    "id": "pixSQTakEII5",
    "outputId": "be83b651-f5e3-482b-e7f2-9f302161a03e"
   },
   "outputs": [
    {
     "data": {
      "application/vnd.google.colaboratory.intrinsic+json": {
       "type": "string"
      },
      "text/plain": [
       "'us werent yet born rock rolled around monterey pop affectionate glimpse music influenced parents hippies otis redding jimi hendrix janis joplin mamas papas jefferson airplane documentary jampacked contagious energy give fair warning reveal ending rest film justice deserves shot outdoor concert film defies stereotype general population time sure painted faces smoke joints war room moon broadway surprisingly chooses show broad spectrum audience matter watching comes back talented musicians stir soul excitement starts music even begins young girl cleaning thousands seats asked interviewer replies feels lucky moments organized craziness john phillips leader mamas papas one concert tries get touch one band tuning member remarks finally decent sound system tell watching first moments show isnt vanity playing music love appreciation street interaction audience performer continues throughout film becomes infectious audience impossible tear eyes away janis joplin belts ballad love ball chain lyrics wild thing may complicated watching jimi hendrix mime sex guitar captivating otis redding singing love even dont recognize every band see stage imagine enthralled work public sitting seats drawback film ending unfortunately must reveal bands big names still today got approximately minutes screen time contrast last band camera wholly forgettable one gets entire minutes screen time film thats minutes long thats large chunk especially previous acts much stimulating monterey pop precious rare look time period still holds sway us variety music well beautifully shot performances easy become immersed ever question bands popular quickly almost depressing think music moving doesnt get made much anymore instead stuck backstreet boys jennifer lopez stuck modeling'"
      ]
     },
     "execution_count": 25,
     "metadata": {},
     "output_type": "execute_result"
    }
   ],
   "source": [
    "doc_to_line('drive/MyDrive/review_polarity/txt_sentoken/pos/cv026_29325.txt',vocab)"
   ]
  },
  {
   "cell_type": "code",
   "execution_count": 26,
   "metadata": {
    "executionInfo": {
     "elapsed": 3,
     "status": "ok",
     "timestamp": 1702621991522,
     "user": {
      "displayName": "Pradhyumn Thote",
      "userId": "10558764749608816690"
     },
     "user_tz": -330
    },
    "id": "6xzm2txcEohy"
   },
   "outputs": [],
   "source": [
    "from pickle import load\n",
    "def process_train(directory, vocab):\n",
    "  document= list()\n",
    "  for filename in listdir(directory):\n",
    "    if not filename.startswith('cv9'):\n",
    "      path= directory+'/'+filename\n",
    "      doc= load_doc(path)\n",
    "      tokens= claen_doc(doc, vocab)\n",
    "      documents.append(tokens)\n",
    "  return documents"
   ]
  },
  {
   "cell_type": "code",
   "execution_count": 27,
   "metadata": {
    "executionInfo": {
     "elapsed": 3,
     "status": "ok",
     "timestamp": 1702621992067,
     "user": {
      "displayName": "Pradhyumn Thote",
      "userId": "10558764749608816690"
     },
     "user_tz": -330
    },
    "id": "M-Wbf8bFGpJJ"
   },
   "outputs": [],
   "source": [
    "from pickle import load\n",
    "def process_test(directory, vocab):\n",
    "  document= list()\n",
    "  for filename in listdir(directory):\n",
    "    if filename.startswith('cv9'):\n",
    "      path= directory+'/'+filename\n",
    "      doc= load_doc(path)\n",
    "      tokens= claen_doc(doc, vocab)\n",
    "      documents.append(tokens)\n",
    "  return documents"
   ]
  },
  {
   "cell_type": "code",
   "execution_count": 28,
   "metadata": {
    "executionInfo": {
     "elapsed": 4,
     "status": "ok",
     "timestamp": 1702621993641,
     "user": {
      "displayName": "Pradhyumn Thote",
      "userId": "10558764749608816690"
     },
     "user_tz": -330
    },
    "id": "xUGKxCjaG0aa"
   },
   "outputs": [],
   "source": [
    "from os import listdir\n",
    "# load all docs in dictiionary\n",
    "def process_docs(directory,vocab, is_train):\n",
    "  documents=list()\n",
    "  #walk through all files in the folder\n",
    "  for filename in listdir(directory):\n",
    "    # skip any review in the test set\n",
    "    if is_train and filename.startswith('cv9'):\n",
    "      continue\n",
    "    if not is_train and filename.startswith('cv9'):\n",
    "      continue\n",
    "    # create the full path of the file to open\n",
    "    path= directory+'/'+filename\n",
    "    #load the doc\n",
    "    doc= load_doc(path)\n",
    "    #claen doc\n",
    "    tokens= clean_doc(doc)\n",
    "    #add to list\n",
    "    documents.append(tokens)\n",
    "  return documents"
   ]
  },
  {
   "cell_type": "code",
   "execution_count": 29,
   "metadata": {
    "colab": {
     "base_uri": "https://localhost:8080/"
    },
    "executionInfo": {
     "elapsed": 20112,
     "status": "ok",
     "timestamp": 1702622014435,
     "user": {
      "displayName": "Pradhyumn Thote",
      "userId": "10558764749608816690"
     },
     "user_tz": -330
    },
    "id": "2NJ-yoppJYSz",
    "outputId": "ddc9b893-c500-4dbc-cfbe-3e00bdcb0c91"
   },
   "outputs": [
    {
     "data": {
      "text/plain": [
       "900"
      ]
     },
     "execution_count": 29,
     "metadata": {},
     "output_type": "execute_result"
    }
   ],
   "source": [
    "lines= process_docs('drive/MyDrive/review_polarity/txt_sentoken/pos',vocab,False)\n",
    "len(lines)"
   ]
  },
  {
   "cell_type": "code",
   "execution_count": 30,
   "metadata": {
    "colab": {
     "base_uri": "https://localhost:8080/"
    },
    "executionInfo": {
     "elapsed": 2540,
     "status": "ok",
     "timestamp": 1702622016969,
     "user": {
      "displayName": "Pradhyumn Thote",
      "userId": "10558764749608816690"
     },
     "user_tz": -330
    },
    "id": "Rv-q_QoxJ8wx",
    "outputId": "48c24209-1207-437f-e4a8-0670e33a686d"
   },
   "outputs": [
    {
     "data": {
      "text/plain": [
       "900"
      ]
     },
     "execution_count": 30,
     "metadata": {},
     "output_type": "execute_result"
    }
   ],
   "source": [
    "lines= process_docs('drive/MyDrive/review_polarity/txt_sentoken/pos',vocab,True)\n",
    "len(lines)"
   ]
  },
  {
   "cell_type": "code",
   "execution_count": 39,
   "metadata": {
    "executionInfo": {
     "elapsed": 4,
     "status": "ok",
     "timestamp": 1702622866013,
     "user": {
      "displayName": "Pradhyumn Thote",
      "userId": "10558764749608816690"
     },
     "user_tz": -330
    },
    "id": "sqdQwrALKsb_"
   },
   "outputs": [],
   "source": [
    "# loadand clean a dataset\n",
    "def load_clean_dataset(vocab,is_train):\n",
    "  #load documents\n",
    "  neg=process_docs('drive/MyDrive/review_polarity/txt_sentoken/neg', vocab, is_train)\n",
    "  pos=process_docs('drive/MyDrive/review_polarity/txt_sentoken/pos', vocab, is_train)\n",
    "  docs=neg+pos\n",
    "\n",
    "  #prepare labels\n",
    "  labels=[0 for _ in range(len(neg))]+[1 for _ in range(len(pos))]\n",
    "  return docs, labels"
   ]
  },
  {
   "cell_type": "code",
   "execution_count": 40,
   "metadata": {
    "executionInfo": {
     "elapsed": 10506,
     "status": "ok",
     "timestamp": 1702622878144,
     "user": {
      "displayName": "Pradhyumn Thote",
      "userId": "10558764749608816690"
     },
     "user_tz": -330
    },
    "id": "8gupjaTPMdBL"
   },
   "outputs": [],
   "source": [
    "train,train_labels= load_clean_dataset(vocab,True)\n",
    "test,test_labels= load_clean_dataset(vocab,False)"
   ]
  },
  {
   "cell_type": "code",
   "execution_count": 41,
   "metadata": {
    "colab": {
     "base_uri": "https://localhost:8080/"
    },
    "executionInfo": {
     "elapsed": 10,
     "status": "ok",
     "timestamp": 1702622878145,
     "user": {
      "displayName": "Pradhyumn Thote",
      "userId": "10558764749608816690"
     },
     "user_tz": -330
    },
    "id": "5wh7A5VHMvGa",
    "outputId": "21b16e48-2bf0-42a8-e204-33e000136b00"
   },
   "outputs": [
    {
     "data": {
      "text/plain": [
       "(1810, 1810)"
      ]
     },
     "execution_count": 41,
     "metadata": {},
     "output_type": "execute_result"
    }
   ],
   "source": [
    "len(train),len(train_labels)"
   ]
  },
  {
   "cell_type": "code",
   "execution_count": 42,
   "metadata": {
    "colab": {
     "base_uri": "https://localhost:8080/"
    },
    "executionInfo": {
     "elapsed": 7,
     "status": "ok",
     "timestamp": 1702622878145,
     "user": {
      "displayName": "Pradhyumn Thote",
      "userId": "10558764749608816690"
     },
     "user_tz": -330
    },
    "id": "ZCZY0v1FM9S3",
    "outputId": "ae53ed5f-6c9f-4c2e-e9e3-f750eda84d50"
   },
   "outputs": [
    {
     "data": {
      "text/plain": [
       "(1810, 1810)"
      ]
     },
     "execution_count": 42,
     "metadata": {},
     "output_type": "execute_result"
    }
   ],
   "source": [
    "len(test),len(test_labels)"
   ]
  },
  {
   "cell_type": "code",
   "execution_count": 38,
   "metadata": {
    "executionInfo": {
     "elapsed": 437,
     "status": "ok",
     "timestamp": 1702622554864,
     "user": {
      "displayName": "Pradhyumn Thote",
      "userId": "10558764749608816690"
     },
     "user_tz": -330
    },
    "id": "_by4D38ZNWQb"
   },
   "outputs": [],
   "source": [
    "from keras.models import Sequential\n",
    "from keras.layers import Dense"
   ]
  },
  {
   "cell_type": "code",
   "execution_count": 47,
   "metadata": {
    "executionInfo": {
     "elapsed": 4,
     "status": "ok",
     "timestamp": 1702623262742,
     "user": {
      "displayName": "Pradhyumn Thote",
      "userId": "10558764749608816690"
     },
     "user_tz": -330
    },
    "id": "b5qjXx-sNmTS"
   },
   "outputs": [],
   "source": [
    "# define the model\n",
    "def define_model (in_words):\n",
    "  # define network\n",
    "  model= Sequential()\n",
    "  model.add(Dense(50, input_shape=(n_words,),activation='relu'))\n",
    "  model.add(Dense(1, activation='sigmoid'))\n",
    "  #compile network\n",
    "  model.compile(loss='binary_crossentropy',optimizer='adam',metrics=['accuracy'])\n",
    "  #summarize defined model\n",
    "  model.summary()\n",
    "  plot_model(model,to_file='model.png',show_shapes=True)\n",
    "  return model"
   ]
  },
  {
   "cell_type": "code",
   "execution_count": 43,
   "metadata": {
    "executionInfo": {
     "elapsed": 861,
     "status": "ok",
     "timestamp": 1702623004363,
     "user": {
      "displayName": "Pradhyumn Thote",
      "userId": "10558764749608816690"
     },
     "user_tz": -330
    },
    "id": "fF5rM6KaO7gU"
   },
   "outputs": [],
   "source": [
    "# fit a tokenoizer\n",
    "def create_tokenizer(lines):\n",
    "  tokenizer= Tokenizer()\n",
    "  tokenizer.fit_on_texts(lines)\n",
    "  return tokenizer"
   ]
  },
  {
   "cell_type": "code",
   "execution_count": 44,
   "metadata": {
    "executionInfo": {
     "elapsed": 832,
     "status": "ok",
     "timestamp": 1702623051691,
     "user": {
      "displayName": "Pradhyumn Thote",
      "userId": "10558764749608816690"
     },
     "user_tz": -330
    },
    "id": "5ggf9MM0O7UY"
   },
   "outputs": [],
   "source": [
    "# create the tokenizer\n",
    "tokenizer= create_tokenizer(train)"
   ]
  },
  {
   "cell_type": "code",
   "execution_count": 45,
   "metadata": {
    "executionInfo": {
     "elapsed": 1393,
     "status": "ok",
     "timestamp": 1702623108754,
     "user": {
      "displayName": "Pradhyumn Thote",
      "userId": "10558764749608816690"
     },
     "user_tz": -330
    },
    "id": "WbOE3lHIPfek"
   },
   "outputs": [],
   "source": [
    "#encode data\n",
    "x_train= tokenizer.texts_to_matrix(train, mode='binary')"
   ]
  },
  {
   "cell_type": "code",
   "execution_count": 50,
   "metadata": {
    "colab": {
     "base_uri": "https://localhost:8080/"
    },
    "executionInfo": {
     "elapsed": 511,
     "status": "ok",
     "timestamp": 1702623316084,
     "user": {
      "displayName": "Pradhyumn Thote",
      "userId": "10558764749608816690"
     },
     "user_tz": -330
    },
    "id": "CZ82tWV7PtUE",
    "outputId": "9157be20-c356-49c6-87fd-5f8c7aaa2f37"
   },
   "outputs": [
    {
     "data": {
      "text/plain": [
       "(1810, 44277)"
      ]
     },
     "execution_count": 50,
     "metadata": {},
     "output_type": "execute_result"
    }
   ],
   "source": [
    "x_train.shape"
   ]
  },
  {
   "cell_type": "code",
   "execution_count": 48,
   "metadata": {
    "executionInfo": {
     "elapsed": 1118,
     "status": "ok",
     "timestamp": 1702623296174,
     "user": {
      "displayName": "Pradhyumn Thote",
      "userId": "10558764749608816690"
     },
     "user_tz": -330
    },
    "id": "RqVjAkwKPukT"
   },
   "outputs": [],
   "source": [
    "x_test=tokenizer.texts_to_matrix(test, mode='binary')"
   ]
  },
  {
   "cell_type": "code",
   "execution_count": 49,
   "metadata": {
    "colab": {
     "base_uri": "https://localhost:8080/"
    },
    "executionInfo": {
     "elapsed": 9,
     "status": "ok",
     "timestamp": 1702623303933,
     "user": {
      "displayName": "Pradhyumn Thote",
      "userId": "10558764749608816690"
     },
     "user_tz": -330
    },
    "id": "qtjL0cN4Qa-t",
    "outputId": "d254ee39-1d14-486c-e1cd-2ca4f8a05d22"
   },
   "outputs": [
    {
     "data": {
      "text/plain": [
       "(1810, 44277)"
      ]
     },
     "execution_count": 49,
     "metadata": {},
     "output_type": "execute_result"
    }
   ],
   "source": [
    "x_test.shape"
   ]
  },
  {
   "cell_type": "code",
   "execution_count": 52,
   "metadata": {
    "colab": {
     "base_uri": "https://localhost:8080/"
    },
    "executionInfo": {
     "elapsed": 620,
     "status": "ok",
     "timestamp": 1702623443881,
     "user": {
      "displayName": "Pradhyumn Thote",
      "userId": "10558764749608816690"
     },
     "user_tz": -330
    },
    "id": "vHXEPJ5-QdRI",
    "outputId": "56874224-0fdf-455f-9209-093e478e41bc"
   },
   "outputs": [
    {
     "name": "stdout",
     "output_type": "stream",
     "text": [
      "Model: \"sequential\"\n",
      "_________________________________________________________________\n",
      " Layer (type)                Output Shape              Param #   \n",
      "=================================================================\n",
      " dense (Dense)               (None, 50)                2213900   \n",
      "                                                                 \n",
      " dense_1 (Dense)             (None, 1)                 51        \n",
      "                                                                 \n",
      "=================================================================\n",
      "Total params: 2213951 (8.45 MB)\n",
      "Trainable params: 2213951 (8.45 MB)\n",
      "Non-trainable params: 0 (0.00 Byte)\n",
      "_________________________________________________________________\n"
     ]
    }
   ],
   "source": [
    "# define network\n",
    "n_words= x_train.shape[1]\n",
    "model=define_model(n_words)"
   ]
  },
  {
   "cell_type": "code",
   "execution_count": 53,
   "metadata": {
    "colab": {
     "base_uri": "https://localhost:8080/"
    },
    "executionInfo": {
     "elapsed": 104923,
     "status": "ok",
     "timestamp": 1702623581087,
     "user": {
      "displayName": "Pradhyumn Thote",
      "userId": "10558764749608816690"
     },
     "user_tz": -330
    },
    "id": "BaEUpHQYQtx-",
    "outputId": "ac4bcfed-6446-4b5d-b23c-d2052cc0dc78"
   },
   "outputs": [
    {
     "name": "stdout",
     "output_type": "stream",
     "text": [
      "Epoch 1/10\n",
      "181/181 [==============================] - 20s 107ms/step - loss: 0.4243 - accuracy: 0.7972\n",
      "Epoch 2/10\n",
      "181/181 [==============================] - 8s 43ms/step - loss: 0.0285 - accuracy: 0.9956\n",
      "Epoch 3/10\n",
      "181/181 [==============================] - 10s 55ms/step - loss: 0.0054 - accuracy: 1.0000\n",
      "Epoch 4/10\n",
      "181/181 [==============================] - 9s 50ms/step - loss: 0.0025 - accuracy: 1.0000\n",
      "Epoch 5/10\n",
      "181/181 [==============================] - 9s 49ms/step - loss: 0.0011 - accuracy: 1.0000\n",
      "Epoch 6/10\n",
      "181/181 [==============================] - 11s 58ms/step - loss: 4.8017e-04 - accuracy: 1.0000\n",
      "Epoch 7/10\n",
      "181/181 [==============================] - 8s 44ms/step - loss: 2.5897e-04 - accuracy: 1.0000\n",
      "Epoch 8/10\n",
      "181/181 [==============================] - 10s 56ms/step - loss: 1.6424e-04 - accuracy: 1.0000\n",
      "Epoch 9/10\n",
      "181/181 [==============================] - 9s 52ms/step - loss: 1.1614e-04 - accuracy: 1.0000\n",
      "Epoch 10/10\n",
      "181/181 [==============================] - 10s 53ms/step - loss: 8.6536e-05 - accuracy: 1.0000\n"
     ]
    },
    {
     "data": {
      "text/plain": [
       "<keras.src.callbacks.History at 0x7e9fa99625c0>"
      ]
     },
     "execution_count": 53,
     "metadata": {},
     "output_type": "execute_result"
    }
   ],
   "source": [
    "model.fit(x_train,np.array(train_labels),epochs=10, batch_size=10)"
   ]
  },
  {
   "cell_type": "code",
   "execution_count": null,
   "metadata": {
    "id": "eYAcyD46RHPL"
   },
   "outputs": [],
   "source": []
  }
 ],
 "metadata": {
  "colab": {
   "provenance": []
  },
  "kernelspec": {
   "display_name": "Python 3 (ipykernel)",
   "language": "python",
   "name": "python3"
  },
  "language_info": {
   "codemirror_mode": {
    "name": "ipython",
    "version": 3
   },
   "file_extension": ".py",
   "mimetype": "text/x-python",
   "name": "python",
   "nbconvert_exporter": "python",
   "pygments_lexer": "ipython3",
   "version": "3.11.4"
  }
 },
 "nbformat": 4,
 "nbformat_minor": 1
}
