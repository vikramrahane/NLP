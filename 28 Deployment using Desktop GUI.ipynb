{
 "cells": [
  {
   "cell_type": "code",
   "execution_count": 1,
   "id": "ea9175de",
   "metadata": {},
   "outputs": [],
   "source": [
    "from tkinter import *"
   ]
  },
  {
   "cell_type": "markdown",
   "id": "f9d2856d",
   "metadata": {},
   "source": [
    "## Basic Window"
   ]
  },
  {
   "cell_type": "code",
   "execution_count": 2,
   "id": "ab3cce64",
   "metadata": {},
   "outputs": [],
   "source": [
    "top=Tk()    # Create Window\n",
    "\n",
    "top.mainloop()"
   ]
  },
  {
   "cell_type": "markdown",
   "id": "0dca78fa",
   "metadata": {},
   "source": [
    "## Title and Size"
   ]
  },
  {
   "cell_type": "code",
   "execution_count": 4,
   "id": "9c9fd235",
   "metadata": {},
   "outputs": [],
   "source": [
    "top=Tk()    # Create Window\n",
    "top.title(\"My first Application\")\n",
    "top.geometry('800x300')  # width x height\n",
    "top.mainloop()"
   ]
  },
  {
   "cell_type": "code",
   "execution_count": 5,
   "id": "bc472092",
   "metadata": {},
   "outputs": [],
   "source": [
    "## Add the Widgets"
   ]
  },
  {
   "cell_type": "code",
   "execution_count": 8,
   "id": "93686225",
   "metadata": {},
   "outputs": [],
   "source": [
    "top=Tk()    # Create Window\n",
    "top.title(\"My first Application\")\n",
    "top.geometry('400x300')  # width x height \n",
    "\n",
    "l=Label(top,text=\"Hello World\")\n",
    "t=Entry(top)\n",
    "b=Button(top,text='Submit')\n",
    "\n",
    "l.pack()\n",
    "t.pack()\n",
    "b.pack()\n",
    "top.mainloop()"
   ]
  },
  {
   "cell_type": "markdown",
   "id": "54aa059c",
   "metadata": {},
   "source": [
    "## Event Handling"
   ]
  },
  {
   "cell_type": "code",
   "execution_count": 9,
   "id": "dc069df7",
   "metadata": {},
   "outputs": [
    {
     "name": "stdout",
     "output_type": "stream",
     "text": [
      "Square is: 25\n",
      "Square is: 36\n",
      "Square is: 443556\n",
      "Square is: 12321\n"
     ]
    }
   ],
   "source": [
    "top=Tk()    # Create Window\n",
    "top.title(\"My first Application\")\n",
    "top.geometry('400x300')  # width x height \n",
    "\n",
    "def find():\n",
    "    n=num.get()\n",
    "    print('Square is:',n*n)\n",
    "    \n",
    "num=IntVar()   # class for creating Object used to store value given by user in Entry\n",
    "\n",
    "l=Label(top,text=\"Enter a No\")\n",
    "t=Entry(top,textvariable=num)\n",
    "b=Button(top,text='Find Square',command=find)  # 'find' is fn which call after click on button\n",
    "\n",
    "l.pack()\n",
    "t.pack()\n",
    "b.pack()\n",
    "top.mainloop()"
   ]
  },
  {
   "cell_type": "markdown",
   "id": "1b12a6a7",
   "metadata": {},
   "source": [
    "## Output on Window"
   ]
  },
  {
   "cell_type": "code",
   "execution_count": 13,
   "id": "d85fc7f8",
   "metadata": {},
   "outputs": [],
   "source": [
    "top=Tk()    # Create Window\n",
    "top.title(\"My first Application\")\n",
    "top.geometry('400x300')  # width x height \n",
    "\n",
    "def find():\n",
    "    n=num.get()\n",
    "    result=Label(top,text='Square is: %d' %(n*n))\n",
    "    result.pack()\n",
    "    \n",
    "num=IntVar()   # class for creating Object used to store value given by user in Entry\n",
    "\n",
    "l=Label(top,text=\"Enter a No\")\n",
    "t=Entry(top,textvariable=num)\n",
    "b=Button(top,text='Find Square',command=find)  # 'find' is fn which call after click on button\n",
    "\n",
    "l.pack()\n",
    "t.pack()\n",
    "b.pack()\n",
    "top.mainloop()"
   ]
  },
  {
   "cell_type": "markdown",
   "id": "d1a286e5",
   "metadata": {},
   "source": [
    "### Output nor repeat"
   ]
  },
  {
   "cell_type": "code",
   "execution_count": 18,
   "id": "ccdf1d33",
   "metadata": {},
   "outputs": [],
   "source": [
    "top=Tk()    # Create Window\n",
    "top.title(\"My first Application\")\n",
    "top.geometry('400x300')  # width x height \n",
    "\n",
    "def find():\n",
    "    n=num.get()\n",
    "    result.config(text='Square is: %d' %(n*n))\n",
    "    \n",
    "    \n",
    "num=IntVar()   # class for creating Object used to store value given by user in Entry\n",
    "\n",
    "\n",
    "l=Label(top,text=\"Enter a No\")\n",
    "t=Entry(top,textvariable=num)\n",
    "b=Button(top,text='Find Square',command=find)  # 'find' is fn which call after click on button\n",
    "\n",
    "result=Label(text='Square is: ')\n",
    "\n",
    "l.pack()   # Layout is Box one widgets in one line (widgets placed vertically stacked)\n",
    "t.pack()\n",
    "b.pack()\n",
    "result.pack()\n",
    "top.mainloop()"
   ]
  },
  {
   "cell_type": "markdown",
   "id": "3fff978f",
   "metadata": {},
   "source": [
    "# Event Binding "
   ]
  },
  {
   "cell_type": "code",
   "execution_count": null,
   "id": "86277b9c",
   "metadata": {},
   "outputs": [],
   "source": [
    "# Event and Binding (Mouse and Keyboard Events)"
   ]
  },
  {
   "cell_type": "code",
   "execution_count": 20,
   "id": "28efa68f",
   "metadata": {},
   "outputs": [],
   "source": [
    "top=Tk()    # Create Window\n",
    "top.title(\"My first Application\")\n",
    "top.geometry('400x300')  # width x height \n",
    "\n",
    "def find(event):\n",
    "    n=num.get()\n",
    "    result.config(text='Square is: %d' %(n*n))\n",
    "    \n",
    "    \n",
    "num=IntVar()   # class for creating Object used to store value given by user in Entry\n",
    "\n",
    "\n",
    "l=Label(top,text=\"Enter a No\")\n",
    "t=Entry(top,textvariable=num)\n",
    "result=Label(text='Square is: ')\n",
    "\n",
    "# Binding\n",
    "t.bind('<Return>',find)  # '<Return>' -> for Enter key Press and action is call 'find' fn\n",
    "\n",
    "l.pack()\n",
    "t.pack()\n",
    "result.pack()\n",
    "\n",
    "top.mainloop()"
   ]
  },
  {
   "cell_type": "markdown",
   "id": "098e0fe9",
   "metadata": {},
   "source": [
    "# Layout"
   ]
  },
  {
   "cell_type": "code",
   "execution_count": 26,
   "id": "f6833641",
   "metadata": {},
   "outputs": [],
   "source": [
    "top=Tk()    # Create Window\n",
    "top.title(\"My first Application\")\n",
    "top.geometry('400x300')  # width x height \n",
    "\n",
    "def find(event):\n",
    "    n=num.get()\n",
    "    result.config(text='Square is: %d' %(n*n))\n",
    "    \n",
    "    \n",
    "num=IntVar()   # class for creating Object used to store value given by user in Entry\n",
    "\n",
    "\n",
    "l=Label(top,text=\"Enter a No\")\n",
    "t=Entry(top,textvariable=num)\n",
    "result=Label(text='Square is: ')\n",
    "\n",
    "# Binding\n",
    "t.bind('<Return>',find)  # '<Return>' -> for Enter key Press and action is call 'find' fn\n",
    "\n",
    "l.place(x=50,y=30)   # 'place' -> Specific location\n",
    "t.place(x=150,y=30)\n",
    "result.place(x=50,y=60)\n",
    "\n",
    "top.mainloop()"
   ]
  },
  {
   "cell_type": "code",
   "execution_count": 30,
   "id": "3261704b",
   "metadata": {},
   "outputs": [],
   "source": [
    "top=Tk()    # Create Window\n",
    "top.title(\"My first Application\")\n",
    "top.geometry('400x300')  # width x height \n",
    "\n",
    "def find(event):\n",
    "    n=num.get()\n",
    "    result.config(text='Square is: %d' %(n*n))\n",
    "    \n",
    "    \n",
    "num=IntVar()   # class for creating Object used to store value given by user in Entry\n",
    "\n",
    "\n",
    "Label(top,text=\"Enter a No\").place(x=50,y=30)  \n",
    "t=Entry(top,textvariable=num)\n",
    "result=Label(text='Square is: ')\n",
    "\n",
    "# Binding\n",
    "t.bind('<Return>',find)  # '<Return>' -> for Enter key Press and action is call 'find' fn\n",
    "\n",
    "# 'place' -> Specific location\n",
    "t.place(x=150,y=30)\n",
    "result.place(x=50,y=60)\n",
    "\n",
    "top.mainloop()"
   ]
  },
  {
   "cell_type": "markdown",
   "id": "af74ac66",
   "metadata": {},
   "source": [
    "## Assignment : Calculator"
   ]
  },
  {
   "cell_type": "code",
   "execution_count": 39,
   "id": "3ebdc32e",
   "metadata": {},
   "outputs": [],
   "source": [
    "top=Tk()    # Create Window\n",
    "top.title(\"My first Application\")\n",
    "top.geometry('400x300')  # width x height \n",
    "\n",
    "def add():\n",
    "    n1=num1.get()\n",
    "    n2=num2.get()\n",
    "    result.config(text='Addition is: %d' %(n1+n2))\n",
    "def sub():\n",
    "    n1=num1.get()\n",
    "    n2=num2.get()\n",
    "    result.config(text='Subtraction is: %d' %(n1-n2))\n",
    "def mul():\n",
    "    n1=num1.get()\n",
    "    n2=num2.get()\n",
    "    result.config(text='Multiplication is: %d' %(n1*n2))\n",
    "def divi():\n",
    "    n1=num1.get()\n",
    "    n2=num2.get()\n",
    "    result.config(text='Division is: %d' %(n1/n2))\n",
    "    \n",
    "    \n",
    "num1=IntVar()   # class for creating Object used to store value given by user in Entry\n",
    "num2=IntVar()\n",
    "\n",
    "Label(top,text=\"Enter 1st No\").place(x=50,y=30)  \n",
    "Label(top,text=\"Enter 2nd No\").place(x=200,y=30) \n",
    "t1=Entry(top,textvariable=num1)\n",
    "t2=Entry(top,textvariable=num2)\n",
    "b1=Button(top,text='+',command=add)\n",
    "b2=Button(top,text='-',command=sub)\n",
    "b3=Button(top,text='*',command=mul)\n",
    "b4=Button(top,text='/',command=divi)\n",
    "result=Label(text='Result is: ')\n",
    "\n",
    "# 'place' -> Specific location\n",
    "t1.place(x=50,y=60)\n",
    "t2.place(x=200,y=60)\n",
    "b1.place(x=30,y=90)\n",
    "b2.place(x=70,y=90)\n",
    "b3.place(x=110,y=90)\n",
    "b4.place(x=150,y=90)\n",
    "result.place(x=70,y=120)\n",
    "\n",
    "top.mainloop()"
   ]
  },
  {
   "cell_type": "markdown",
   "id": "11cefe16",
   "metadata": {},
   "source": [
    "# Deploy the model"
   ]
  },
  {
   "cell_type": "code",
   "execution_count": 67,
   "id": "fcbbb325",
   "metadata": {},
   "outputs": [],
   "source": [
    "import joblib\n",
    "from nltk.stem import WordNetLemmatizer\n",
    "from nltk import pos_tag\n",
    "from nltk.tokenize import word_tokenize\n",
    "from nltk.corpus import stopwords\n",
    "from nltk.stem import LancasterStemmer"
   ]
  },
  {
   "cell_type": "code",
   "execution_count": 68,
   "id": "c08ce3d1",
   "metadata": {},
   "outputs": [],
   "source": [
    "def clean_text(text):\n",
    "    wnl=WordNetLemmatizer()\n",
    "    ls=LancasterStemmer() \n",
    "    tokens1=word_tokenize(text)\n",
    "    tokens2=[x.lower() for x in tokens1 if x.isalpha() or x.isdigit()] # if x not in string.punctuation\n",
    "    tokens3=[x for x in tokens2 if x not in stopwords.words('english')] \n",
    "    tokens4=[]\n",
    "    tags=pos_tag(tokens3)\n",
    "    for word in tags:\n",
    "        if word[1].startswith('N'):\n",
    "            tokens4.append(wnl.lemmatize(word[0],pos='n'))\n",
    "        if word[1].startswith('V'):\n",
    "            tokens4.append(wnl.lemmatize(word[0],pos='v'))\n",
    "        if word[1].startswith('R'):\n",
    "            tokens4.append(wnl.lemmatize(word[0],pos='r'))\n",
    "        if word[1].startswith('J'):\n",
    "            tokens4.append(wnl.lemmatize(word[0],pos='a'))\n",
    "    return tokens4"
   ]
  },
  {
   "cell_type": "code",
   "execution_count": 69,
   "id": "60b466b9",
   "metadata": {},
   "outputs": [],
   "source": [
    "classifier=joblib.load('model.bin')  # 20 Text Classification SVM\n",
    "tfidf=joblib.load('vectorizer.bin')"
   ]
  },
  {
   "cell_type": "code",
   "execution_count": 72,
   "id": "fa698496",
   "metadata": {},
   "outputs": [],
   "source": [
    "top=Tk()    # Create Window\n",
    "top.title(\"SPAM Message Detector!\")\n",
    "top.geometry('1200x300')  # width x height \n",
    "\n",
    "def display(event):\n",
    "    msg=message.get()\n",
    "    msg=tfidf.transform([msg])\n",
    "    result=classifier.predict(msg)[0]\n",
    "    if result=='ham':\n",
    "        Label(text='NOT spam message').place(x=100,y=200)\n",
    "    else:\n",
    "        Label(text='Spam message').place(x=100,y=200)\n",
    "    \n",
    "message=StringVar()   # class for creating Object used to store value given by user in Entry\n",
    "\n",
    "Label(top,text=\"Enter Message\").place(x=50,y=50)  \n",
    "\n",
    "e=Entry(top,width=100,textvariable=message)\n",
    "e.place(x=200,y=50)\n",
    "e.bind('<Return>',display)\n",
    "\n",
    "top.mainloop()"
   ]
  },
  {
   "cell_type": "code",
   "execution_count": null,
   "id": "7bea9599",
   "metadata": {},
   "outputs": [],
   "source": []
  }
 ],
 "metadata": {
  "kernelspec": {
   "display_name": "Python 3 (ipykernel)",
   "language": "python",
   "name": "python3"
  },
  "language_info": {
   "codemirror_mode": {
    "name": "ipython",
    "version": 3
   },
   "file_extension": ".py",
   "mimetype": "text/x-python",
   "name": "python",
   "nbconvert_exporter": "python",
   "pygments_lexer": "ipython3",
   "version": "3.11.4"
  }
 },
 "nbformat": 4,
 "nbformat_minor": 5
}
