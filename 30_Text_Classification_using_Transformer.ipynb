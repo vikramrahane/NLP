{
  "nbformat": 4,
  "nbformat_minor": 0,
  "metadata": {
    "colab": {
      "provenance": []
    },
    "kernelspec": {
      "name": "python3",
      "display_name": "Python 3"
    },
    "language_info": {
      "name": "python"
    }
  },
  "cells": [
    {
      "cell_type": "code",
      "execution_count": 24,
      "metadata": {
        "id": "fokvVJzAHCM9"
      },
      "outputs": [],
      "source": [
        "import tensorflow as tf\n",
        "from keras.models import *\n",
        "from keras.layers import *\n",
        "from keras.datasets import imdb\n",
        "from keras.utils import pad_sequences"
      ]
    },
    {
      "cell_type": "code",
      "source": [
        "class TransformerBlock(Layer):\n",
        "  def __init__(self,embed_dim, num_heads,ff_dim, rate=0.1):\n",
        "\n",
        "\n",
        "    super().__init__()\n",
        "    self.att= MultiHeadAttention(num_heads=num_heads,key_dim=embed_dim)\n",
        "    self.ffn=Sequential(\n",
        "        [Dense(ff_dim,activation='relu'),Dense(embed_dim),]\n",
        "    )\n",
        "\n",
        "    self.layernorm1=LayerNormalization(epsilon=1e-6)\n",
        "    self.layernorm2=LayerNormalization(epsilon=1e-6)\n",
        "    self.dropout1=Dropout(rate)\n",
        "    self.dropout2=Dropout(rate)\n",
        "\n",
        "  def call(self, inputs, training):\n",
        "    attn_output = self.att(inputs,inputs)\n",
        "    attn_output= self.dropout1(attn_output,training=training)\n",
        "\n",
        "    out1= self.layernorm1(inputs+ attn_output)\n",
        "    ffn_output= self.ffn(out1)\n",
        "    ffn_output = self.layernorm1(inputs + attn_output)\n",
        "\n",
        "    ffn_output = self.ffn(out1)\n",
        "    ffn_output= self.dropout2(ffn_output,training=training)\n",
        "    return self.layernorm2(out1+ffn_output)"
      ],
      "metadata": {
        "id": "BkU95N-oHLg0"
      },
      "execution_count": 47,
      "outputs": []
    },
    {
      "cell_type": "code",
      "source": [
        "class TokenAndPositionEmbedding(Layer):\n",
        "  def __init__(self,maxlen,vocab_size,embed_dim):\n",
        "    super().__init__()\n",
        "    self.token_emb=Embedding(input_dim=vocab_size, output_dim=embed_dim)\n",
        "    self.pos_emb= Embedding(input_dim=maxlen, output_dim=embed_dim)\n",
        "\n",
        "  def call(self,x):\n",
        "    maxlen=tf.shape(x)[-1]\n",
        "    positions= tf.range(start=0,limit=maxlen,delta=1)\n",
        "    positions= self.pos_emb(positions)\n",
        "    x= self.token_emb(x)\n",
        "    return x+positions"
      ],
      "metadata": {
        "id": "ZxMsF0LUMi0U"
      },
      "execution_count": 48,
      "outputs": []
    },
    {
      "cell_type": "code",
      "source": [
        "vocab_size = 20000 #only consider the top 20k\n",
        "maxlen = 200 # only consider the first 200 words of each movie review\n",
        "(x_train,y_train),(x_val,y_val) = imdb.load_data(num_words=vocab_size)\n",
        "print(len(x_train),\"training sequences\")\n",
        "print(len(x_val),\"Validation sequences\")\n",
        "x_train = pad_sequences(x_train,maxlen = maxlen)\n",
        "x_val = pad_sequences(x_val,maxlen=maxlen)"
      ],
      "metadata": {
        "colab": {
          "base_uri": "https://localhost:8080/"
        },
        "id": "Zi5xEDuqPIAM",
        "outputId": "755b7528-2f8a-4ddf-de86-8c7621837146"
      },
      "execution_count": 49,
      "outputs": [
        {
          "output_type": "stream",
          "name": "stdout",
          "text": [
            "25000 training sequences\n",
            "25000 Validation sequences\n"
          ]
        }
      ]
    },
    {
      "cell_type": "code",
      "source": [
        "x_train"
      ],
      "metadata": {
        "colab": {
          "base_uri": "https://localhost:8080/"
        },
        "id": "5Pk_dTetQ7Wz",
        "outputId": "dee496fc-a546-41d7-b18e-f4244952b357"
      },
      "execution_count": 50,
      "outputs": [
        {
          "output_type": "execute_result",
          "data": {
            "text/plain": [
              "array([[   5,   25,  100, ...,   19,  178,   32],\n",
              "       [   0,    0,    0, ...,   16,  145,   95],\n",
              "       [   0,    0,    0, ...,    7,  129,  113],\n",
              "       ...,\n",
              "       [   0,    0,    0, ...,    4, 3586,    2],\n",
              "       [   0,    0,    0, ...,   12,    9,   23],\n",
              "       [   0,    0,    0, ...,  204,  131,    9]], dtype=int32)"
            ]
          },
          "metadata": {},
          "execution_count": 50
        }
      ]
    },
    {
      "cell_type": "code",
      "source": [
        "x_train.shape"
      ],
      "metadata": {
        "colab": {
          "base_uri": "https://localhost:8080/"
        },
        "id": "Kz1ealqiRAwL",
        "outputId": "bab0871f-2c9f-41f4-ee31-d1a3e22d4a98"
      },
      "execution_count": 51,
      "outputs": [
        {
          "output_type": "execute_result",
          "data": {
            "text/plain": [
              "(25000, 200)"
            ]
          },
          "metadata": {},
          "execution_count": 51
        }
      ]
    },
    {
      "cell_type": "code",
      "source": [
        "#flask assignment\n",
        "# create UI for review model in CNN"
      ],
      "metadata": {
        "id": "_I7FqrsnRC8b"
      },
      "execution_count": 52,
      "outputs": []
    },
    {
      "cell_type": "code",
      "source": [
        "embed_dim =32\n",
        "num_heads=2\n",
        "ff_dim=32\n",
        "\n",
        "inputs=Input(shape=(maxlen,))\n",
        "embedding_layer= TokenAndPositionEmbedding(maxlen,vocab_size, embed_dim)\n",
        "x=embedding_layer(inputs)\n",
        "transformer_block=TransformerBlock(embed_dim,num_heads,ff_dim)\n",
        "x=transformer_block(x)\n",
        "x=GlobalAveragePooling1D()(x)\n",
        "x=Dropout(0.1)(x)\n",
        "x= Dense(20, activation='relu')(x)\n",
        "x=Dropout(0.1)(x)\n",
        "outputs=Dense(2,activation='softmax')(x)\n",
        "\n",
        "model= Model(inputs=inputs, outputs=outputs)"
      ],
      "metadata": {
        "id": "pf1FvRL7c8GK"
      },
      "execution_count": 54,
      "outputs": []
    },
    {
      "cell_type": "code",
      "source": [
        "model.compile(optimizer=\"adam\",\n",
        "              loss=\"sparse_categorical_crossentropy\",\n",
        "              metrics=[\"accuracy\"])\n",
        "history=model.fit(x_train,y_train,batch_size=32,\n",
        "                  epochs=10,\n",
        "                  validation_data=(x_val,y_val))"
      ],
      "metadata": {
        "colab": {
          "base_uri": "https://localhost:8080/"
        },
        "id": "b7tiohMCeju_",
        "outputId": "95fe034a-eaca-4791-ae7c-ebf8a758045c"
      },
      "execution_count": 57,
      "outputs": [
        {
          "output_type": "stream",
          "name": "stdout",
          "text": [
            "Epoch 1/10\n",
            "782/782 [==============================] - 107s 134ms/step - loss: 0.3764 - accuracy: 0.8242 - val_loss: 0.3003 - val_accuracy: 0.8728\n",
            "Epoch 2/10\n",
            "782/782 [==============================] - 125s 161ms/step - loss: 0.1925 - accuracy: 0.9278 - val_loss: 0.3735 - val_accuracy: 0.8482\n",
            "Epoch 3/10\n",
            "782/782 [==============================] - 105s 134ms/step - loss: 0.1294 - accuracy: 0.9532 - val_loss: 0.4218 - val_accuracy: 0.8497\n",
            "Epoch 4/10\n",
            "782/782 [==============================] - 116s 149ms/step - loss: 0.0860 - accuracy: 0.9697 - val_loss: 0.4765 - val_accuracy: 0.8462\n",
            "Epoch 5/10\n",
            "782/782 [==============================] - 128s 163ms/step - loss: 0.0600 - accuracy: 0.9806 - val_loss: 0.6002 - val_accuracy: 0.8477\n",
            "Epoch 6/10\n",
            "782/782 [==============================] - 105s 134ms/step - loss: 0.0402 - accuracy: 0.9871 - val_loss: 0.6839 - val_accuracy: 0.8368\n",
            "Epoch 7/10\n",
            "782/782 [==============================] - 104s 133ms/step - loss: 0.0324 - accuracy: 0.9900 - val_loss: 0.8321 - val_accuracy: 0.8340\n",
            "Epoch 8/10\n",
            "782/782 [==============================] - 117s 149ms/step - loss: 0.0238 - accuracy: 0.9928 - val_loss: 0.7747 - val_accuracy: 0.8386\n",
            "Epoch 9/10\n",
            "782/782 [==============================] - 117s 150ms/step - loss: 0.0181 - accuracy: 0.9951 - val_loss: 0.8170 - val_accuracy: 0.8362\n",
            "Epoch 10/10\n",
            "782/782 [==============================] - 117s 150ms/step - loss: 0.0174 - accuracy: 0.9951 - val_loss: 1.0438 - val_accuracy: 0.8313\n"
          ]
        }
      ]
    },
    {
      "cell_type": "code",
      "source": [],
      "metadata": {
        "id": "zQZA5rBfkm4x"
      },
      "execution_count": 58,
      "outputs": []
    },
    {
      "cell_type": "code",
      "source": [],
      "metadata": {
        "id": "j1XGgAVmn_N5"
      },
      "execution_count": null,
      "outputs": []
    }
  ]
}