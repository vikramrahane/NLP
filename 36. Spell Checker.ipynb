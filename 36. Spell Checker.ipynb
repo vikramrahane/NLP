{
 "cells": [
  {
   "cell_type": "markdown",
   "id": "12974ab9",
   "metadata": {},
   "source": [
    "!pip install textblob"
   ]
  },
  {
   "cell_type": "code",
   "execution_count": 3,
   "id": "7607c07e",
   "metadata": {},
   "outputs": [],
   "source": [
    "from textblob import TextBlob"
   ]
  },
  {
   "cell_type": "code",
   "execution_count": 4,
   "id": "7df2b043",
   "metadata": {},
   "outputs": [],
   "source": [
    "word = 'camputer'\n",
    "blob = TextBlob(word)"
   ]
  },
  {
   "cell_type": "code",
   "execution_count": 5,
   "id": "8b919a15",
   "metadata": {},
   "outputs": [
    {
     "data": {
      "text/plain": [
       "TextBlob(\"computer\")"
      ]
     },
     "execution_count": 5,
     "metadata": {},
     "output_type": "execute_result"
    }
   ],
   "source": [
    "blob.correct()"
   ]
  },
  {
   "cell_type": "markdown",
   "id": "fa377d95",
   "metadata": {},
   "source": [
    "## Sentence Correction"
   ]
  },
  {
   "cell_type": "code",
   "execution_count": 6,
   "id": "781b2ad3",
   "metadata": {},
   "outputs": [],
   "source": [
    "sent = 'It was a gerat day. When tehy playd on the grund'"
   ]
  },
  {
   "cell_type": "code",
   "execution_count": 7,
   "id": "119c0512",
   "metadata": {},
   "outputs": [
    {
     "data": {
      "text/plain": [
       "TextBlob(\"It was a great day. When they play on the ground\")"
      ]
     },
     "execution_count": 7,
     "metadata": {},
     "output_type": "execute_result"
    }
   ],
   "source": [
    "blob1 = TextBlob(sent)\n",
    "blob1.correct()"
   ]
  },
  {
   "cell_type": "code",
   "execution_count": 10,
   "id": "824ebf7f",
   "metadata": {},
   "outputs": [
    {
     "data": {
      "text/plain": [
       "defaultdict(int,\n",
       "            {'it': 1,\n",
       "             'was': 1,\n",
       "             'a': 1,\n",
       "             'gerat': 1,\n",
       "             'day': 1,\n",
       "             'when': 1,\n",
       "             'tehy': 1,\n",
       "             'playd': 1,\n",
       "             'on': 1,\n",
       "             'the': 1,\n",
       "             'grund': 1})"
      ]
     },
     "execution_count": 10,
     "metadata": {},
     "output_type": "execute_result"
    }
   ],
   "source": [
    "blob1.word_counts"
   ]
  },
  {
   "cell_type": "code",
   "execution_count": 11,
   "id": "201265c7",
   "metadata": {},
   "outputs": [
    {
     "data": {
      "text/plain": [
       "[('It', 'PRP'),\n",
       " ('was', 'VBD'),\n",
       " ('a', 'DT'),\n",
       " ('gerat', 'JJ'),\n",
       " ('day', 'NN'),\n",
       " ('When', 'WRB'),\n",
       " ('tehy', 'NN'),\n",
       " ('playd', 'NN'),\n",
       " ('on', 'IN'),\n",
       " ('the', 'DT'),\n",
       " ('grund', 'NN')]"
      ]
     },
     "execution_count": 11,
     "metadata": {},
     "output_type": "execute_result"
    }
   ],
   "source": [
    "blob1.pos_tags"
   ]
  },
  {
   "cell_type": "code",
   "execution_count": 16,
   "id": "94ee467e",
   "metadata": {},
   "outputs": [
    {
     "data": {
      "text/plain": [
       "TextBlob(\"Es war ein toller Tag. Wenn sie auf dem Boden spielen\")"
      ]
     },
     "execution_count": 16,
     "metadata": {},
     "output_type": "execute_result"
    }
   ],
   "source": [
    "blob1.correct().translate(from_lang='en',to='de')"
   ]
  },
  {
   "cell_type": "code",
   "execution_count": 17,
   "id": "db93716d",
   "metadata": {},
   "outputs": [
    {
     "data": {
      "text/plain": [
       "TextBlob(\"तो एक चांगला दिवस होता. जेव्हा ते जमिनीवर खेळतात\")"
      ]
     },
     "execution_count": 17,
     "metadata": {},
     "output_type": "execute_result"
    }
   ],
   "source": [
    "blob1.correct().translate(from_lang='en',to='mr')"
   ]
  },
  {
   "cell_type": "code",
   "execution_count": 14,
   "id": "31c9387d",
   "metadata": {},
   "outputs": [
    {
     "data": {
      "text/plain": [
       "WordList(['It', 'was', 'a', 'gerat', 'day', '.', 'When', 'tehy', 'playd', 'on', 'the', 'grund'])"
      ]
     },
     "execution_count": 14,
     "metadata": {},
     "output_type": "execute_result"
    }
   ],
   "source": [
    "blob1.tokens"
   ]
  },
  {
   "cell_type": "code",
   "execution_count": 15,
   "id": "9bb40bb1",
   "metadata": {},
   "outputs": [
    {
     "data": {
      "text/plain": [
       "[Sentence(\"It was a gerat day.\"), Sentence(\"When tehy playd on the grund\")]"
      ]
     },
     "execution_count": 15,
     "metadata": {},
     "output_type": "execute_result"
    }
   ],
   "source": [
    "blob1.sentences"
   ]
  },
  {
   "cell_type": "code",
   "execution_count": null,
   "id": "93202a4a",
   "metadata": {},
   "outputs": [],
   "source": []
  }
 ],
 "metadata": {
  "kernelspec": {
   "display_name": "Python 3 (ipykernel)",
   "language": "python",
   "name": "python3"
  },
  "language_info": {
   "codemirror_mode": {
    "name": "ipython",
    "version": 3
   },
   "file_extension": ".py",
   "mimetype": "text/x-python",
   "name": "python",
   "nbconvert_exporter": "python",
   "pygments_lexer": "ipython3",
   "version": "3.11.4"
  }
 },
 "nbformat": 4,
 "nbformat_minor": 5
}
