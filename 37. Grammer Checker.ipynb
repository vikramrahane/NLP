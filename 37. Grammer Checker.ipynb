{
 "cells": [
  {
   "cell_type": "markdown",
   "id": "7771b1c4",
   "metadata": {},
   "source": [
    "!pip install language-tool-python"
   ]
  },
  {
   "cell_type": "code",
   "execution_count": 1,
   "id": "ba870f61",
   "metadata": {},
   "outputs": [],
   "source": [
    "import language_tool_python"
   ]
  },
  {
   "cell_type": "code",
   "execution_count": 2,
   "id": "e972bcc3",
   "metadata": {},
   "outputs": [],
   "source": [
    "# USing the tool\n",
    "my_tool = language_tool_python.LanguageTool('en-US')"
   ]
  },
  {
   "cell_type": "code",
   "execution_count": 3,
   "id": "81400f7e",
   "metadata": {},
   "outputs": [],
   "source": [
    "#Given Text\n",
    "my_text = \"He have collected an documents. I is there\""
   ]
  },
  {
   "cell_type": "code",
   "execution_count": 4,
   "id": "8b46a0ef",
   "metadata": {},
   "outputs": [
    {
     "name": "stdout",
     "output_type": "stream",
     "text": [
      "Offset 3, length 4, Rule ID: HE_VERB_AGR\n",
      "Message: The pronoun ‘He’ is usually used with a third-person or a past tense verb.\n",
      "Suggestion: has; had\n",
      "He have collected an documents. I is there\n",
      "   ^^^^\n",
      "Offset 18, length 12, Rule ID: A_NNS\n",
      "Message: The plural noun “documents” cannot be used with the article “an”. Did you mean “an document” or “documents”?\n",
      "Suggestion: an document; documents\n",
      "He have collected an documents. I is there\n",
      "                  ^^^^^^^^^^^^\n",
      "Offset 34, length 2, Rule ID: PERS_PRONOUN_AGREEMENT\n",
      "Message: Did you mean “am” or “will be”?\n",
      "Suggestion: am; will be\n",
      "He have collected an documents. I is there\n",
      "                                  ^^\n"
     ]
    }
   ],
   "source": [
    "# Getting the matches\n",
    "my_matches = my_tool.check(my_text)\n",
    "\n",
    "# Printing matches\n",
    "for m in my_matches:\n",
    "    print(m)"
   ]
  },
  {
   "cell_type": "code",
   "execution_count": 5,
   "id": "f067eaf6",
   "metadata": {},
   "outputs": [
    {
     "data": {
      "text/plain": [
       "'He has collected an document. I am there'"
      ]
     },
     "execution_count": 5,
     "metadata": {},
     "output_type": "execute_result"
    }
   ],
   "source": [
    "my_tool.correct(my_text)"
   ]
  },
  {
   "cell_type": "code",
   "execution_count": null,
   "id": "404bd909",
   "metadata": {},
   "outputs": [],
   "source": []
  }
 ],
 "metadata": {
  "kernelspec": {
   "display_name": "Python 3 (ipykernel)",
   "language": "python",
   "name": "python3"
  },
  "language_info": {
   "codemirror_mode": {
    "name": "ipython",
    "version": 3
   },
   "file_extension": ".py",
   "mimetype": "text/x-python",
   "name": "python",
   "nbconvert_exporter": "python",
   "pygments_lexer": "ipython3",
   "version": "3.11.4"
  }
 },
 "nbformat": 4,
 "nbformat_minor": 5
}
