{
 "cells": [
  {
   "cell_type": "code",
   "execution_count": 1,
   "id": "e97b8eec",
   "metadata": {},
   "outputs": [],
   "source": [
    "from nltk import pos_tag\n",
    "from nltk.tokenize import word_tokenize"
   ]
  },
  {
   "cell_type": "markdown",
   "id": "daaef32f",
   "metadata": {},
   "source": [
    "# Q1"
   ]
  },
  {
   "cell_type": "code",
   "execution_count": 2,
   "id": "38edf120",
   "metadata": {},
   "outputs": [],
   "source": [
    "data='''The National Aeronautics and Space Administration (NASA) is an independent agency of the U.S. federal government responsible for the civil space program, aeronautics research, and space research. Established in 1958, NASA succeeded the National Advisory Committee for Aeronautics (NACA) to give the U.S. space development effort a distinctly civilian orientation, emphasizing peaceful applications in space science.[4][5][6] NASA has since led most American space exploration, including Project Mercury, Project Gemini, the 1968–1972 Apollo Moon landing missions, the Skylab space station, and the Space Shuttle. NASA currently supports the International Space Station and oversees the development of the Orion spacecraft and the Space Launch System for the crewed lunar Artemis program, the Commercial Crew spacecraft, and the planned Lunar Gateway space station.\n",
    "\n",
    "NASA's science is focused on better understanding Earth through the Earth Observing System;[7] advancing heliophysics through the efforts of the Science Mission Directorate's Heliophysics Research Program;[8] exploring bodies throughout the Solar System with advanced robotic spacecraft such as New Horizons and planetary rovers such as Perseverance;[9] and researching astrophysics topics, such as the Big Bang, through the James Webb Space Telescope, the Great Observatories and associated programs.[10] NASA's Launch Services Program provides oversight of launch operations and countdown management for its uncrewed launches. '''"
   ]
  },
  {
   "cell_type": "markdown",
   "id": "ee1a994b",
   "metadata": {},
   "source": [
    "### 1 POS Tagging"
   ]
  },
  {
   "cell_type": "code",
   "execution_count": 3,
   "id": "86c722f6",
   "metadata": {},
   "outputs": [
    {
     "name": "stdout",
     "output_type": "stream",
     "text": [
      "[('The', 'DT'), ('National', 'NNP'), ('Aeronautics', 'NNP'), ('and', 'CC'), ('Space', 'NNP'), ('Administration', 'NNP'), ('(', '('), ('NASA', 'NNP'), (')', ')'), ('is', 'VBZ'), ('an', 'DT'), ('independent', 'JJ'), ('agency', 'NN'), ('of', 'IN'), ('the', 'DT'), ('U.S.', 'NNP'), ('federal', 'JJ'), ('government', 'NN'), ('responsible', 'JJ'), ('for', 'IN'), ('the', 'DT'), ('civil', 'JJ'), ('space', 'NN'), ('program', 'NN'), (',', ','), ('aeronautics', 'NNS'), ('research', 'NN'), (',', ','), ('and', 'CC'), ('space', 'NN'), ('research', 'NN'), ('.', '.'), ('Established', 'VBN'), ('in', 'IN'), ('1958', 'CD'), (',', ','), ('NASA', 'NNP'), ('succeeded', 'VBD'), ('the', 'DT'), ('National', 'NNP'), ('Advisory', 'NNP'), ('Committee', 'NNP'), ('for', 'IN'), ('Aeronautics', 'NNP'), ('(', '('), ('NACA', 'NNP'), (')', ')'), ('to', 'TO'), ('give', 'VB'), ('the', 'DT'), ('U.S.', 'NNP'), ('space', 'NN'), ('development', 'NN'), ('effort', 'NN'), ('a', 'DT'), ('distinctly', 'RB'), ('civilian', 'JJ'), ('orientation', 'NN'), (',', ','), ('emphasizing', 'VBG'), ('peaceful', 'JJ'), ('applications', 'NNS'), ('in', 'IN'), ('space', 'NN'), ('science', 'NN'), ('.', '.'), ('[', 'CC'), ('4', 'CD'), (']', 'JJ'), ('[', '$'), ('5', 'CD'), (']', 'NNP'), ('[', 'VBD'), ('6', 'CD'), (']', 'NNP'), ('NASA', 'NNP'), ('has', 'VBZ'), ('since', 'IN'), ('led', 'VBN'), ('most', 'JJS'), ('American', 'JJ'), ('space', 'NN'), ('exploration', 'NN'), (',', ','), ('including', 'VBG'), ('Project', 'NNP'), ('Mercury', 'NNP'), (',', ','), ('Project', 'NNP'), ('Gemini', 'NNP'), (',', ','), ('the', 'DT'), ('1968–1972', 'CD'), ('Apollo', 'NNP'), ('Moon', 'NNP'), ('landing', 'VBG'), ('missions', 'NNS'), (',', ','), ('the', 'DT'), ('Skylab', 'NNP'), ('space', 'NN'), ('station', 'NN'), (',', ','), ('and', 'CC'), ('the', 'DT'), ('Space', 'NNP'), ('Shuttle', 'NNP'), ('.', '.'), ('NASA', 'NNP'), ('currently', 'RB'), ('supports', 'VBZ'), ('the', 'DT'), ('International', 'NNP'), ('Space', 'NNP'), ('Station', 'NNP'), ('and', 'CC'), ('oversees', 'VBZ'), ('the', 'DT'), ('development', 'NN'), ('of', 'IN'), ('the', 'DT'), ('Orion', 'NNP'), ('spacecraft', 'NN'), ('and', 'CC'), ('the', 'DT'), ('Space', 'NNP'), ('Launch', 'NNP'), ('System', 'NNP'), ('for', 'IN'), ('the', 'DT'), ('crewed', 'JJ'), ('lunar', 'JJ'), ('Artemis', 'NNP'), ('program', 'NN'), (',', ','), ('the', 'DT'), ('Commercial', 'NNP'), ('Crew', 'NNP'), ('spacecraft', 'NN'), (',', ','), ('and', 'CC'), ('the', 'DT'), ('planned', 'VBN'), ('Lunar', 'NNP'), ('Gateway', 'NNP'), ('space', 'NN'), ('station', 'NN'), ('.', '.'), ('NASA', 'NNP'), (\"'s\", 'POS'), ('science', 'NN'), ('is', 'VBZ'), ('focused', 'VBN'), ('on', 'IN'), ('better', 'JJR'), ('understanding', 'NN'), ('Earth', 'NNP'), ('through', 'IN'), ('the', 'DT'), ('Earth', 'NNP'), ('Observing', 'NNP'), ('System', 'NNP'), (';', ':'), ('[', 'VBZ'), ('7', 'CD'), (']', 'NN'), ('advancing', 'VBG'), ('heliophysics', 'NNS'), ('through', 'IN'), ('the', 'DT'), ('efforts', 'NNS'), ('of', 'IN'), ('the', 'DT'), ('Science', 'NNP'), ('Mission', 'NNP'), ('Directorate', 'NNP'), (\"'s\", 'POS'), ('Heliophysics', 'NNP'), ('Research', 'NNP'), ('Program', 'NNP'), (';', ':'), ('[', 'VBZ'), ('8', 'CD'), (']', 'NN'), ('exploring', 'VBG'), ('bodies', 'NNS'), ('throughout', 'IN'), ('the', 'DT'), ('Solar', 'NNP'), ('System', 'NNP'), ('with', 'IN'), ('advanced', 'JJ'), ('robotic', 'JJ'), ('spacecraft', 'NN'), ('such', 'JJ'), ('as', 'IN'), ('New', 'NNP'), ('Horizons', 'NNP'), ('and', 'CC'), ('planetary', 'JJ'), ('rovers', 'NNS'), ('such', 'JJ'), ('as', 'IN'), ('Perseverance', 'NNP'), (';', ':'), ('[', 'VBZ'), ('9', 'CD'), (']', 'NN'), ('and', 'CC'), ('researching', 'VBG'), ('astrophysics', 'NNS'), ('topics', 'NNS'), (',', ','), ('such', 'JJ'), ('as', 'IN'), ('the', 'DT'), ('Big', 'NNP'), ('Bang', 'NNP'), (',', ','), ('through', 'IN'), ('the', 'DT'), ('James', 'NNP'), ('Webb', 'NNP'), ('Space', 'NNP'), ('Telescope', 'NNP'), (',', ','), ('the', 'DT'), ('Great', 'NNP'), ('Observatories', 'NNPS'), ('and', 'CC'), ('associated', 'VBN'), ('programs', 'NNS'), ('.', '.'), ('[', '$'), ('10', 'CD'), (']', 'NNP'), ('NASA', 'NNP'), (\"'s\", 'POS'), ('Launch', 'JJ'), ('Services', 'NNPS'), ('Program', 'NNP'), ('provides', 'VBZ'), ('oversight', 'NN'), ('of', 'IN'), ('launch', 'JJ'), ('operations', 'NNS'), ('and', 'CC'), ('countdown', 'JJ'), ('management', 'NN'), ('for', 'IN'), ('its', 'PRP$'), ('uncrewed', 'JJ'), ('launches', 'NNS'), ('.', '.')]\n"
     ]
    }
   ],
   "source": [
    "tags=pos_tag(word_tokenize(data))\n",
    "print(tags)"
   ]
  },
  {
   "cell_type": "markdown",
   "id": "f3ff0a5b",
   "metadata": {},
   "source": [
    "### 2 Remove Punctuation Symbols"
   ]
  },
  {
   "cell_type": "code",
   "execution_count": 4,
   "id": "e2b9ae60",
   "metadata": {},
   "outputs": [],
   "source": [
    "import string"
   ]
  },
  {
   "cell_type": "code",
   "execution_count": 5,
   "id": "df2aa840",
   "metadata": {},
   "outputs": [],
   "source": [
    "text=data.lower()"
   ]
  },
  {
   "cell_type": "code",
   "execution_count": 6,
   "id": "a5f5a04d",
   "metadata": {},
   "outputs": [
    {
     "name": "stdout",
     "output_type": "stream",
     "text": [
      "['the', 'national', 'aeronautics', 'and', 'space', 'administration', 'nasa', 'is', 'an', 'independent', 'agency', 'of', 'the', 'u.s.', 'federal', 'government', 'responsible', 'for', 'the', 'civil', 'space', 'program', 'aeronautics', 'research', 'and', 'space', 'research', 'established', 'in', '1958', 'nasa', 'succeeded', 'the', 'national', 'advisory', 'committee', 'for', 'aeronautics', 'naca', 'to', 'give', 'the', 'u.s.', 'space', 'development', 'effort', 'a', 'distinctly', 'civilian', 'orientation', 'emphasizing', 'peaceful', 'applications', 'in', 'space', 'science', '4', '5', '6', 'nasa', 'has', 'since', 'led', 'most', 'american', 'space', 'exploration', 'including', 'project', 'mercury', 'project', 'gemini', 'the', '1968–1972', 'apollo', 'moon', 'landing', 'missions', 'the', 'skylab', 'space', 'station', 'and', 'the', 'space', 'shuttle', 'nasa', 'currently', 'supports', 'the', 'international', 'space', 'station', 'and', 'oversees', 'the', 'development', 'of', 'the', 'orion', 'spacecraft', 'and', 'the', 'space', 'launch', 'system', 'for', 'the', 'crewed', 'lunar', 'artemis', 'program', 'the', 'commercial', 'crew', 'spacecraft', 'and', 'the', 'planned', 'lunar', 'gateway', 'space', 'station', 'nasa', \"'s\", 'science', 'is', 'focused', 'on', 'better', 'understanding', 'earth', 'through', 'the', 'earth', 'observing', 'system', '7', 'advancing', 'heliophysics', 'through', 'the', 'efforts', 'of', 'the', 'science', 'mission', 'directorate', \"'s\", 'heliophysics', 'research', 'program', '8', 'exploring', 'bodies', 'throughout', 'the', 'solar', 'system', 'with', 'advanced', 'robotic', 'spacecraft', 'such', 'as', 'new', 'horizons', 'and', 'planetary', 'rovers', 'such', 'as', 'perseverance', '9', 'and', 'researching', 'astrophysics', 'topics', 'such', 'as', 'the', 'big', 'bang', 'through', 'the', 'james', 'webb', 'space', 'telescope', 'the', 'great', 'observatories', 'and', 'associated', 'programs', '10', 'nasa', \"'s\", 'launch', 'services', 'program', 'provides', 'oversight', 'of', 'launch', 'operations', 'and', 'countdown', 'management', 'for', 'its', 'uncrewed', 'launches']\n"
     ]
    }
   ],
   "source": [
    "clean=[]\n",
    "for token in word_tokenize(text):\n",
    "    if token not in string.punctuation:\n",
    "        clean.append(token)\n",
    "print(clean)"
   ]
  },
  {
   "cell_type": "code",
   "execution_count": 7,
   "id": "0f4efdaf",
   "metadata": {},
   "outputs": [
    {
     "data": {
      "text/plain": [
       "\"the national aeronautics and space administration nasa is an independent agency of the u.s. federal government responsible for the civil space program aeronautics research and space research established in 1958 nasa succeeded the national advisory committee for aeronautics naca to give the u.s. space development effort a distinctly civilian orientation emphasizing peaceful applications in space science 4 5 6 nasa has since led most american space exploration including project mercury project gemini the 1968–1972 apollo moon landing missions the skylab space station and the space shuttle nasa currently supports the international space station and oversees the development of the orion spacecraft and the space launch system for the crewed lunar artemis program the commercial crew spacecraft and the planned lunar gateway space station nasa 's science is focused on better understanding earth through the earth observing system 7 advancing heliophysics through the efforts of the science mission directorate 's heliophysics research program 8 exploring bodies throughout the solar system with advanced robotic spacecraft such as new horizons and planetary rovers such as perseverance 9 and researching astrophysics topics such as the big bang through the james webb space telescope the great observatories and associated programs 10 nasa 's launch services program provides oversight of launch operations and countdown management for its uncrewed launches\""
      ]
     },
     "execution_count": 7,
     "metadata": {},
     "output_type": "execute_result"
    }
   ],
   "source": [
    "\" \".join(clean)"
   ]
  },
  {
   "cell_type": "markdown",
   "id": "187d399f",
   "metadata": {},
   "source": [
    "### 3 Delete the stopwrds"
   ]
  },
  {
   "cell_type": "code",
   "execution_count": 8,
   "id": "644c88fe",
   "metadata": {},
   "outputs": [],
   "source": [
    "from nltk.corpus import stopwords"
   ]
  },
  {
   "cell_type": "code",
   "execution_count": 9,
   "id": "236bc5dc",
   "metadata": {},
   "outputs": [],
   "source": [
    "swords=stopwords.words('english')"
   ]
  },
  {
   "cell_type": "code",
   "execution_count": 10,
   "id": "72365b17",
   "metadata": {},
   "outputs": [
    {
     "name": "stdout",
     "output_type": "stream",
     "text": [
      "['national', 'aeronautics', 'space', 'administration', 'nasa', 'independent', 'agency', 'u.s.', 'federal', 'government', 'responsible', 'civil', 'space', 'program', 'aeronautics', 'research', 'space', 'research', 'established', '1958', 'nasa', 'succeeded', 'national', 'advisory', 'committee', 'aeronautics', 'naca', 'give', 'u.s.', 'space', 'development', 'effort', 'distinctly', 'civilian', 'orientation', 'emphasizing', 'peaceful', 'applications', 'space', 'science', '4', '5', '6', 'nasa', 'since', 'led', 'american', 'space', 'exploration', 'including', 'project', 'mercury', 'project', 'gemini', '1968–1972', 'apollo', 'moon', 'landing', 'missions', 'skylab', 'space', 'station', 'space', 'shuttle', 'nasa', 'currently', 'supports', 'international', 'space', 'station', 'oversees', 'development', 'orion', 'spacecraft', 'space', 'launch', 'system', 'crewed', 'lunar', 'artemis', 'program', 'commercial', 'crew', 'spacecraft', 'planned', 'lunar', 'gateway', 'space', 'station', 'nasa', \"'s\", 'science', 'focused', 'better', 'understanding', 'earth', 'earth', 'observing', 'system', '7', 'advancing', 'heliophysics', 'efforts', 'science', 'mission', 'directorate', \"'s\", 'heliophysics', 'research', 'program', '8', 'exploring', 'bodies', 'throughout', 'solar', 'system', 'advanced', 'robotic', 'spacecraft', 'new', 'horizons', 'planetary', 'rovers', 'perseverance', '9', 'researching', 'astrophysics', 'topics', 'big', 'bang', 'james', 'webb', 'space', 'telescope', 'great', 'observatories', 'associated', 'programs', '10', 'nasa', \"'s\", 'launch', 'services', 'program', 'provides', 'oversight', 'launch', 'operations', 'countdown', 'management', 'uncrewed', 'launches']\n"
     ]
    }
   ],
   "source": [
    "no_sword=[]\n",
    "for i in clean:            # 'clean' data from Q2\n",
    "    if i not in swords:\n",
    "        no_sword.append(i)\n",
    "print(no_sword)"
   ]
  },
  {
   "cell_type": "code",
   "execution_count": 11,
   "id": "b17ae218",
   "metadata": {},
   "outputs": [
    {
     "name": "stdout",
     "output_type": "stream",
     "text": [
      "national aeronautics space administration nasa independent agency u.s. federal government responsible civil space program aeronautics research space research established 1958 nasa succeeded national advisory committee aeronautics naca give u.s. space development effort distinctly civilian orientation emphasizing peaceful applications space science 4 5 6 nasa since led american space exploration including project mercury project gemini 1968–1972 apollo moon landing missions skylab space station space shuttle nasa currently supports international space station oversees development orion spacecraft space launch system crewed lunar artemis program commercial crew spacecraft planned lunar gateway space station nasa 's science focused better understanding earth earth observing system 7 advancing heliophysics efforts science mission directorate 's heliophysics research program 8 exploring bodies throughout solar system advanced robotic spacecraft new horizons planetary rovers perseverance 9 researching astrophysics topics big bang james webb space telescope great observatories associated programs 10 nasa 's launch services program provides oversight launch operations countdown management uncrewed launches\n"
     ]
    }
   ],
   "source": [
    "final_clean=\" \".join(no_sword)\n",
    "print(final_clean)"
   ]
  },
  {
   "cell_type": "markdown",
   "id": "8d079ef4",
   "metadata": {},
   "source": [
    "### 5 Top 3 words in the data"
   ]
  },
  {
   "cell_type": "code",
   "execution_count": 12,
   "id": "473e278c",
   "metadata": {},
   "outputs": [],
   "source": [
    "from nltk import FreqDist"
   ]
  },
  {
   "cell_type": "code",
   "execution_count": 13,
   "id": "74e66c10",
   "metadata": {},
   "outputs": [
    {
     "data": {
      "image/png": "[encoded data removed]",
      "text/plain": [
       "<Figure size 640x480 with 1 Axes>"
      ]
     },
     "metadata": {},
     "output_type": "display_data"
    },
    {
     "data": {
      "text/plain": [
       "<Axes: xlabel='Samples', ylabel='Counts'>"
      ]
     },
     "execution_count": 13,
     "metadata": {},
     "output_type": "execute_result"
    }
   ],
   "source": [
    "freq= FreqDist(word_tokenize(final_clean))   # 'final_clean' from Q3 \n",
    "freq.plot(20, cumulative=False)"
   ]
  },
  {
   "cell_type": "code",
   "execution_count": 14,
   "id": "7e55f826",
   "metadata": {},
   "outputs": [],
   "source": [
    "# Top 3 words are 'space','nasa' and 'program'"
   ]
  },
  {
   "cell_type": "code",
   "execution_count": null,
   "id": "a4bfbd56",
   "metadata": {},
   "outputs": [],
   "source": []
  },
  {
   "cell_type": "markdown",
   "id": "b59f2602",
   "metadata": {},
   "source": [
    "### 4 morphological analysis on all the nouns"
   ]
  },
  {
   "cell_type": "code",
   "execution_count": 15,
   "id": "8ca7a3ca",
   "metadata": {
    "scrolled": true
   },
   "outputs": [
    {
     "data": {
      "text/plain": [
       "['National',\n",
       " 'Aeronautics',\n",
       " 'Space',\n",
       " 'Administration',\n",
       " 'NASA',\n",
       " 'agency',\n",
       " 'government',\n",
       " 'space',\n",
       " 'program',\n",
       " 'aeronautics',\n",
       " 'research',\n",
       " 'space',\n",
       " 'research',\n",
       " 'NASA',\n",
       " 'National',\n",
       " 'Advisory',\n",
       " 'Committee',\n",
       " 'Aeronautics',\n",
       " 'NACA',\n",
       " 'space',\n",
       " 'development',\n",
       " 'effort',\n",
       " 'orientation',\n",
       " 'applications',\n",
       " 'space',\n",
       " 'science',\n",
       " 'NASA',\n",
       " 'space',\n",
       " 'exploration',\n",
       " 'Project',\n",
       " 'Mercury',\n",
       " 'Project',\n",
       " 'Gemini',\n",
       " 'Apollo',\n",
       " 'Moon',\n",
       " 'missions',\n",
       " 'Skylab',\n",
       " 'space',\n",
       " 'station',\n",
       " 'Space',\n",
       " 'Shuttle',\n",
       " 'NASA',\n",
       " 'International',\n",
       " 'Space',\n",
       " 'Station',\n",
       " 'development',\n",
       " 'Orion',\n",
       " 'spacecraft',\n",
       " 'Space',\n",
       " 'Launch',\n",
       " 'System',\n",
       " 'Artemis',\n",
       " 'program',\n",
       " 'Commercial',\n",
       " 'Crew',\n",
       " 'spacecraft',\n",
       " 'Lunar',\n",
       " 'Gateway',\n",
       " 'space',\n",
       " 'station',\n",
       " 'NASA',\n",
       " 'science',\n",
       " 'understanding',\n",
       " 'Earth',\n",
       " 'Earth',\n",
       " 'Observing',\n",
       " 'System',\n",
       " 'heliophysics',\n",
       " 'efforts',\n",
       " 'Science',\n",
       " 'Mission',\n",
       " 'Directorate',\n",
       " 'Heliophysics',\n",
       " 'Research',\n",
       " 'Program',\n",
       " 'bodies',\n",
       " 'Solar',\n",
       " 'System',\n",
       " 'spacecraft',\n",
       " 'New',\n",
       " 'Horizons',\n",
       " 'rovers',\n",
       " 'Perseverance',\n",
       " 'astrophysics',\n",
       " 'topics',\n",
       " 'Big',\n",
       " 'Bang',\n",
       " 'James',\n",
       " 'Webb',\n",
       " 'Space',\n",
       " 'Telescope',\n",
       " 'Great',\n",
       " 'Observatories',\n",
       " 'programs',\n",
       " 'NASA',\n",
       " 'Services',\n",
       " 'Program',\n",
       " 'oversight',\n",
       " 'operations',\n",
       " 'management',\n",
       " 'launches']"
      ]
     },
     "execution_count": 15,
     "metadata": {},
     "output_type": "execute_result"
    }
   ],
   "source": [
    "nouns=[]\n",
    "for word, tag in tags:    # 'tags' from Q1\n",
    "    if tag.startswith('NN') and word.isalpha():\n",
    "        nouns.append(word)\n",
    "nouns"
   ]
  },
  {
   "cell_type": "code",
   "execution_count": 16,
   "id": "a7850ee7",
   "metadata": {},
   "outputs": [],
   "source": [
    "from polyglot.text import Word"
   ]
  },
  {
   "cell_type": "code",
   "execution_count": 17,
   "id": "fbd86ddf",
   "metadata": {
    "scrolled": true
   },
   "outputs": [
    {
     "name": "stdout",
     "output_type": "stream",
     "text": [
      "National \t\t ['National']\n",
      "Aeronautics \t\t ['Aero', 'naut', 'ic', 's']\n",
      "Space \t\t ['Space']\n",
      "Administration \t\t ['Administ', 'ration']\n",
      "NASA \t\t ['NAS', 'A']\n",
      "agency \t\t ['age', 'ncy']\n",
      "government \t\t ['government']\n",
      "space \t\t ['space']\n",
      "program \t\t ['program']\n",
      "aeronautics \t\t ['aero', 'naut', 'ic', 's']\n",
      "research \t\t ['research']\n",
      "space \t\t ['space']\n",
      "research \t\t ['research']\n",
      "NASA \t\t ['NAS', 'A']\n",
      "National \t\t ['National']\n",
      "Advisory \t\t ['Advisor', 'y']\n",
      "Committee \t\t ['Committee']\n",
      "Aeronautics \t\t ['Aero', 'naut', 'ic', 's']\n",
      "NACA \t\t ['NA', 'C', 'A']\n",
      "space \t\t ['space']\n",
      "development \t\t ['develop', 'ment']\n",
      "effort \t\t ['ef', 'fort']\n",
      "orientation \t\t ['orient', 'ation']\n",
      "applications \t\t ['appli', 'cation', 's']\n",
      "space \t\t ['space']\n",
      "science \t\t ['science']\n",
      "NASA \t\t ['NAS', 'A']\n",
      "space \t\t ['space']\n",
      "exploration \t\t ['explor', 'ation']\n",
      "Project \t\t ['Project']\n",
      "Mercury \t\t ['Mer', 'cu', 'ry']\n",
      "Project \t\t ['Project']\n",
      "Gemini \t\t ['Ge', 'mini']\n",
      "Apollo \t\t ['Apollo']\n",
      "Moon \t\t ['Moon']\n",
      "missions \t\t ['mission', 's']\n",
      "Skylab \t\t ['Sky', 'lab']\n",
      "space \t\t ['space']\n",
      "station \t\t ['station']\n",
      "Space \t\t ['Space']\n",
      "Shuttle \t\t ['Shu', 'ttle']\n",
      "NASA \t\t ['NAS', 'A']\n",
      "International \t\t ['Inter', 'national']\n",
      "Space \t\t ['Space']\n",
      "Station \t\t ['St', 'ation']\n",
      "development \t\t ['develop', 'ment']\n",
      "Orion \t\t ['Or', 'ion']\n",
      "spacecraft \t\t ['space', 'craft']\n",
      "Space \t\t ['Space']\n",
      "Launch \t\t ['Lau', 'nch']\n",
      "System \t\t ['System']\n",
      "Artemis \t\t ['Arte', 'mis']\n",
      "program \t\t ['program']\n",
      "Commercial \t\t ['Com', 'merc', 'ial']\n",
      "Crew \t\t ['Crew']\n",
      "spacecraft \t\t ['space', 'craft']\n",
      "Lunar \t\t ['Lu', 'nar']\n",
      "Gateway \t\t ['G', 'ate', 'way']\n",
      "space \t\t ['space']\n",
      "station \t\t ['station']\n",
      "NASA \t\t ['NAS', 'A']\n",
      "science \t\t ['science']\n",
      "understanding \t\t ['understand', 'ing']\n",
      "Earth \t\t ['Earth']\n",
      "Earth \t\t ['Earth']\n",
      "Observing \t\t ['Observ', 'ing']\n",
      "System \t\t ['System']\n",
      "heliophysics \t\t ['hel', 'io', 'physics']\n",
      "efforts \t\t ['ef', 'fort', 's']\n",
      "Science \t\t ['Sci', 'ence']\n",
      "Mission \t\t ['Miss', 'ion']\n",
      "Directorate \t\t ['Director', 'ate']\n",
      "Heliophysics \t\t ['H', 'elio', 'physics']\n",
      "Research \t\t ['Re', 'search']\n",
      "Program \t\t ['Program']\n",
      "bodies \t\t ['bodi', 'es']\n",
      "Solar \t\t ['Sol', 'ar']\n",
      "System \t\t ['System']\n",
      "spacecraft \t\t ['space', 'craft']\n",
      "New \t\t ['New']\n",
      "Horizons \t\t ['Horizon', 's']\n",
      "rovers \t\t ['r', 'over', 's']\n",
      "Perseverance \t\t ['Perse', 'ver', 'ance']\n",
      "astrophysics \t\t ['astro', 'physics']\n",
      "topics \t\t ['top', 'ic', 's']\n",
      "Big \t\t ['Big']\n",
      "Bang \t\t ['Bang']\n",
      "James \t\t ['Jam', 'es']\n",
      "Webb \t\t ['Web', 'b']\n",
      "Space \t\t ['Space']\n",
      "Telescope \t\t ['Tele', 'scope']\n",
      "Great \t\t ['Great']\n",
      "Observatories \t\t ['Observ', 'ator', 'ies']\n",
      "programs \t\t ['program', 's']\n",
      "NASA \t\t ['NAS', 'A']\n",
      "Services \t\t ['Serv', 'ice', 's']\n",
      "Program \t\t ['Program']\n",
      "oversight \t\t ['over', 'sight']\n",
      "operations \t\t ['operation', 's']\n",
      "management \t\t ['man', 'age', 'ment']\n",
      "launches \t\t ['launch', 'es']\n"
     ]
    }
   ],
   "source": [
    "for word in nouns:\n",
    "    w=Word(word, language=\"en\")\n",
    "    print(w,'\\t\\t',w.morphemes)"
   ]
  },
  {
   "cell_type": "markdown",
   "id": "3f369a0d",
   "metadata": {},
   "source": [
    "# Q2"
   ]
  },
  {
   "cell_type": "code",
   "execution_count": 18,
   "id": "42a3772f",
   "metadata": {},
   "outputs": [],
   "source": [
    "pune=\"\"\"Pune, previously spelled in English as Poona (the official name until 1978),[15][16] is a city in Maharashtra state in the Deccan plateau in Western India. It is the administrative headquarters of the Pune district, and of Pune division. According to the 2011 Census of India, Pune is the ninth-most populous city in India with a population of 3.1 million residents within the city limits, and has a population of 7.2 million residents in the metropolitan region, making it the eight-most populous metropolitan area in India. [17] The city of Pune is part of Pune Metropolitan Region.[18] Pune is one of the largest IT hubs in India.[19][20] It is also one of the most important automobile and manufacturing hubs of India.[21] Pune is often referred to as \"Oxford of the East\" because of its highly regarded educational institutions in the city.[22][23][24] It has been ranked \"the most liveable city in India\" several times.[25][26]\n",
    "\n",
    "Pune at different points in time has been ruled by the Rashtrakuta dynasty, Ahmadnagar Sultanate, the Mughals, and the Adil Shahi dynasty. In the 18th century, the city was a part of Maratha Empire, and the seat of the Peshwas, the prime ministers of the Maratha Empire.[27] Many historical landmarks like Pataleshwar caves, Shaniwarwada, Shinde Chhatri, and Vishrambaug Wada date to this era. Historical sites from different eras are dotted across the city.\n",
    "\n",
    "Pune has historically been a major cultural centre, with important figures like Dnyaneshwar, Shivaji, Tukaram, Mahadev Govind Ranade, Mahatma Jyotirao Phule, Savitribai Phule, Gopal Ganesh Agarkar, Tarabai Shinde, Dhondo Keshav Karve, and Pandita Ramabai doing their life's work in Pune City or in an area that falls in Pune Metropolitan Region. Pune was a major centre of resistance to British Raj, with people like Gopal Krishna Gokhale, Bal Gangadhar Tilak and Vinayak Damodar Savarkar playing leading roles in struggle for Indian independence in their times. \"\"\""
   ]
  },
  {
   "cell_type": "code",
   "execution_count": 19,
   "id": "2fa97bf4",
   "metadata": {},
   "outputs": [
    {
     "data": {
      "text/plain": [
       "['Western',\n",
       " 'administrative',\n",
       " 'populous',\n",
       " 'metropolitan',\n",
       " 'populous',\n",
       " 'metropolitan',\n",
       " 'largest',\n",
       " 'important',\n",
       " 'regarded',\n",
       " 'educational',\n",
       " 'liveable',\n",
       " 'several',\n",
       " 'different',\n",
       " 'prime',\n",
       " 'Many',\n",
       " 'historical',\n",
       " 'Historical',\n",
       " 'different',\n",
       " 'major',\n",
       " 'cultural',\n",
       " 'important',\n",
       " 'major',\n",
       " 'Indian']"
      ]
     },
     "execution_count": 19,
     "metadata": {},
     "output_type": "execute_result"
    }
   ],
   "source": [
    "adjectives=[]\n",
    "for word, tag in pos_tag(word_tokenize(pune)):    \n",
    "    if tag.startswith('JJ') and word.isalpha():\n",
    "        adjectives.append(word)\n",
    "adjectives"
   ]
  },
  {
   "cell_type": "code",
   "execution_count": null,
   "id": "06b9c037",
   "metadata": {},
   "outputs": [],
   "source": []
  }
 ],
 "metadata": {
  "kernelspec": {
   "display_name": "Python 3 (ipykernel)",
   "language": "python",
   "name": "python3"
  },
  "language_info": {
   "codemirror_mode": {
    "name": "ipython",
    "version": 3
   },
   "file_extension": ".py",
   "mimetype": "text/x-python",
   "name": "python",
   "nbconvert_exporter": "python",
   "pygments_lexer": "ipython3",
   "version": "3.11.4"
  }
 },
 "nbformat": 4,
 "nbformat_minor": 5
}
