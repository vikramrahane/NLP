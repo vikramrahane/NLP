{
 "cells": [
  {
   "cell_type": "code",
   "execution_count": 1,
   "id": "7067d040",
   "metadata": {},
   "outputs": [],
   "source": [
    "import string\n",
    "from nltk.tokenize import word_tokenize,LineTokenizer"
   ]
  },
  {
   "cell_type": "markdown",
   "id": "6d5f38e4",
   "metadata": {},
   "source": [
    "# Q1"
   ]
  },
  {
   "cell_type": "code",
   "execution_count": 2,
   "id": "3512198c",
   "metadata": {},
   "outputs": [],
   "source": [
    "sent=\"They told that their ages are 23, 25 and 29 respectively.\""
   ]
  },
  {
   "cell_type": "code",
   "execution_count": 3,
   "id": "39ef3dc4",
   "metadata": {},
   "outputs": [
    {
     "data": {
      "text/plain": [
       "['They',\n",
       " 'told',\n",
       " 'that',\n",
       " 'their',\n",
       " 'ages',\n",
       " 'are',\n",
       " '23',\n",
       " ',',\n",
       " '25',\n",
       " 'and',\n",
       " '29',\n",
       " 'respectively',\n",
       " '.']"
      ]
     },
     "execution_count": 3,
     "metadata": {},
     "output_type": "execute_result"
    }
   ],
   "source": [
    "word_tokenize(sent)"
   ]
  },
  {
   "cell_type": "code",
   "execution_count": 4,
   "id": "cd543b29",
   "metadata": {},
   "outputs": [
    {
     "data": {
      "text/plain": [
       "[23, 25, 29]"
      ]
     },
     "execution_count": 4,
     "metadata": {},
     "output_type": "execute_result"
    }
   ],
   "source": [
    "# 1\n",
    "ages=[int(token) for token in word_tokenize(sent) if token.isdecimal()]\n",
    "ages"
   ]
  },
  {
   "cell_type": "code",
   "execution_count": 5,
   "id": "9b3539fe",
   "metadata": {},
   "outputs": [
    {
     "name": "stdout",
     "output_type": "stream",
     "text": [
      "Average of ages:  25.666666666666668\n"
     ]
    }
   ],
   "source": [
    "print(\"Average of ages: \",sum(ages)/len(ages))"
   ]
  },
  {
   "cell_type": "code",
   "execution_count": 6,
   "id": "359638cc",
   "metadata": {},
   "outputs": [
    {
     "data": {
      "text/plain": [
       "['They', 'told', 'that', 'their']"
      ]
     },
     "execution_count": 6,
     "metadata": {},
     "output_type": "execute_result"
    }
   ],
   "source": [
    "#2\n",
    "words=[token for token in word_tokenize(sent) if token.startswith(('t','T'))]\n",
    "words"
   ]
  },
  {
   "cell_type": "code",
   "execution_count": 7,
   "id": "3d64990f",
   "metadata": {},
   "outputs": [
    {
     "data": {
      "text/plain": [
       "4"
      ]
     },
     "execution_count": 7,
     "metadata": {},
     "output_type": "execute_result"
    }
   ],
   "source": [
    "len(words)"
   ]
  },
  {
   "cell_type": "code",
   "execution_count": 8,
   "id": "4c72d165",
   "metadata": {},
   "outputs": [
    {
     "data": {
      "text/plain": [
       "[',', '.']"
      ]
     },
     "execution_count": 8,
     "metadata": {},
     "output_type": "execute_result"
    }
   ],
   "source": [
    "#3\n",
    "punc=[token for token in word_tokenize(sent) if token in string.punctuation]\n",
    "punc"
   ]
  },
  {
   "cell_type": "code",
   "execution_count": 9,
   "id": "20a45ccd",
   "metadata": {},
   "outputs": [
    {
     "name": "stdout",
     "output_type": "stream",
     "text": [
      "Total Punctuations are:  2\n"
     ]
    }
   ],
   "source": [
    "print(\"Total Punctuations are: \",len(punc))"
   ]
  },
  {
   "cell_type": "code",
   "execution_count": 10,
   "id": "4f2fa4a2",
   "metadata": {},
   "outputs": [
    {
     "data": {
      "text/plain": [
       "['told', 'and']"
      ]
     },
     "execution_count": 10,
     "metadata": {},
     "output_type": "execute_result"
    }
   ],
   "source": [
    "#4\n",
    "words=[token for token in word_tokenize(sent) if token.endswith('d')]\n",
    "words"
   ]
  },
  {
   "cell_type": "code",
   "execution_count": 11,
   "id": "46504f4f",
   "metadata": {},
   "outputs": [
    {
     "name": "stdout",
     "output_type": "stream",
     "text": [
      "TOLD\n",
      "AND\n"
     ]
    }
   ],
   "source": [
    "for w in words:\n",
    "    print(w.upper())"
   ]
  },
  {
   "cell_type": "code",
   "execution_count": 12,
   "id": "829e01fb",
   "metadata": {},
   "outputs": [
    {
     "name": "stdout",
     "output_type": "stream",
     "text": [
      "They told that their ages are 23 25 and 29 respectively\n"
     ]
    }
   ],
   "source": [
    "#5\n",
    "word=[token for token in word_tokenize(sent) if token not in string.punctuation]\n",
    "print(' '.join(word))"
   ]
  },
  {
   "cell_type": "markdown",
   "id": "c2e1346d",
   "metadata": {},
   "source": [
    "# Q2"
   ]
  },
  {
   "cell_type": "code",
   "execution_count": 13,
   "id": "06990635",
   "metadata": {},
   "outputs": [],
   "source": [
    "#Indian Flag\n",
    "ind_flag=\"\"\"The national flag of India, colloquially called Tiraṅgā (the tricolour), is a horizontal rectangular tricolour flag, the colours being of India saffron, white and India green; with the Ashoka Chakra, a 24-spoke wheel, in navy blue at its centre.[1][2] It was adopted in its present form during a meeting of the Constituent Assembly held on 22 July 1947, and it became the official flag of the Union of India on 15 August 1947. The flag was subsequently retained as that of the Republic of India. In India, the term \"tricolour\" almost always refers to the Indian national flag.\n",
    "\n",
    "The flag is based on the Swaraj flag, a flag of the Indian National Congress adopted by Mahatma Gandhi after making significant modifications to the design proposed by Pingali Venkayya.[3] This flag included charkha which was replaced with chakra in 1947 by Jawaharlal Nehru.[4]\n",
    "\n",
    "Before the amendment of the flag code in 2021, the flag was by law only to be made of khadi; a special type of hand-spun cloth or silk, made popular by Mahatma Gandhi. The manufacturing process and specifications for the flag are laid out by the Bureau of Indian Standards. The right to manufacture the flag is held by the Khadi Development and Village Industries Commission, which allocates it to regional groups. As of 2023, there are 4 units in India that are licensed to manufacture the flag.\n",
    "\n",
    "Usage of the flag is governed by the Flag Code of India and other laws relating to the national emblems. The original code prohibited use of the flag by private citizens except on national days such as the Independence day and the Republic Day. In 2002, on hearing an appeal from a private citizen, Naveen Jindal, the Supreme Court of India directed the Government of India to amend the code to allow flag usage by private citizens. Subsequently, the Union Cabinet of India amended the code to allow limited usage. The code was amended once more in 2005 to allow some additional use including adaptations on certain forms of clothing. The flag code also governs the protocol of flying the flag and its use in conjunction with other national and non-national flags.\"\"\""
   ]
  },
  {
   "cell_type": "code",
   "execution_count": 14,
   "id": "dc70d0b0",
   "metadata": {},
   "outputs": [
    {
     "name": "stdout",
     "output_type": "stream",
     "text": [
      "Total no of words:  413\n"
     ]
    }
   ],
   "source": [
    "# Count total no of words\n",
    "words=[token for token in word_tokenize(ind_flag)]\n",
    "print(\"Total no of words: \",len(words))"
   ]
  },
  {
   "cell_type": "code",
   "execution_count": 15,
   "id": "d0345d53",
   "metadata": {},
   "outputs": [
    {
     "name": "stdout",
     "output_type": "stream",
     "text": [
      "['The', 'national', 'flag', 'of', 'India', ',', 'colloquially', 'called', 'Tiraṅgā', '(', 'the', 'tricolour', ')', ',', 'is', 'a', 'horizontal', 'rectangular', 'tricolour', 'flag', ',', 'the', 'colours', 'being', 'of', 'India', 'saffron', ',', 'white', 'and', 'India', 'green', ';', 'with', 'the', 'Ashoka', 'Chakra', ',', 'a', '24-spoke', 'wheel', ',', 'in', 'navy', 'blue', 'at', 'its', 'centre', '.', '[', '1', ']', '[', '2', ']', 'It', 'was', 'adopted', 'in', 'its', 'present', 'form', 'during', 'a', 'meeting', 'of', 'the', 'Constituent', 'Assembly', 'held', 'on', '22', 'July', '1947', ',', 'and', 'it', 'became', 'the', 'official', 'flag', 'of', 'the', 'Union', 'of', 'India', 'on', '15', 'August', '1947', '.', 'The', 'flag', 'was', 'subsequently', 'retained', 'as', 'that', 'of', 'the', 'Republic', 'of', 'India', '.', 'In', 'India', ',', 'the', 'term', '``', 'tricolour', \"''\", 'almost', 'always', 'refers', 'to', 'the', 'Indian', 'national', 'flag', '.', 'The', 'flag', 'is', 'based', 'on', 'the', 'Swaraj', 'flag', ',', 'a', 'flag', 'of', 'the', 'Indian', 'National', 'Congress', 'adopted', 'by', 'Mahatma', 'Gandhi', 'after', 'making', 'significant', 'modifications', 'to', 'the', 'design', 'proposed', 'by', 'Pingali', 'Venkayya', '.', '[', '3', ']', 'This', 'flag', 'included', 'charkha', 'which', 'was', 'replaced', 'with', 'chakra', 'in', '1947', 'by', 'Jawaharlal', 'Nehru', '.', '[', '4', ']', 'Before', 'the', 'amendment', 'of', 'the', 'flag', 'code', 'in', '2021', ',', 'the', 'flag', 'was', 'by', 'law', 'only', 'to', 'be', 'made', 'of', 'khadi', ';', 'a', 'special', 'type', 'of', 'hand-spun', 'cloth', 'or', 'silk', ',', 'made', 'popular', 'by', 'Mahatma', 'Gandhi', '.', 'The', 'manufacturing', 'process', 'and', 'specifications', 'for', 'the', 'flag', 'are', 'laid', 'out', 'by', 'the', 'Bureau', 'of', 'Indian', 'Standards', '.', 'The', 'right', 'to', 'manufacture', 'the', 'flag', 'is', 'held', 'by', 'the', 'Khadi', 'Development', 'and', 'Village', 'Industries', 'Commission', ',', 'which', 'allocates', 'it', 'to', 'regional', 'groups', '.', 'As', 'of', '2023', ',', 'there', 'are', '4', 'units', 'in', 'India', 'that', 'are', 'licensed', 'to', 'manufacture', 'the', 'flag', '.', 'Usage', 'of', 'the', 'flag', 'is', 'governed', 'by', 'the', 'Flag', 'Code', 'of', 'India', 'and', 'other', 'laws', 'relating', 'to', 'the', 'national', 'emblems', '.', 'The', 'original', 'code', 'prohibited', 'use', 'of', 'the', 'flag', 'by', 'private', 'citizens', 'except', 'on', 'national', 'days', 'such', 'as', 'the', 'Independence', 'day', 'and', 'the', 'Republic', 'Day', '.', 'In', '2002', ',', 'on', 'hearing', 'an', 'appeal', 'from', 'a', 'private', 'citizen', ',', 'Naveen', 'Jindal', ',', 'the', 'Supreme', 'Court', 'of', 'India', 'directed', 'the', 'Government', 'of', 'India', 'to', 'amend', 'the', 'code', 'to', 'allow', 'flag', 'usage', 'by', 'private', 'citizens', '.', 'Subsequently', ',', 'the', 'Union', 'Cabinet', 'of', 'India', 'amended', 'the', 'code', 'to', 'allow', 'limited', 'usage', '.', 'The', 'code', 'was', 'amended', 'once', 'more', 'in', '2005', 'to', 'allow', 'some', 'additional', 'use', 'including', 'adaptations', 'on', 'certain', 'forms', 'of', 'clothing', '.', 'The', 'flag', 'code', 'also', 'governs', 'the', 'protocol', 'of', 'flying', 'the', 'flag', 'and', 'its', 'use', 'in', 'conjunction', 'with', 'other', 'national', 'and', 'non-national', 'flags', '.']\n"
     ]
    }
   ],
   "source": [
    "print(words)"
   ]
  },
  {
   "cell_type": "code",
   "execution_count": 16,
   "id": "560d2a99",
   "metadata": {},
   "outputs": [
    {
     "name": "stdout",
     "output_type": "stream",
     "text": [
      "0.1089588377723971\n"
     ]
    }
   ],
   "source": [
    "# Percentage of Punctuation marks\n",
    "punc=[token for token in word_tokenize(ind_flag) if token in string.punctuation]\n",
    "print(len(punc)/len(word_tokenize(ind_flag)))"
   ]
  },
  {
   "cell_type": "code",
   "execution_count": 17,
   "id": "60c05413",
   "metadata": {},
   "outputs": [
    {
     "name": "stdout",
     "output_type": "stream",
     "text": [
      "Total no of Lines:  4\n"
     ]
    }
   ],
   "source": [
    "# Print total no of lines\n",
    "tkn=LineTokenizer()\n",
    "print(\"Total no of Lines: \",len(tkn.tokenize(ind_flag)))"
   ]
  },
  {
   "cell_type": "code",
   "execution_count": 18,
   "id": "d1685f94",
   "metadata": {},
   "outputs": [
    {
     "name": "stdout",
     "output_type": "stream",
     "text": [
      "No of words in title case:  69\n"
     ]
    }
   ],
   "source": [
    "# How many words are in title case\n",
    "words=[token for token in word_tokenize(ind_flag) if token.istitle()]\n",
    "print(\"No of words in title case: \",len(words))"
   ]
  },
  {
   "cell_type": "code",
   "execution_count": 19,
   "id": "8e57a1f0",
   "metadata": {},
   "outputs": [
    {
     "name": "stdout",
     "output_type": "stream",
     "text": [
      "399\n"
     ]
    }
   ],
   "source": [
    "# Remove the no's and print the text\n",
    "word=[token for token in word_tokenize(ind_flag) if not token.isdecimal()]\n",
    "print(len(word))"
   ]
  },
  {
   "cell_type": "code",
   "execution_count": 20,
   "id": "7c67cc58",
   "metadata": {},
   "outputs": [
    {
     "name": "stdout",
     "output_type": "stream",
     "text": [
      "['The', 'national', 'flag', 'of', 'India', ',', 'colloquially', 'called', 'Tiraṅgā', '(', 'the', 'tricolour', ')', ',', 'is', 'a', 'horizontal', 'rectangular', 'tricolour', 'flag', ',', 'the', 'colours', 'being', 'of', 'India', 'saffron', ',', 'white', 'and', 'India', 'green', ';', 'with', 'the', 'Ashoka', 'Chakra', ',', 'a', '24-spoke', 'wheel', ',', 'in', 'navy', 'blue', 'at', 'its', 'centre', '.', '[', ']', '[', ']', 'It', 'was', 'adopted', 'in', 'its', 'present', 'form', 'during', 'a', 'meeting', 'of', 'the', 'Constituent', 'Assembly', 'held', 'on', 'July', ',', 'and', 'it', 'became', 'the', 'official', 'flag', 'of', 'the', 'Union', 'of', 'India', 'on', 'August', '.', 'The', 'flag', 'was', 'subsequently', 'retained', 'as', 'that', 'of', 'the', 'Republic', 'of', 'India', '.', 'In', 'India', ',', 'the', 'term', '``', 'tricolour', \"''\", 'almost', 'always', 'refers', 'to', 'the', 'Indian', 'national', 'flag', '.', 'The', 'flag', 'is', 'based', 'on', 'the', 'Swaraj', 'flag', ',', 'a', 'flag', 'of', 'the', 'Indian', 'National', 'Congress', 'adopted', 'by', 'Mahatma', 'Gandhi', 'after', 'making', 'significant', 'modifications', 'to', 'the', 'design', 'proposed', 'by', 'Pingali', 'Venkayya', '.', '[', ']', 'This', 'flag', 'included', 'charkha', 'which', 'was', 'replaced', 'with', 'chakra', 'in', 'by', 'Jawaharlal', 'Nehru', '.', '[', ']', 'Before', 'the', 'amendment', 'of', 'the', 'flag', 'code', 'in', ',', 'the', 'flag', 'was', 'by', 'law', 'only', 'to', 'be', 'made', 'of', 'khadi', ';', 'a', 'special', 'type', 'of', 'hand-spun', 'cloth', 'or', 'silk', ',', 'made', 'popular', 'by', 'Mahatma', 'Gandhi', '.', 'The', 'manufacturing', 'process', 'and', 'specifications', 'for', 'the', 'flag', 'are', 'laid', 'out', 'by', 'the', 'Bureau', 'of', 'Indian', 'Standards', '.', 'The', 'right', 'to', 'manufacture', 'the', 'flag', 'is', 'held', 'by', 'the', 'Khadi', 'Development', 'and', 'Village', 'Industries', 'Commission', ',', 'which', 'allocates', 'it', 'to', 'regional', 'groups', '.', 'As', 'of', ',', 'there', 'are', 'units', 'in', 'India', 'that', 'are', 'licensed', 'to', 'manufacture', 'the', 'flag', '.', 'Usage', 'of', 'the', 'flag', 'is', 'governed', 'by', 'the', 'Flag', 'Code', 'of', 'India', 'and', 'other', 'laws', 'relating', 'to', 'the', 'national', 'emblems', '.', 'The', 'original', 'code', 'prohibited', 'use', 'of', 'the', 'flag', 'by', 'private', 'citizens', 'except', 'on', 'national', 'days', 'such', 'as', 'the', 'Independence', 'day', 'and', 'the', 'Republic', 'Day', '.', 'In', ',', 'on', 'hearing', 'an', 'appeal', 'from', 'a', 'private', 'citizen', ',', 'Naveen', 'Jindal', ',', 'the', 'Supreme', 'Court', 'of', 'India', 'directed', 'the', 'Government', 'of', 'India', 'to', 'amend', 'the', 'code', 'to', 'allow', 'flag', 'usage', 'by', 'private', 'citizens', '.', 'Subsequently', ',', 'the', 'Union', 'Cabinet', 'of', 'India', 'amended', 'the', 'code', 'to', 'allow', 'limited', 'usage', '.', 'The', 'code', 'was', 'amended', 'once', 'more', 'in', 'to', 'allow', 'some', 'additional', 'use', 'including', 'adaptations', 'on', 'certain', 'forms', 'of', 'clothing', '.', 'The', 'flag', 'code', 'also', 'governs', 'the', 'protocol', 'of', 'flying', 'the', 'flag', 'and', 'its', 'use', 'in', 'conjunction', 'with', 'other', 'national', 'and', 'non-national', 'flags', '.']\n"
     ]
    }
   ],
   "source": [
    "print(word)"
   ]
  },
  {
   "cell_type": "code",
   "execution_count": 21,
   "id": "60f9f21a",
   "metadata": {},
   "outputs": [
    {
     "name": "stdout",
     "output_type": "stream",
     "text": [
      "The national flag of India , colloquially called Tiraṅgā ( the tricolour ) , is a horizontal rectangular tricolour flag , the colours being of India saffron , white and India green ; with the Ashoka Chakra , a 24-spoke wheel , in navy blue at its centre . [ ] [ ] It was adopted in its present form during a meeting of the Constituent Assembly held on July , and it became the official flag of the Union of India on August . The flag was subsequently retained as that of the Republic of India . In India , the term `` tricolour '' almost always refers to the Indian national flag . The flag is based on the Swaraj flag , a flag of the Indian National Congress adopted by Mahatma Gandhi after making significant modifications to the design proposed by Pingali Venkayya . [ ] This flag included charkha which was replaced with chakra in by Jawaharlal Nehru . [ ] Before the amendment of the flag code in , the flag was by law only to be made of khadi ; a special type of hand-spun cloth or silk , made popular by Mahatma Gandhi . The manufacturing process and specifications for the flag are laid out by the Bureau of Indian Standards . The right to manufacture the flag is held by the Khadi Development and Village Industries Commission , which allocates it to regional groups . As of , there are units in India that are licensed to manufacture the flag . Usage of the flag is governed by the Flag Code of India and other laws relating to the national emblems . The original code prohibited use of the flag by private citizens except on national days such as the Independence day and the Republic Day . In , on hearing an appeal from a private citizen , Naveen Jindal , the Supreme Court of India directed the Government of India to amend the code to allow flag usage by private citizens . Subsequently , the Union Cabinet of India amended the code to allow limited usage . The code was amended once more in to allow some additional use including adaptations on certain forms of clothing . The flag code also governs the protocol of flying the flag and its use in conjunction with other national and non-national flags .\n"
     ]
    }
   ],
   "source": [
    "print(\" \".join(word))"
   ]
  },
  {
   "cell_type": "code",
   "execution_count": null,
   "id": "6df7e7bb",
   "metadata": {},
   "outputs": [],
   "source": []
  }
 ],
 "metadata": {
  "kernelspec": {
   "display_name": "Python 3 (ipykernel)",
   "language": "python",
   "name": "python3"
  },
  "language_info": {
   "codemirror_mode": {
    "name": "ipython",
    "version": 3
   },
   "file_extension": ".py",
   "mimetype": "text/x-python",
   "name": "python",
   "nbconvert_exporter": "python",
   "pygments_lexer": "ipython3",
   "version": "3.11.4"
  }
 },
 "nbformat": 4,
 "nbformat_minor": 5
}
