{
 "cells": [
  {
   "cell_type": "code",
   "execution_count": 1,
   "id": "6d8a6211",
   "metadata": {},
   "outputs": [
    {
     "name": "stdout",
     "output_type": "stream",
     "text": [
      "Collecting mrcnn\n",
      "  Downloading mrcnn-0.2.tar.gz (51 kB)\n",
      "\u001b[2K     \u001b[38;2;114;156;31m━━━━━━━━━━━━━━━━━━━━━━━━━━━━━━━━━━━━━━━\u001b[0m \u001b[32m51.5/51.5 kB\u001b[0m \u001b[31m266.3 kB/s\u001b[0m eta \u001b[36m0:00:00\u001b[0m eta \u001b[36m0:00:01\u001b[0m\n",
      "\u001b[?25h  Preparing metadata (setup.py) ... \u001b[?25ldone\n",
      "\u001b[?25hBuilding wheels for collected packages: mrcnn\n",
      "  Building wheel for mrcnn (setup.py) ... \u001b[?25ldone\n",
      "\u001b[?25h  Created wheel for mrcnn: filename=mrcnn-0.2-py3-none-any.whl size=54909 sha256=c9123ab38d89067a63ad4a3f402e5095a3c77ac3f2c5e167735ec6d6b38aed44\n",
      "  Stored in directory: /home/dai/.cache/pip/wheels/78/48/79/befdb05914fe17ed22535bc6e0e8f93ce4730aa90aca603270\n",
      "Successfully built mrcnn\n",
      "Installing collected packages: mrcnn\n",
      "Successfully installed mrcnn-0.2\n"
     ]
    }
   ],
   "source": [
    "!pip install mrcnn"
   ]
  },
  {
   "cell_type": "code",
   "execution_count": 2,
   "id": "9392b362",
   "metadata": {},
   "outputs": [],
   "source": [
    "import os,sys,random\n",
    "import numpy as np\n",
    "import matplotlib.pyplot as plt"
   ]
  },
  {
   "cell_type": "code",
   "execution_count": 4,
   "id": "97f906b2",
   "metadata": {},
   "outputs": [
    {
     "name": "stderr",
     "output_type": "stream",
     "text": [
      "/home/dai/anaconda3/lib/python3.11/site-packages/mrcnn/model.py:2337: SyntaxWarning: \"is\" with a literal. Did you mean \"==\"?\n",
      "  if os.name is 'nt':\n"
     ]
    }
   ],
   "source": [
    "from mrcnn.config import Config\n",
    "from mrcnn import model as modellib,utils\n",
    "from mrcnn import visualize"
   ]
  },
  {
   "cell_type": "code",
   "execution_count": 5,
   "id": "92d3863e",
   "metadata": {},
   "outputs": [],
   "source": [
    "class CocoConfig(Config):\n",
    "    # Adjust settings as needed, for example:\n",
    "    NAME=\"coco\" # model name\n",
    "    IMAGES_PER_GPU=2 # Images per GPU during training\n",
    "    NUM_CLASSES=81 # Number of classes (80 for coco)"
   ]
  },
  {
   "cell_type": "code",
   "execution_count": 10,
   "id": "fa6b54e8",
   "metadata": {},
   "outputs": [],
   "source": [
    "import torchvision,torch,cv2\n",
    "from torchvision.models.detection import maskrcnn_resnet50_fpn"
   ]
  },
  {
   "cell_type": "code",
   "execution_count": 14,
   "id": "ec06da97",
   "metadata": {},
   "outputs": [
    {
     "ename": "AttributeError",
     "evalue": "Exception encountered when calling layer \"roi_align_classifier\" (type PyramidROIAlign).\n\nin user code:\n\n    File \"/home/dai/anaconda3/lib/python3.11/site-packages/mrcnn/model.py\", line 390, in call  *\n        roi_level = log2_graph(tf.sqrt(h * w) / (224.0 / tf.sqrt(image_area)))\n    File \"/home/dai/anaconda3/lib/python3.11/site-packages/mrcnn/model.py\", line 341, in log2_graph  *\n        return tf.log(x) / tf.log(2.0)\n\n    AttributeError: module 'tensorflow' has no attribute 'log'\n\n\nCall arguments received by layer \"roi_align_classifier\" (type PyramidROIAlign):\n  • inputs=['tf.Tensor(shape=(2, None, 4), dtype=float32)', 'tf.Tensor(shape=(None, 93), dtype=float32)', 'tf.Tensor(shape=(None, None, None, 256), dtype=float32)', 'tf.Tensor(shape=(None, None, None, 256), dtype=float32)', 'tf.Tensor(shape=(None, None, None, 256), dtype=float32)', 'tf.Tensor(shape=(None, None, None, 256), dtype=float32)']",
     "output_type": "error",
     "traceback": [
      "\u001b[0;31m---------------------------------------------------------------------------\u001b[0m",
      "\u001b[0;31mAttributeError\u001b[0m                            Traceback (most recent call last)",
      "Cell \u001b[0;32mIn[14], line 2\u001b[0m\n\u001b[1;32m      1\u001b[0m \u001b[38;5;66;03m# 3. Load the Model\u001b[39;00m\n\u001b[0;32m----> 2\u001b[0m model \u001b[38;5;241m=\u001b[39m modellib\u001b[38;5;241m.\u001b[39mMaskRCNN(mode\u001b[38;5;241m=\u001b[39m\u001b[38;5;124m\"\u001b[39m\u001b[38;5;124minference\u001b[39m\u001b[38;5;124m\"\u001b[39m, config\u001b[38;5;241m=\u001b[39mCocoConfig(),model_dir\u001b[38;5;241m=\u001b[39m\u001b[38;5;124m\"\u001b[39m\u001b[38;5;124mlogs\u001b[39m\u001b[38;5;124m\"\u001b[39m)\n\u001b[1;32m      3\u001b[0m model\u001b[38;5;241m.\u001b[39mload_weights(\u001b[38;5;124m\"\u001b[39m\u001b[38;5;124mmask_rcnn_coco.h5\u001b[39m\u001b[38;5;124m\"\u001b[39m, by_name\u001b[38;5;241m=\u001b[39m\u001b[38;5;28;01mTrue\u001b[39;00m)\n",
      "File \u001b[0;32m~/anaconda3/lib/python3.11/site-packages/mrcnn/model.py:1832\u001b[0m, in \u001b[0;36mMaskRCNN.__init__\u001b[0;34m(self, mode, config, model_dir)\u001b[0m\n\u001b[1;32m   1830\u001b[0m \u001b[38;5;28mself\u001b[39m\u001b[38;5;241m.\u001b[39mmodel_dir \u001b[38;5;241m=\u001b[39m model_dir\n\u001b[1;32m   1831\u001b[0m \u001b[38;5;28mself\u001b[39m\u001b[38;5;241m.\u001b[39mset_log_dir()\n\u001b[0;32m-> 1832\u001b[0m \u001b[38;5;28mself\u001b[39m\u001b[38;5;241m.\u001b[39mkeras_model \u001b[38;5;241m=\u001b[39m \u001b[38;5;28mself\u001b[39m\u001b[38;5;241m.\u001b[39mbuild(mode\u001b[38;5;241m=\u001b[39mmode, config\u001b[38;5;241m=\u001b[39mconfig)\n",
      "File \u001b[0;32m~/anaconda3/lib/python3.11/site-packages/mrcnn/model.py:2030\u001b[0m, in \u001b[0;36mMaskRCNN.build\u001b[0;34m(self, mode, config)\u001b[0m\n\u001b[1;32m   2025\u001b[0m     model \u001b[38;5;241m=\u001b[39m KM\u001b[38;5;241m.\u001b[39mModel(inputs, outputs, name\u001b[38;5;241m=\u001b[39m\u001b[38;5;124m'\u001b[39m\u001b[38;5;124mmask_rcnn\u001b[39m\u001b[38;5;124m'\u001b[39m)\n\u001b[1;32m   2026\u001b[0m \u001b[38;5;28;01melse\u001b[39;00m:\n\u001b[1;32m   2027\u001b[0m     \u001b[38;5;66;03m# Network Heads\u001b[39;00m\n\u001b[1;32m   2028\u001b[0m     \u001b[38;5;66;03m# Proposal classifier and BBox regressor heads\u001b[39;00m\n\u001b[1;32m   2029\u001b[0m     mrcnn_class_logits, mrcnn_class, mrcnn_bbox \u001b[38;5;241m=\u001b[39m\\\n\u001b[0;32m-> 2030\u001b[0m         fpn_classifier_graph(rpn_rois, mrcnn_feature_maps, input_image_meta,\n\u001b[1;32m   2031\u001b[0m                              config\u001b[38;5;241m.\u001b[39mPOOL_SIZE, config\u001b[38;5;241m.\u001b[39mNUM_CLASSES,\n\u001b[1;32m   2032\u001b[0m                              train_bn\u001b[38;5;241m=\u001b[39mconfig\u001b[38;5;241m.\u001b[39mTRAIN_BN,\n\u001b[1;32m   2033\u001b[0m                              fc_layers_size\u001b[38;5;241m=\u001b[39mconfig\u001b[38;5;241m.\u001b[39mFPN_CLASSIF_FC_LAYERS_SIZE)\n\u001b[1;32m   2035\u001b[0m     \u001b[38;5;66;03m# Detections\u001b[39;00m\n\u001b[1;32m   2036\u001b[0m     \u001b[38;5;66;03m# output is [batch, num_detections, (y1, x1, y2, x2, class_id, score)] in \u001b[39;00m\n\u001b[1;32m   2037\u001b[0m     \u001b[38;5;66;03m# normalized coordinates\u001b[39;00m\n\u001b[1;32m   2038\u001b[0m     detections \u001b[38;5;241m=\u001b[39m DetectionLayer(config, name\u001b[38;5;241m=\u001b[39m\u001b[38;5;124m\"\u001b[39m\u001b[38;5;124mmrcnn_detection\u001b[39m\u001b[38;5;124m\"\u001b[39m)(\n\u001b[1;32m   2039\u001b[0m         [rpn_rois, mrcnn_class, mrcnn_bbox, input_image_meta])\n",
      "File \u001b[0;32m~/anaconda3/lib/python3.11/site-packages/mrcnn/model.py:927\u001b[0m, in \u001b[0;36mfpn_classifier_graph\u001b[0;34m(rois, feature_maps, image_meta, pool_size, num_classes, train_bn, fc_layers_size)\u001b[0m\n\u001b[1;32m    906\u001b[0m \u001b[38;5;250m\u001b[39m\u001b[38;5;124;03m\"\"\"Builds the computation graph of the feature pyramid network classifier\u001b[39;00m\n\u001b[1;32m    907\u001b[0m \u001b[38;5;124;03mand regressor heads.\u001b[39;00m\n\u001b[1;32m    908\u001b[0m \n\u001b[0;32m   (...)\u001b[0m\n\u001b[1;32m    923\u001b[0m \u001b[38;5;124;03m                 proposal boxes\u001b[39;00m\n\u001b[1;32m    924\u001b[0m \u001b[38;5;124;03m\"\"\"\u001b[39;00m\n\u001b[1;32m    925\u001b[0m \u001b[38;5;66;03m# ROI Pooling\u001b[39;00m\n\u001b[1;32m    926\u001b[0m \u001b[38;5;66;03m# Shape: [batch, num_boxes, pool_height, pool_width, channels]\u001b[39;00m\n\u001b[0;32m--> 927\u001b[0m x \u001b[38;5;241m=\u001b[39m PyramidROIAlign([pool_size, pool_size],\n\u001b[1;32m    928\u001b[0m                     name\u001b[38;5;241m=\u001b[39m\u001b[38;5;124m\"\u001b[39m\u001b[38;5;124mroi_align_classifier\u001b[39m\u001b[38;5;124m\"\u001b[39m)([rois, image_meta] \u001b[38;5;241m+\u001b[39m feature_maps)\n\u001b[1;32m    929\u001b[0m \u001b[38;5;66;03m# Two 1024 FC layers (implemented with Conv2D for consistency)\u001b[39;00m\n\u001b[1;32m    930\u001b[0m x \u001b[38;5;241m=\u001b[39m KL\u001b[38;5;241m.\u001b[39mTimeDistributed(KL\u001b[38;5;241m.\u001b[39mConv2D(fc_layers_size, (pool_size, pool_size), padding\u001b[38;5;241m=\u001b[39m\u001b[38;5;124m\"\u001b[39m\u001b[38;5;124mvalid\u001b[39m\u001b[38;5;124m\"\u001b[39m),\n\u001b[1;32m    931\u001b[0m                        name\u001b[38;5;241m=\u001b[39m\u001b[38;5;124m\"\u001b[39m\u001b[38;5;124mmrcnn_class_conv1\u001b[39m\u001b[38;5;124m\"\u001b[39m)(x)\n",
      "File \u001b[0;32m~/anaconda3/lib/python3.11/site-packages/keras/utils/traceback_utils.py:70\u001b[0m, in \u001b[0;36mfilter_traceback.<locals>.error_handler\u001b[0;34m(*args, **kwargs)\u001b[0m\n\u001b[1;32m     67\u001b[0m     filtered_tb \u001b[38;5;241m=\u001b[39m _process_traceback_frames(e\u001b[38;5;241m.\u001b[39m__traceback__)\n\u001b[1;32m     68\u001b[0m     \u001b[38;5;66;03m# To get the full stack trace, call:\u001b[39;00m\n\u001b[1;32m     69\u001b[0m     \u001b[38;5;66;03m# `tf.debugging.disable_traceback_filtering()`\u001b[39;00m\n\u001b[0;32m---> 70\u001b[0m     \u001b[38;5;28;01mraise\u001b[39;00m e\u001b[38;5;241m.\u001b[39mwith_traceback(filtered_tb) \u001b[38;5;28;01mfrom\u001b[39;00m \u001b[38;5;28;01mNone\u001b[39;00m\n\u001b[1;32m     71\u001b[0m \u001b[38;5;28;01mfinally\u001b[39;00m:\n\u001b[1;32m     72\u001b[0m     \u001b[38;5;28;01mdel\u001b[39;00m filtered_tb\n",
      "File \u001b[0;32m/tmp/__autograph_generated_filer812xo_5.py:18\u001b[0m, in \u001b[0;36mouter_factory.<locals>.inner_factory.<locals>.tf__call\u001b[0;34m(self, inputs)\u001b[0m\n\u001b[1;32m     16\u001b[0m image_shape \u001b[38;5;241m=\u001b[39m ag__\u001b[38;5;241m.\u001b[39mconverted_call(ag__\u001b[38;5;241m.\u001b[39mld(parse_image_meta_graph), (ag__\u001b[38;5;241m.\u001b[39mld(image_meta),), \u001b[38;5;28;01mNone\u001b[39;00m, fscope)[\u001b[38;5;124m'\u001b[39m\u001b[38;5;124mimage_shape\u001b[39m\u001b[38;5;124m'\u001b[39m][\u001b[38;5;241m0\u001b[39m]\n\u001b[1;32m     17\u001b[0m image_area \u001b[38;5;241m=\u001b[39m ag__\u001b[38;5;241m.\u001b[39mconverted_call(ag__\u001b[38;5;241m.\u001b[39mld(tf)\u001b[38;5;241m.\u001b[39mcast, (ag__\u001b[38;5;241m.\u001b[39mld(image_shape)[\u001b[38;5;241m0\u001b[39m] \u001b[38;5;241m*\u001b[39m ag__\u001b[38;5;241m.\u001b[39mld(image_shape)[\u001b[38;5;241m1\u001b[39m], ag__\u001b[38;5;241m.\u001b[39mld(tf)\u001b[38;5;241m.\u001b[39mfloat32), \u001b[38;5;28;01mNone\u001b[39;00m, fscope)\n\u001b[0;32m---> 18\u001b[0m roi_level \u001b[38;5;241m=\u001b[39m ag__\u001b[38;5;241m.\u001b[39mconverted_call(ag__\u001b[38;5;241m.\u001b[39mld(log2_graph), (ag__\u001b[38;5;241m.\u001b[39mconverted_call(ag__\u001b[38;5;241m.\u001b[39mld(tf)\u001b[38;5;241m.\u001b[39msqrt, (ag__\u001b[38;5;241m.\u001b[39mld(h) \u001b[38;5;241m*\u001b[39m ag__\u001b[38;5;241m.\u001b[39mld(w),), \u001b[38;5;28;01mNone\u001b[39;00m, fscope) \u001b[38;5;241m/\u001b[39m (\u001b[38;5;241m224.0\u001b[39m \u001b[38;5;241m/\u001b[39m ag__\u001b[38;5;241m.\u001b[39mconverted_call(ag__\u001b[38;5;241m.\u001b[39mld(tf)\u001b[38;5;241m.\u001b[39msqrt, (ag__\u001b[38;5;241m.\u001b[39mld(image_area),), \u001b[38;5;28;01mNone\u001b[39;00m, fscope)),), \u001b[38;5;28;01mNone\u001b[39;00m, fscope)\n\u001b[1;32m     19\u001b[0m roi_level \u001b[38;5;241m=\u001b[39m ag__\u001b[38;5;241m.\u001b[39mconverted_call(ag__\u001b[38;5;241m.\u001b[39mld(tf)\u001b[38;5;241m.\u001b[39mminimum, (\u001b[38;5;241m5\u001b[39m, ag__\u001b[38;5;241m.\u001b[39mconverted_call(ag__\u001b[38;5;241m.\u001b[39mld(tf)\u001b[38;5;241m.\u001b[39mmaximum, (\u001b[38;5;241m2\u001b[39m, \u001b[38;5;241m4\u001b[39m \u001b[38;5;241m+\u001b[39m ag__\u001b[38;5;241m.\u001b[39mconverted_call(ag__\u001b[38;5;241m.\u001b[39mld(tf)\u001b[38;5;241m.\u001b[39mcast, (ag__\u001b[38;5;241m.\u001b[39mconverted_call(ag__\u001b[38;5;241m.\u001b[39mld(tf)\u001b[38;5;241m.\u001b[39mround, (ag__\u001b[38;5;241m.\u001b[39mld(roi_level),), \u001b[38;5;28;01mNone\u001b[39;00m, fscope), ag__\u001b[38;5;241m.\u001b[39mld(tf)\u001b[38;5;241m.\u001b[39mint32), \u001b[38;5;28;01mNone\u001b[39;00m, fscope)), \u001b[38;5;28;01mNone\u001b[39;00m, fscope)), \u001b[38;5;28;01mNone\u001b[39;00m, fscope)\n\u001b[1;32m     20\u001b[0m roi_level \u001b[38;5;241m=\u001b[39m ag__\u001b[38;5;241m.\u001b[39mconverted_call(ag__\u001b[38;5;241m.\u001b[39mld(tf)\u001b[38;5;241m.\u001b[39msqueeze, (ag__\u001b[38;5;241m.\u001b[39mld(roi_level), \u001b[38;5;241m2\u001b[39m), \u001b[38;5;28;01mNone\u001b[39;00m, fscope)\n",
      "File \u001b[0;32m/tmp/__autograph_generated_file_btf2wvn.py:13\u001b[0m, in \u001b[0;36mouter_factory.<locals>.inner_factory.<locals>.tf__log2_graph\u001b[0;34m(x)\u001b[0m\n\u001b[1;32m     11\u001b[0m \u001b[38;5;28;01mtry\u001b[39;00m:\n\u001b[1;32m     12\u001b[0m     do_return \u001b[38;5;241m=\u001b[39m \u001b[38;5;28;01mTrue\u001b[39;00m\n\u001b[0;32m---> 13\u001b[0m     retval_ \u001b[38;5;241m=\u001b[39m ag__\u001b[38;5;241m.\u001b[39mconverted_call(ag__\u001b[38;5;241m.\u001b[39mld(tf)\u001b[38;5;241m.\u001b[39mlog, (ag__\u001b[38;5;241m.\u001b[39mld(x),), \u001b[38;5;28;01mNone\u001b[39;00m, fscope) \u001b[38;5;241m/\u001b[39m ag__\u001b[38;5;241m.\u001b[39mconverted_call(ag__\u001b[38;5;241m.\u001b[39mld(tf)\u001b[38;5;241m.\u001b[39mlog, (\u001b[38;5;241m2.0\u001b[39m,), \u001b[38;5;28;01mNone\u001b[39;00m, fscope)\n\u001b[1;32m     14\u001b[0m \u001b[38;5;28;01mexcept\u001b[39;00m:\n\u001b[1;32m     15\u001b[0m     do_return \u001b[38;5;241m=\u001b[39m \u001b[38;5;28;01mFalse\u001b[39;00m\n",
      "\u001b[0;31mAttributeError\u001b[0m: Exception encountered when calling layer \"roi_align_classifier\" (type PyramidROIAlign).\n\nin user code:\n\n    File \"/home/dai/anaconda3/lib/python3.11/site-packages/mrcnn/model.py\", line 390, in call  *\n        roi_level = log2_graph(tf.sqrt(h * w) / (224.0 / tf.sqrt(image_area)))\n    File \"/home/dai/anaconda3/lib/python3.11/site-packages/mrcnn/model.py\", line 341, in log2_graph  *\n        return tf.log(x) / tf.log(2.0)\n\n    AttributeError: module 'tensorflow' has no attribute 'log'\n\n\nCall arguments received by layer \"roi_align_classifier\" (type PyramidROIAlign):\n  • inputs=['tf.Tensor(shape=(2, None, 4), dtype=float32)', 'tf.Tensor(shape=(None, 93), dtype=float32)', 'tf.Tensor(shape=(None, None, None, 256), dtype=float32)', 'tf.Tensor(shape=(None, None, None, 256), dtype=float32)', 'tf.Tensor(shape=(None, None, None, 256), dtype=float32)', 'tf.Tensor(shape=(None, None, None, 256), dtype=float32)']"
     ]
    }
   ],
   "source": [
    "# 3. Load the Model\n",
    "model = modellib.MaskRCNN(mode=\"inference\", config=CocoConfig(),model_dir=\"logs\")\n",
    "model.load_weights(\"mask_rcnn_coco.h5\", by_name=True) # Load pre-trained COCO weights"
   ]
  },
  {
   "cell_type": "code",
   "execution_count": 13,
   "id": "13917193",
   "metadata": {},
   "outputs": [
    {
     "ename": "AttributeError",
     "evalue": "module 'mrcnn.utils' has no attribute 'load_image'",
     "output_type": "error",
     "traceback": [
      "\u001b[0;31m---------------------------------------------------------------------------\u001b[0m",
      "\u001b[0;31mAttributeError\u001b[0m                            Traceback (most recent call last)",
      "Cell \u001b[0;32mIn[13], line 2\u001b[0m\n\u001b[1;32m      1\u001b[0m \u001b[38;5;66;03m# 4. Prepare an image:\u001b[39;00m\n\u001b[0;32m----> 2\u001b[0m image \u001b[38;5;241m=\u001b[39m utils\u001b[38;5;241m.\u001b[39mload_image(\u001b[38;5;124m\"\u001b[39m\u001b[38;5;124mdog.jpg\u001b[39m\u001b[38;5;124m\"\u001b[39m)\n\u001b[1;32m      3\u001b[0m results \u001b[38;5;241m=\u001b[39m model\u001b[38;5;241m.\u001b[39mdetect([image], verbose\u001b[38;5;241m=\u001b[39m\u001b[38;5;241m1\u001b[39m)\n",
      "\u001b[0;31mAttributeError\u001b[0m: module 'mrcnn.utils' has no attribute 'load_image'"
     ]
    }
   ],
   "source": [
    "# 4. Prepare an image:\n",
    "image = utils.load_image(\"dog.jpg\")\n",
    "results = model.detect([image], verbose=1)"
   ]
  },
  {
   "cell_type": "code",
   "execution_count": 9,
   "id": "c6455218",
   "metadata": {},
   "outputs": [
    {
     "ename": "NameError",
     "evalue": "name 'results' is not defined",
     "output_type": "error",
     "traceback": [
      "\u001b[0;31m---------------------------------------------------------------------------\u001b[0m",
      "\u001b[0;31mNameError\u001b[0m                                 Traceback (most recent call last)",
      "Cell \u001b[0;32mIn[9], line 2\u001b[0m\n\u001b[1;32m      1\u001b[0m \u001b[38;5;66;03m#5. Visualize results:\u001b[39;00m\n\u001b[0;32m----> 2\u001b[0m r \u001b[38;5;241m=\u001b[39m results[\u001b[38;5;241m0\u001b[39m]\n\u001b[1;32m      3\u001b[0m visualize\u001b[38;5;241m.\u001b[39mdisplay_instances(image, r[\u001b[38;5;124m'\u001b[39m\u001b[38;5;124mrois\u001b[39m\u001b[38;5;124m'\u001b[39m], r[\u001b[38;5;124m'\u001b[39m\u001b[38;5;124mmasks\u001b[39m\u001b[38;5;124m'\u001b[39m], r[\u001b[38;5;124m'\u001b[39m\u001b[38;5;124mclass_ids\u001b[39m\u001b[38;5;124m'\u001b[39m],\n\u001b[1;32m      4\u001b[0m class_names, r[\u001b[38;5;124m'\u001b[39m\u001b[38;5;124mscores\u001b[39m\u001b[38;5;124m'\u001b[39m])\n",
      "\u001b[0;31mNameError\u001b[0m: name 'results' is not defined"
     ]
    }
   ],
   "source": [
    "#5. Visualize results:\n",
    "r = results[0]\n",
    "visualize.display_instances(image, r['rois'], r['masks'], r['class_ids'],\n",
    "class_names, r['scores'])"
   ]
  },
  {
   "cell_type": "code",
   "execution_count": null,
   "id": "d05a62db",
   "metadata": {},
   "outputs": [],
   "source": []
  }
 ],
 "metadata": {
  "kernelspec": {
   "display_name": "Python 3 (ipykernel)",
   "language": "python",
   "name": "python3"
  },
  "language_info": {
   "codemirror_mode": {
    "name": "ipython",
    "version": 3
   },
   "file_extension": ".py",
   "mimetype": "text/x-python",
   "name": "python",
   "nbconvert_exporter": "python",
   "pygments_lexer": "ipython3",
   "version": "3.11.4"
  }
 },
 "nbformat": 4,
 "nbformat_minor": 5
}
