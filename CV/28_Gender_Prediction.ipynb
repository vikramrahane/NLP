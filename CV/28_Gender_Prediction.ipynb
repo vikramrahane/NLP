{
 "cells": [
  {
   "cell_type": "code",
   "execution_count": 1,
   "metadata": {
    "colab": {
     "base_uri": "https://localhost:8080/"
    },
    "id": "Xg9Dbz-1LHXX",
    "outputId": "1904f823-685c-4804-a74e-d2ebf03d0cb6",
    "scrolled": true
   },
   "outputs": [
    {
     "name": "stdout",
     "output_type": "stream",
     "text": [
      "Requirement already satisfied: cvlib in /home/dai/anaconda3/lib/python3.11/site-packages (0.2.7)\n",
      "Requirement already satisfied: numpy in /home/dai/anaconda3/lib/python3.11/site-packages (from cvlib) (1.23.5)\n",
      "Requirement already satisfied: progressbar in /home/dai/anaconda3/lib/python3.11/site-packages (from cvlib) (2.5)\n",
      "Requirement already satisfied: requests in /home/dai/anaconda3/lib/python3.11/site-packages (from cvlib) (2.31.0)\n",
      "Requirement already satisfied: pillow in /home/dai/anaconda3/lib/python3.11/site-packages (from cvlib) (9.4.0)\n",
      "Requirement already satisfied: imageio in /home/dai/anaconda3/lib/python3.11/site-packages (from cvlib) (2.32.0)\n",
      "Requirement already satisfied: imutils in /home/dai/anaconda3/lib/python3.11/site-packages (from cvlib) (0.5.4)\n",
      "Requirement already satisfied: charset-normalizer<4,>=2 in /home/dai/anaconda3/lib/python3.11/site-packages (from requests->cvlib) (2.0.4)\n",
      "Requirement already satisfied: idna<4,>=2.5 in /home/dai/anaconda3/lib/python3.11/site-packages (from requests->cvlib) (3.4)\n",
      "Requirement already satisfied: urllib3<3,>=1.21.1 in /home/dai/anaconda3/lib/python3.11/site-packages (from requests->cvlib) (1.26.16)\n",
      "Requirement already satisfied: certifi>=2017.4.17 in /home/dai/anaconda3/lib/python3.11/site-packages (from requests->cvlib) (2023.7.22)\n"
     ]
    }
   ],
   "source": [
    "!pip install cvlib"
   ]
  },
  {
   "cell_type": "code",
   "execution_count": 2,
   "metadata": {
    "scrolled": true
   },
   "outputs": [
    {
     "name": "stdout",
     "output_type": "stream",
     "text": [
      "Requirement already satisfied: keras in /home/dai/anaconda3/lib/python3.11/site-packages (2.15.0)\n",
      "Note: you may need to restart the kernel to use updated packages.\n"
     ]
    }
   ],
   "source": [
    "pip install keras"
   ]
  },
  {
   "cell_type": "code",
   "execution_count": 3,
   "metadata": {
    "id": "6A3UKTvNLS1G"
   },
   "outputs": [
    {
     "name": "stderr",
     "output_type": "stream",
     "text": [
      "2023-12-29 12:25:36.882569: I tensorflow/core/util/port.cc:113] oneDNN custom operations are on. You may see slightly different numerical results due to floating-point round-off errors from different computation orders. To turn them off, set the environment variable `TF_ENABLE_ONEDNN_OPTS=0`.\n",
      "2023-12-29 12:25:36.925781: E external/local_xla/xla/stream_executor/cuda/cuda_dnn.cc:9261] Unable to register cuDNN factory: Attempting to register factory for plugin cuDNN when one has already been registered\n",
      "2023-12-29 12:25:36.925816: E external/local_xla/xla/stream_executor/cuda/cuda_fft.cc:607] Unable to register cuFFT factory: Attempting to register factory for plugin cuFFT when one has already been registered\n",
      "2023-12-29 12:25:36.926900: E external/local_xla/xla/stream_executor/cuda/cuda_blas.cc:1515] Unable to register cuBLAS factory: Attempting to register factory for plugin cuBLAS when one has already been registered\n",
      "2023-12-29 12:25:36.933743: I tensorflow/core/platform/cpu_feature_guard.cc:182] This TensorFlow binary is optimized to use available CPU instructions in performance-critical operations.\n",
      "To enable the following instructions: AVX2 AVX512F AVX512_VNNI FMA, in other operations, rebuild TensorFlow with the appropriate compiler flags.\n",
      "2023-12-29 12:25:38.010433: W tensorflow/compiler/tf2tensorrt/utils/py_utils.cc:38] TF-TRT Warning: Could not find TensorRT\n"
     ]
    }
   ],
   "source": [
    "# import necessory package\n",
    "from keras.preprocessing.image import img_to_array\n",
    "from keras .models import load_model\n",
    "from keras.utils import get_file\n",
    "import numpy as np\n",
    "import matplotlib.pyplot as plt\n",
    "import cv2,os\n",
    "import cvlib as cv"
   ]
  },
  {
   "cell_type": "code",
   "execution_count": 4,
   "metadata": {
    "colab": {
     "base_uri": "https://localhost:8080/",
     "height": 444
    },
    "id": "n5nGcRBpMQ1e",
    "outputId": "b0e2799e-dc76-400d-cbec-5f0f0d442e0f"
   },
   "outputs": [],
   "source": [
    "# download pretrained model file (one time download)\n",
    "model=load_model('gender_detection.model')"
   ]
  },
  {
   "cell_type": "code",
   "execution_count": 16,
   "metadata": {
    "id": "CMloFe_xM2V2"
   },
   "outputs": [],
   "source": [
    "# read input image\n",
    "image=cv2.imread('he.jpg')\n",
    "image=cv2.cvtColor(image,cv2.COLOR_BGR2RGB)"
   ]
  },
  {
   "cell_type": "code",
   "execution_count": 17,
   "metadata": {
    "id": "hOAAdwSuNOut"
   },
   "outputs": [],
   "source": [
    "# detect faces in the image\n",
    "face, confidence=cv.detect_face(image)"
   ]
  },
  {
   "cell_type": "code",
   "execution_count": 18,
   "metadata": {
    "id": "Wcq-1RaVNaw2"
   },
   "outputs": [
    {
     "data": {
      "text/plain": [
       "[[175, 228, 509, 693]]"
      ]
     },
     "execution_count": 18,
     "metadata": {},
     "output_type": "execute_result"
    }
   ],
   "source": [
    "face"
   ]
  },
  {
   "cell_type": "code",
   "execution_count": 19,
   "metadata": {
    "id": "_1tsPRi9NpgO"
   },
   "outputs": [],
   "source": [
    "classes=['man','woman']"
   ]
  },
  {
   "cell_type": "code",
   "execution_count": 20,
   "metadata": {
    "id": "xikpvk7GNuBl"
   },
   "outputs": [
    {
     "name": "stdout",
     "output_type": "stream",
     "text": [
      "1/1 [==============================] - 0s 26ms/step\n",
      "[0.968476  0.0305328]\n",
      "['man', 'woman']\n"
     ]
    }
   ],
   "source": [
    "# loop through detected faces\n",
    "for idx, f in enumerate(face):\n",
    "  # get corner points of face rectangle\n",
    "  (startX,startY)=f[0],f[1]\n",
    "  (endX,endY)=f[2],f[3]\n",
    "\n",
    "  # draw rectangle over face\n",
    "  cv2.rectangle(image,(startX,startY),(endX,endY),(0,255,0),2)\n",
    "  # crop detected face region\n",
    "  face_crop=np.copy(image[startY:endY,startX:endX])\n",
    "  # preprocessing for gender detection model\n",
    "  face_crop=cv2.resize(face_crop,(96,96))\n",
    "  face_crop=face_crop.astype(\"float\")/255.0\n",
    "  face_crop=img_to_array(face_crop)\n",
    "  face_crop=np.expand_dims(face_crop,axis=0)\n",
    "\n",
    "  # apply gender detection on face\n",
    "  conf=model.predict(face_crop)[0]\n",
    "  print(conf)\n",
    "  print(classes)\n",
    "\n",
    "  # get label with max accuracy\n",
    "  idx=np.argmax(conf)\n",
    "  label=classes[idx]\n",
    "\n",
    "  label=\"{}: {:.2f}%\".format(label,conf[idx]*100)\n",
    "\n",
    "  Y=startY-10 if startY-10>10 else startY+10\n",
    "\n",
    "  # write label and confidence above face rectangle\n",
    "  cv2.putText(image,label,(startX,Y),cv2.FONT_HERSHEY_SIMPLEX,0.7,(0,255,0),2)"
   ]
  },
  {
   "cell_type": "code",
   "execution_count": null,
   "metadata": {},
   "outputs": [],
   "source": []
  }
 ],
 "metadata": {
  "colab": {
   "provenance": []
  },
  "kernelspec": {
   "display_name": "Python 3 (ipykernel)",
   "language": "python",
   "name": "python3"
  },
  "language_info": {
   "codemirror_mode": {
    "name": "ipython",
    "version": 3
   },
   "file_extension": ".py",
   "mimetype": "text/x-python",
   "name": "python",
   "nbconvert_exporter": "python",
   "pygments_lexer": "ipython3",
   "version": "3.11.4"
  }
 },
 "nbformat": 4,
 "nbformat_minor": 1
}
